{
 "cells": [
  {
   "cell_type": "code",
   "execution_count": 15,
   "id": "weekly-montana",
   "metadata": {},
   "outputs": [],
   "source": [
    "#-- import modules --\n",
    "\n",
    "import numpy as np\n",
    "import matplotlib.pyplot as plt\n",
    "import time\n",
    "\n",
    "from pycbc.detector import add_detector_on_earth\n",
    "from pycbc.waveform import get_waveform_filter_length_in_time as duration\n",
    "from pycbc.psd.analytical import aLIGOAPlusDesignSensitivityT1800042, AdVDesignSensitivityP1200087, KAGRADesignSensitivityT1600593, KAGRA, AdvVirgo\n",
    "from pycbc.psd.analytical import aLIGODesignSensitivityP1200087\n",
    "from pycbc.cosmology import redshift\n",
    "from pycbc.types.frequencyseries import load_frequencyseries\n",
    "from pycbc.noise.gaussian import frequency_noise_from_psd\n",
    "from pycbc.waveform.generator import FDomainCBCGenerator, FDomainDetFrameGenerator\n",
    "from pycbc.waveform import get_fd_waveform\n",
    "from pycbc.filter import matched_filter\n",
    "from pycbc.detector import Detector, get_available_detectors\n",
    "from pycbc.filter import sigma\n",
    "from pycbc.conversions import eta_from_mass1_mass2\n",
    "import scipy.integrate as integrate\n",
    "from pycbc.pnutils import f_SchwarzISCO\n",
    "from pycbc.conversions import mchirp_from_mass1_mass2"
   ]
  },
  {
   "cell_type": "code",
   "execution_count": 16,
   "id": "first-budapest",
   "metadata": {},
   "outputs": [],
   "source": [
    "#-- adding LIGO India to PyCBC detectors --\n",
    "\n",
    "add_detector_on_earth(name='A0', longitude=1.34444215058, latitude=0.34231676739,\\\n",
    "                      yangle=4.23039066080, xangle=5.80120119264, height=440) "
   ]
  },
  {
   "cell_type": "code",
   "execution_count": 17,
   "id": "another-muscle",
   "metadata": {},
   "outputs": [],
   "source": [
    "#-- intrinsic source parameters -- \n",
    "    \n",
    "m1_src = 1.4  # mass1\n",
    "m2_src = 1.4  # mass2\n",
    "s1z = 0   # chi_1z\n",
    "s2z = 0   # chi_2z"
   ]
  },
  {
   "cell_type": "code",
   "execution_count": 18,
   "id": "featured-bunch",
   "metadata": {},
   "outputs": [
    {
     "data": {
      "text/plain": [
       "array(1117.54475577)"
      ]
     },
     "execution_count": 18,
     "metadata": {},
     "output_type": "execute_result"
    }
   ],
   "source": [
    "#-- Checking what minimum \"segLen\" should be chosen for generating the signal --\n",
    "\n",
    "fLow = 10       # Hz\n",
    "signal_length = duration(approximant='IMRPhenomD', mass1=m1_src, mass2=m2_src, f_lower=fLow)\n",
    "\n",
    "signal_length   # secs"
   ]
  },
  {
   "cell_type": "markdown",
   "id": "alive-density",
   "metadata": {},
   "source": [
    "### $\\Rightarrow$ PSDs taken"
   ]
  },
  {
   "cell_type": "markdown",
   "id": "classical-insert",
   "metadata": {},
   "source": [
    "Reference: https://dcc.ligo.org/LIGO-T2000012/public"
   ]
  },
  {
   "cell_type": "code",
   "execution_count": 19,
   "id": "individual-european",
   "metadata": {},
   "outputs": [],
   "source": [
    "#-- Choosing O4 PSD for LIGO India --\n",
    "\n",
    "psd_base_path = ''                        #-- choose base path according to the location of PSD files --\n",
    "\n",
    "ifos = ['L1', 'H1', 'V1', 'K1', 'A0']\n",
    "\n",
    "psds = {}\n",
    "\n",
    "for ifo in ifos:\n",
    "    \n",
    "    if(ifo=='V1'):\n",
    "        \n",
    "        psds[ifo] = load_frequencyseries(psd_base_path+'PSD_Virgo_10Hz_to_2048Hz_nonzero.txt')\n",
    "        \n",
    "    elif(ifo=='K1'):\n",
    "        \n",
    "        psds[ifo] = load_frequencyseries(psd_base_path+'PSD_KAGRA_10Hz_to_2048Hz_nonzero.txt')\n",
    "        \n",
    "    elif(ifo=='A0'):\n",
    "        \n",
    "        psds[ifo] = load_frequencyseries(psd_base_path+'PSD_O4_10Hz_to_2048Hz_nonzero.txt')\n",
    "        \n",
    "    else:\n",
    "        \n",
    "        psds[ifo] = load_frequencyseries(psd_base_path+'PSD_O5_10Hz_to_2048Hz_nonzero.txt')"
   ]
  },
  {
   "cell_type": "markdown",
   "id": "neutral-clause",
   "metadata": {},
   "source": [
    "### $\\Rightarrow$ Horizon Distance"
   ]
  },
  {
   "cell_type": "markdown",
   "id": "comfortable-spelling",
   "metadata": {},
   "source": [
    "#### Reference: https://arxiv.org/pdf/1003.2481.pdf"
   ]
  },
  {
   "cell_type": "markdown",
   "id": "enabling-garlic",
   "metadata": {},
   "source": [
    "$$D = \\frac{1}{\\rho}\\Big(\\frac{5\\pi}{24c^3}\\Big)^{\\frac{1}{2}} \\Big(G\\mathcal{M}_c\\Big)^{\\frac{5}{6}} \\pi^{-\\frac{7}{6}} \\Big(\\int^{{f_{high}}}_{f_{low}}  \\frac{f^{-7/3}}{S_n(f)}df \\Big)^{1/2}  \\tag{1}$$"
   ]
  },
  {
   "cell_type": "code",
   "execution_count": 20,
   "id": "separate-penny",
   "metadata": {},
   "outputs": [],
   "source": [
    "#-- constants --\n",
    "\n",
    "m_solar = 1.989e+30     # kg\n",
    "c = 299792458           # m/s\n",
    "G = 6.6743e-11          # m^3 kg^-1 sec^-2"
   ]
  },
  {
   "cell_type": "code",
   "execution_count": 23,
   "id": "mobile-salmon",
   "metadata": {},
   "outputs": [],
   "source": [
    "#-- Waveform Approximants used --\n",
    "\n",
    "inj_approx = 'IMRPhenomD'\n",
    "recover_approx = 'TaylorF2'"
   ]
  },
  {
   "cell_type": "code",
   "execution_count": 24,
   "id": "resistant-first",
   "metadata": {},
   "outputs": [],
   "source": [
    "#-- multiplication factors --\n",
    "\n",
    "mc = mchirp_from_mass1_mass2(m1_src, m2_src)\n",
    "\n",
    "factor_1 = ((5*np.pi)/(24*(c**3)))**0.5\n",
    "\n",
    "factor_2 = (mc*m_solar*G)**(5/6)     \n",
    "\n",
    "factor_3 = np.pi**(-7/6)"
   ]
  },
  {
   "cell_type": "code",
   "execution_count": 25,
   "id": "warming-heather",
   "metadata": {},
   "outputs": [],
   "source": [
    "def horizon_distance_calc(ifo, psds, f_lower, snr, **kwargs):\n",
    "    \n",
    "    \"\"\"\n",
    "    Function to evaluate horizon distance for a detector with a PSD (corresponding to a CBC system)\n",
    "    \n",
    "    ifo    : interferometer\n",
    "    psd    : PSD of the interferometer\n",
    "    f_lower: lower frequency cutoff \n",
    "    kwargs : m1 and m2 as per CBC\n",
    "    \n",
    "    Return : Horizon Distance\n",
    "    \"\"\"\n",
    "    \n",
    "    #-- loading quarks --\n",
    "    \n",
    "    m1_src = kwargs['m1_src'] \n",
    "    m2_src = kwargs['m2_src']\n",
    "    \n",
    "    #-- defining basic parameters/factors --\n",
    "    \n",
    "    mc = mchirp_from_mass1_mass2(m1_src, m2_src)\n",
    "\n",
    "    factor_1 = ((5*np.pi)/(24*(c**3)))**0.5\n",
    "\n",
    "    factor_2 = (mc*m_solar*G)**(5/6)     \n",
    "\n",
    "    factor_3 = np.pi**(-7/6)\n",
    "    \n",
    "    #-- psd IFO --\n",
    "    \n",
    "    f_h = f_SchwarzISCO(m1_src+m2_src)     # Hz\n",
    "    \n",
    "    #-- horizon distance --\n",
    "    horizon_distance_dict = {}\n",
    "    \n",
    "    for ifo in ifos: \n",
    "        \n",
    "        #-- calculation of integral --\n",
    "        psd_ifo = ifo\n",
    "\n",
    "        idx_low = np.where(psds[psd_ifo].sample_frequencies.data>=fLow)[0]\n",
    "\n",
    "        idx_high = np.where(psds[psd_ifo].sample_frequencies.data<=f_h)[0]\n",
    "\n",
    "        # choosing the relevant part\n",
    "        psd_sample_freq = np.array(psds[psd_ifo].sample_frequencies.data[idx_low[0]:idx_high[-1]])\n",
    "\n",
    "        psd_eff = np.array(psds[psd_ifo].data[idx_low[0]:idx_high[-1]])\n",
    "\n",
    "\n",
    "        def integrand(i):\n",
    "\n",
    "            Int1 = psd_sample_freq[i]**(-7/3)\n",
    "            Int2 = Int1/psd_eff[i]\n",
    "\n",
    "            return Int2\n",
    "\n",
    "        #-- integrating eq.(1) --\n",
    "        Int = 0\n",
    "\n",
    "        for i in range(len(psd_sample_freq)):\n",
    "\n",
    "            Int += integrand(i) \n",
    "\n",
    "        Final_Int = Int  * (psd_sample_freq[1] - psd_sample_freq[0])\n",
    "\n",
    "        #-- final factor --\n",
    "\n",
    "        factor_4 = (4*Final_Int)**(0.5)    \n",
    "\n",
    "        #-- horizon distance --\n",
    "\n",
    "        d = (1/snr) * factor_1 * factor_2 * factor_3 * factor_4   #--meters\n",
    "\n",
    "        meters_to_Mpc = 3.24078e-23  \n",
    "\n",
    "        d_h = d*meters_to_Mpc     #Mpc\n",
    "\n",
    "        horizon_distance_dict[ifo] = d_h\n",
    "\n",
    "        print('Horizon Distance for {} is {}'.format(psd_ifo, d_h))\n",
    "    \n",
    "    return horizon_distance_dict"
   ]
  },
  {
   "cell_type": "code",
   "execution_count": 26,
   "id": "realistic-arbor",
   "metadata": {},
   "outputs": [
    {
     "name": "stdout",
     "output_type": "stream",
     "text": [
      "Horizon Distance for L1 is 784.357108183325\n",
      "Horizon Distance for H1 is 784.357108183325\n",
      "Horizon Distance for V1 is 343.61452169698987\n",
      "Horizon Distance for K1 is 180.91479051030404\n",
      "Horizon Distance for A0 is 381.50144599515613\n"
     ]
    }
   ],
   "source": [
    "#-- for all detectors --\n",
    "\n",
    "kwargs = dict(m1_src=m1_src, m2_src=m2_src)\n",
    "snr_cutoff = 8\n",
    "\n",
    "horizon_distance_dict = horizon_distance_calc(ifo=ifos, psds=psds, f_lower=10, snr=snr_cutoff, **kwargs)"
   ]
  },
  {
   "cell_type": "markdown",
   "id": "lasting-courage",
   "metadata": {},
   "source": [
    "## Sensemon Range\n",
    "\n",
    "By definition, For lower redshifts (z <∼ 1), the sensemon range is approximately equal to the horizon distance divided by 2.264 \n",
    "\n",
    "Reference: 1) https://arxiv.org/pdf/1003.2481.pdf , 2) https://arxiv.org/pdf/1709.08079.pdf\n",
    "                  "
   ]
  },
  {
   "cell_type": "code",
   "execution_count": 29,
   "id": "derived-equation",
   "metadata": {},
   "outputs": [],
   "source": [
    "sensemon_range_dict = {}\n",
    "\n",
    "for ifo in ifos:\n",
    "    \n",
    "    sensemon_range_dict[ifo] = horizon_distance_dict[ifo]/2.264"
   ]
  },
  {
   "cell_type": "code",
   "execution_count": 30,
   "id": "adjusted-agriculture",
   "metadata": {},
   "outputs": [
    {
     "data": {
      "text/plain": [
       "{'L1': 346.44748594669835,\n",
       " 'H1': 346.44748594669835,\n",
       " 'V1': 151.7731986294125,\n",
       " 'K1': 79.90935976603537,\n",
       " 'A0': 168.5077058282492}"
      ]
     },
     "execution_count": 30,
     "metadata": {},
     "output_type": "execute_result"
    }
   ],
   "source": [
    "sensemon_range_dict"
   ]
  },
  {
   "cell_type": "markdown",
   "id": "informed-proposal",
   "metadata": {},
   "source": [
    "### Note: The sensemon ranges obtained here are in the same range as quoted in the reference: https://dcc.ligo.org/public/0094/P1200087/058/ObservingScenarios.pdf"
   ]
  },
  {
   "cell_type": "code",
   "execution_count": null,
   "id": "another-helicopter",
   "metadata": {},
   "outputs": [],
   "source": []
  }
 ],
 "metadata": {
  "kernelspec": {
   "display_name": "pycbc_env",
   "language": "python",
   "name": "pycbc_env"
  },
  "language_info": {
   "codemirror_mode": {
    "name": "ipython",
    "version": 3
   },
   "file_extension": ".py",
   "mimetype": "text/x-python",
   "name": "python",
   "nbconvert_exporter": "python",
   "pygments_lexer": "ipython3",
   "version": "3.8.5"
  }
 },
 "nbformat": 4,
 "nbformat_minor": 5
}
