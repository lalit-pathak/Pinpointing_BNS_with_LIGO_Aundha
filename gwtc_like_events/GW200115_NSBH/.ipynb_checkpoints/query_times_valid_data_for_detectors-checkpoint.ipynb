{
 "cells": [
  {
   "cell_type": "markdown",
   "id": "native-phase",
   "metadata": {},
   "source": [
    "## $\\Rightarrow$This notebook describes how can we get the time duration when a particular GW detector is contributing to the observing run i.e. collecting the GW-strain data"
   ]
  },
  {
   "cell_type": "markdown",
   "id": "bridal-balance",
   "metadata": {},
   "source": [
    "Reference: http://pycbc.org/pycbc/latest/html/dataquality.html#determine-the-times-an-instrument-has-valid-data"
   ]
  },
  {
   "cell_type": "markdown",
   "id": "technological-realtor",
   "metadata": {},
   "source": [
    "<br>"
   ]
  },
  {
   "cell_type": "code",
   "execution_count": 2,
   "id": "consecutive-ordinance",
   "metadata": {},
   "outputs": [],
   "source": [
    "#-- import modules --\n",
    "\n",
    "import numpy as np\n",
    "import matplotlib.pyplot as plt\n",
    "\n",
    "from pycbc import dq\n",
    "from pycbc.results import ifo_color"
   ]
  },
  {
   "cell_type": "markdown",
   "id": "faced-checkout",
   "metadata": {},
   "source": [
    "### Here we look for the query times of Detectors for GW200115 event"
   ]
  },
  {
   "cell_type": "code",
   "execution_count": 5,
   "id": "warming-linux",
   "metadata": {},
   "outputs": [
    {
     "name": "stderr",
     "output_type": "stream",
     "text": [
      "No artists with labels found to put in legend.  Note that artists whose label start with an underscore are ignored when legend() is called with no argument.\n"
     ]
    },
    {
     "data": {
      "image/png": "[encoded data removed]",
      "text/plain": [
       "<Figure size 1000x400 with 1 Axes>"
      ]
     },
     "metadata": {},
     "output_type": "display_data"
    }
   ],
   "source": [
    "#-- we start from 10000 secs before the trigTime of GW190425 and till 10000 secs after the trigTime \n",
    "#-- in all we query for 20000 seconds of the data --\n",
    "\n",
    "trigTime = 1263097407   # secs        (to be precise it was recorded to be 1263097407.7 LIGO GPS secs)\n",
    "\n",
    "query_pre_tc = 1000     # secs\n",
    "query_post_tc = 10000    # secs\n",
    "\n",
    "start_time = trigTime - query_pre_tc \n",
    "end_time = trigTime + query_post_tc\n",
    "\n",
    "# Get times that the Hanford detector has data\n",
    "hsegs = dq.query_flag('H1', 'DATA', start_time, end_time)\n",
    "\n",
    "# Get times that the Livingston detector has data\n",
    "lsegs = dq.query_flag('L1', 'DATA', start_time, end_time)\n",
    "\n",
    "# Get times that the Livingston detector has data\n",
    "vsegs = dq.query_flag('V1', 'DATA', start_time, end_time)\n",
    "\n",
    "\n",
    "# plots \n",
    "\n",
    "plt.figure(figsize=[10,4])\n",
    "\n",
    "for seg in lsegs:\n",
    "    start, end = seg\n",
    "    plt.axvspan(start, end, color=ifo_color('L1'), ymin=0.05, ymax=0.3, label='L1')\n",
    "\n",
    "for seg in hsegs:\n",
    "    start, end = seg\n",
    "    plt.axvspan(start, end, color=ifo_color('H1'), ymin=0.4, ymax=0.7, label='H1')\n",
    "    \n",
    "for seg in vsegs:\n",
    "    start, end = seg\n",
    "    plt.axvspan(start, end, color=ifo_color('V1'), ymin=0.8, ymax=0.98, , label='V1')\n",
    "    \n",
    "plt.axvline(x=trigTime, ls='--', c='k')\n",
    "plt.legend()\n",
    "plt.xlabel('Time (s)')\n",
    "plt.show()"
   ]
  },
  {
   "cell_type": "markdown",
   "id": "fantastic-seller",
   "metadata": {},
   "source": [
    "### Note for the colors and corresponding detectors \n",
    "\n",
    "* L1 : Blue\n",
    "\n",
    "* H1 : Red\n",
    "\n",
    "* V1 : Violet"
   ]
  },
  {
   "cell_type": "code",
   "execution_count": null,
   "id": "synthetic-evolution",
   "metadata": {},
   "outputs": [],
   "source": []
  }
 ],
 "metadata": {
  "kernelspec": {
   "display_name": "pycbc_env",
   "language": "python",
   "name": "pycbc_env"
  },
  "language_info": {
   "codemirror_mode": {
    "name": "ipython",
    "version": 3
   },
   "file_extension": ".py",
   "mimetype": "text/x-python",
   "name": "python",
   "nbconvert_exporter": "python",
   "pygments_lexer": "ipython3",
   "version": "3.8.5"
  }
 },
 "nbformat": 4,
 "nbformat_minor": 5
}
