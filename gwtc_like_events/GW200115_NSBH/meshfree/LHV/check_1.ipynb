{
 "cells": [
  {
   "cell_type": "code",
   "execution_count": 12,
   "id": "pressed-space",
   "metadata": {},
   "outputs": [],
   "source": [
    "# import modules \n",
    "from pycbc.waveform import get_waveform_filter_length_in_time as duration\n",
    "\n",
    "import numpy as np\n",
    "import matplotlib.pyplot as plt\n",
    "from pycbc.waveform.generator import FDomainDetFrameGenerator, FDomainCBCGenerator"
   ]
  },
  {
   "cell_type": "code",
   "execution_count": 55,
   "id": "durable-florist",
   "metadata": {},
   "outputs": [
    {
     "data": {
      "text/plain": [
       "array(50.27989439)"
      ]
     },
     "execution_count": 55,
     "metadata": {},
     "output_type": "execute_result"
    }
   ],
   "source": [
    "duration(approximant='IMRPhenomD', mass1=7.409, mass2=1.35, f_lower=20)"
   ]
  },
  {
   "cell_type": "code",
   "execution_count": 38,
   "id": "serious-subscription",
   "metadata": {},
   "outputs": [],
   "source": [
    "inject_params = {'m1_det': 7.409,  #detector frame mass_1, taken from MAP values of (mass_1) GW200115 posterior samples\n",
    "                 'm2_det': 1.351,  #detector frame mass_2,taken from MAP values (mass_2) of GW200115 posterior samples \n",
    "                 'spin_1z': -0.0034, #spin_1z, taken from MAP values (spin_1z) of GW200115 posterior samples\n",
    "                 'spin_2z': -0.0002, #spin_2z, taken from MAP values (spin_1z) of GW200115 posterior samples\n",
    "                 'luminosity_distance': 269,   #taken from MAP values (luminosity_distance) of GW200115 posterior samples\n",
    "                 'iota': 0.606,       # taken from MAP value (iota) of GW200115 posterior samples\n",
    "                 'ra': 0.721,         # taken from MAP value (ra) of GW200115 posterior samples\n",
    "                 'dec': -0.021,       # taken from MAP value (dec) of GW200115 posterior samples\n",
    "                 'pol':0,             # taken from MAP value (psi) of GW200115 posterior samples\n",
    "                 'tc': 1263097773}   # tc is taken such that it is 4 secs before end_time for L1 noise\n"
   ]
  },
  {
   "cell_type": "code",
   "execution_count": 39,
   "id": "integrated-marks",
   "metadata": {},
   "outputs": [],
   "source": [
    "inj_approx = 'IMRPhenomD'\n",
    "\n",
    "#-- injection_params array --\n",
    "\n",
    "inj_params = np.array([inject_params['m1_det'], inject_params['m2_det'],\\\n",
    "                       inject_params['spin_1z'], inject_params['spin_2z'],\\\n",
    "                       inject_params['iota'], inject_params['luminosity_distance'],\\\n",
    "                       inject_params['ra'], inject_params['dec'],\\\n",
    "                       inject_params['pol'], inject_params['tc']])\n",
    "\n",
    "\n",
    "fLow, fHigh = 20, 1600\n",
    "\n",
    "low_frequency_cutoff, high_frequency_cutoff = 20, 1600   #(need to remove to optimize the code)\n",
    "\n",
    "sampling_frequency = 2048       # Hz\n",
    "segLen = 64                     # secs   (will also be used in start_up function)\n"
   ]
  },
  {
   "cell_type": "code",
   "execution_count": 62,
   "id": "ideal-constraint",
   "metadata": {},
   "outputs": [],
   "source": [
    "ifos = ['L1', 'H1', 'V1']\n",
    "\n",
    "static_params_gen = {'approximant': inj_approx, 'f_lower': fLow, 'mass1': inject_params['m1_det'],'mass2': inject_params['m2_det'],\\\n",
    "                     'spin1z': inject_params['spin_1z'], 'spin2z': inject_params['spin_2z'] , 'polarization': inject_params['pol'], 'inclination': inject_params['iota'], 'tc': inject_params['tc'],\\\n",
    "                     'distance': inject_params['luminosity_distance'], 'ra': inject_params['ra'],'dec': inject_params['dec']}\n",
    "\n",
    "generator = FDomainDetFrameGenerator(FDomainCBCGenerator, epoch=static_params_gen['tc'] -55, detectors=ifos,\\\n",
    "                                     delta_f = 1/segLen, **static_params_gen) #(check)\n",
    "\n",
    "signal = generator.generate() \n",
    "\n",
    "#-- data containers --\n",
    "\n",
    "htilde = {}\n",
    "data = {}\n",
    "\n",
    "for ifo in ifos:  \n",
    "\n",
    "    htilde[ifo] = signal[ifo]                      #-- Simulated Detector-Frame GW signal\n",
    "   # htilde[ifo].resize(len(psd[ifo]))\n",
    "\n",
    "   # data[ifo] = htilde[ifo] + noise_tilde[ifo]#\n",
    "\n",
    "   # data"
   ]
  },
  {
   "cell_type": "code",
   "execution_count": 63,
   "id": "german-science",
   "metadata": {},
   "outputs": [],
   "source": [
    "hp = htilde['L1'].to_timeseries()"
   ]
  },
  {
   "cell_type": "code",
   "execution_count": 64,
   "id": "verified-walnut",
   "metadata": {},
   "outputs": [
    {
     "data": {
      "text/plain": [
       "[<matplotlib.lines.Line2D at 0x7faaa19bd970>]"
      ]
     },
     "execution_count": 64,
     "metadata": {},
     "output_type": "execute_result"
    },
    {
     "data": {
      "image/png": "[encoded data removed]",
      "text/plain": [
       "<Figure size 640x480 with 1 Axes>"
      ]
     },
     "metadata": {},
     "output_type": "display_data"
    }
   ],
   "source": [
    "plt.plot(hp.sample_times, hp)"
   ]
  },
  {
   "cell_type": "code",
   "execution_count": 43,
   "id": "consolidated-veteran",
   "metadata": {},
   "outputs": [
    {
     "data": {
      "text/plain": [
       "array([7.32797143e-26, 6.98597680e-26, 6.64357099e-26, ...,\n",
       "       8.35125440e-26, 8.01063252e-26, 7.66953336e-26])"
      ]
     },
     "execution_count": 43,
     "metadata": {},
     "output_type": "execute_result"
    }
   ],
   "source": [
    "hp.data"
   ]
  },
  {
   "cell_type": "code",
   "execution_count": 49,
   "id": "increasing-signal",
   "metadata": {},
   "outputs": [
    {
     "data": {
      "text/plain": [
       "array([ 868352,  868353,  868354, ..., 1048573, 1048574, 1048575])"
      ]
     },
     "execution_count": 49,
     "metadata": {},
     "output_type": "execute_result"
    }
   ],
   "source": [
    "idx = np.where(hp.sample_times >= static_params_gen['tc'])[0]\n",
    "idx"
   ]
  },
  {
   "cell_type": "code",
   "execution_count": 53,
   "id": "romance-survival",
   "metadata": {},
   "outputs": [
    {
     "data": {
      "text/plain": [
       "-4.985833703903581e-26"
      ]
     },
     "execution_count": 53,
     "metadata": {},
     "output_type": "execute_result"
    }
   ],
   "source": [
    "hp[idx[15555]]"
   ]
  },
  {
   "cell_type": "code",
   "execution_count": null,
   "id": "organic-boxing",
   "metadata": {},
   "outputs": [],
   "source": []
  }
 ],
 "metadata": {
  "kernelspec": {
   "display_name": "pycbc_env",
   "language": "python",
   "name": "pycbc_env"
  },
  "language_info": {
   "codemirror_mode": {
    "name": "ipython",
    "version": 3
   },
   "file_extension": ".py",
   "mimetype": "text/x-python",
   "name": "python",
   "nbconvert_exporter": "python",
   "pygments_lexer": "ipython3",
   "version": "3.8.5"
  }
 },
 "nbformat": 4,
 "nbformat_minor": 5
}
