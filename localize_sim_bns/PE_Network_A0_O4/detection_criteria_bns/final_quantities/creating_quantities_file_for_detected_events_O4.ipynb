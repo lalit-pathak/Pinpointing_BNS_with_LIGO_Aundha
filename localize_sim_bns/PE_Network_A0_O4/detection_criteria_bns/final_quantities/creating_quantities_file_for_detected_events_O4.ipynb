{
 "cells": [
  {
   "cell_type": "code",
   "execution_count": 1,
   "id": "imperial-capacity",
   "metadata": {},
   "outputs": [],
   "source": [
    "#-- import modules --\n",
    "\n",
    "import numpy as np\n",
    "import h5py \n",
    "import os\n",
    "import sys\n",
    "import matplotlib.pyplot as plt\n",
    "from itertools import combinations"
   ]
  },
  {
   "cell_type": "code",
   "execution_count": 2,
   "id": "arctic-picnic",
   "metadata": {
    "scrolled": true
   },
   "outputs": [
    {
     "name": "stdout",
     "output_type": "stream",
     "text": [
      "['H1K1A0', 'H1V1A0', 'H1V1K1', 'H1V1K1A0', 'L1H1A0', 'L1H1K1', 'L1H1K1A0', 'L1H1V1', 'L1H1V1A0', 'L1H1V1K1', 'L1H1V1K1A0', 'L1K1A0', 'L1V1A0', 'L1V1K1', 'L1V1K1A0', 'V1K1A0']\n",
      "\n",
      " <KeysViewHDF5 ['delta_Mc', 'delta_chi_eff', 'delta_dL', 'delta_iota', 'delta_mass_ratio', 'delta_omega', 'delta_pol', 'delta_tc', 'delta_z']>\n"
     ]
    }
   ],
   "source": [
    "with h5py.File('quantities_of_interest_main_all_O4.hdf') as f_all_O4:\n",
    "    \n",
    "    print(list(f_all_O4.keys()))\n",
    "    print('\\n',f_all_O4['H1K1A0'].keys())\n",
    "    \n",
    "    list_O4_combs = list(f_all_O4.keys())\n",
    "    parameters = list(f_all_O4['H1K1A0'].keys())"
   ]
  },
  {
   "cell_type": "code",
   "execution_count": 3,
   "id": "blank-thing",
   "metadata": {},
   "outputs": [
    {
     "data": {
      "text/plain": [
       "['delta_Mc',\n",
       " 'delta_chi_eff',\n",
       " 'delta_dL',\n",
       " 'delta_iota',\n",
       " 'delta_mass_ratio',\n",
       " 'delta_omega',\n",
       " 'delta_pol',\n",
       " 'delta_tc',\n",
       " 'delta_z']"
      ]
     },
     "execution_count": 3,
     "metadata": {},
     "output_type": "execute_result"
    }
   ],
   "source": [
    "parameters"
   ]
  },
  {
   "cell_type": "markdown",
   "id": "distinguished-tiffany",
   "metadata": {},
   "source": [
    "<br>"
   ]
  },
  {
   "cell_type": "code",
   "execution_count": 4,
   "id": "skilled-eating",
   "metadata": {},
   "outputs": [],
   "source": [
    "index = np.loadtxt(os.getcwd() + '/../O4_A0/index_V1K1A0_detected.txt')\n",
    " "
   ]
  },
  {
   "cell_type": "code",
   "execution_count": 5,
   "id": "catholic-summary",
   "metadata": {},
   "outputs": [
    {
     "data": {
      "text/plain": [
       "array([  0,   1,   5,   6,   7,   8,  15,  17,  20,  27,  31,  32,  34,\n",
       "        37,  41,  43,  48,  49,  52,  54,  57,  59,  60,  63,  65,  67,\n",
       "        68,  70,  72,  74,  81,  82,  86,  87,  88,  89,  92,  93,  98,\n",
       "       100, 106, 111, 112, 113, 115, 117, 119, 121, 124, 126, 133, 134,\n",
       "       137, 139, 141, 147, 148, 149, 151, 152, 153, 156, 162, 163, 164,\n",
       "       165, 166, 168, 173, 175, 177, 183, 184, 185, 187, 188, 189, 198,\n",
       "       202, 205, 208, 210, 211, 213, 214, 216, 218, 219, 222, 223, 226,\n",
       "       227, 230, 233, 238, 239, 242, 243, 244, 247, 249, 250, 251, 253,\n",
       "       255, 256, 257, 258, 261, 262, 264, 265, 267, 269, 270, 271, 272,\n",
       "       273, 276, 277, 278, 280, 283, 284, 285, 288, 289, 290, 291, 297,\n",
       "       298, 299, 302, 306, 307, 308, 312, 314, 315, 318, 325, 328, 334,\n",
       "       337, 340, 341, 342, 343, 346, 349, 350, 351, 352, 355, 356, 358,\n",
       "       360, 362, 364, 365, 366, 367, 369, 372, 373, 374, 376, 378, 379,\n",
       "       381, 382, 384, 385, 386, 389, 390, 393, 396, 397, 399, 400, 405,\n",
       "       407, 411, 412, 416, 421, 423, 424, 426, 427, 431, 432, 439, 441,\n",
       "       443, 444, 446, 448, 449, 450, 451, 452, 455, 456, 459, 464, 465,\n",
       "       466, 467, 468, 470, 471, 476, 477, 478, 480, 489, 490, 491, 492,\n",
       "       493, 494, 496, 498, 499])"
      ]
     },
     "execution_count": 5,
     "metadata": {},
     "output_type": "execute_result"
    }
   ],
   "source": [
    "index.astype(int)"
   ]
  },
  {
   "cell_type": "markdown",
   "id": "incident-twenty",
   "metadata": {},
   "source": [
    "### $\\Rightarrow$ We shall first create a file with quantities corresponding to the \"detected events\" in O4"
   ]
  },
  {
   "cell_type": "code",
   "execution_count": 24,
   "id": "informed-yield",
   "metadata": {},
   "outputs": [],
   "source": [
    "for comb in list_O4_combs:\n",
    "    \n",
    "    if (comb=='L1H1V1K1A0'):\n",
    "        \n",
    "        pass\n",
    "    \n",
    "    else:\n",
    "    \n",
    "        index_array = np.loadtxt(os.getcwd() + '/../O4_A0/index_{}_detected.txt'.format(comb))\n",
    "\n",
    "        index = index_array.astype(int)\n",
    "        \n",
    "        param_dict = {}\n",
    "        \n",
    "        with h5py.File('quantities_of_interest_main_all_O4.hdf', 'r') as f_all_O4:\n",
    "            \n",
    "            for param in parameters:\n",
    "                \n",
    "                param_all_array = np.array(f_all_O4[comb][param])\n",
    "\n",
    "                param_dict[param] = param_all_array[index]\n",
    "                \n",
    "        with h5py.File('quantities_of_detected_events_O4.hdf', 'a') as f:\n",
    "            \n",
    "            group=f.create_group(comb) #-- network combination group --           \n",
    "            \n",
    "            for param in parameters:\n",
    "                \n",
    "                group.create_dataset(param, data=param_dict[param])\n",
    "                \n",
    "   "
   ]
  },
  {
   "cell_type": "code",
   "execution_count": 25,
   "id": "incorporate-rehabilitation",
   "metadata": {},
   "outputs": [],
   "source": [
    "#-- adding the 'L1H1V1A0' group data separately -- [Since we generated index related data corresponding to 3 and 4 dets in O4_A0]\n",
    "\n",
    "f_old = h5py.File('quantities_of_interest_main_all_O4.hdf', 'r')\n",
    "\n",
    "f_O4 = h5py.File('quantities_of_detected_events_O4.hdf', 'a')\n",
    "\n",
    "f_old.copy('L1H1V1K1A0', f_O4)"
   ]
  },
  {
   "cell_type": "markdown",
   "id": "awful-brisbane",
   "metadata": {},
   "source": [
    "### Test"
   ]
  },
  {
   "cell_type": "code",
   "execution_count": 10,
   "id": "balanced-cigarette",
   "metadata": {
    "scrolled": true
   },
   "outputs": [
    {
     "name": "stdout",
     "output_type": "stream",
     "text": [
      "['H1K1A0', 'H1V1A0', 'H1V1K1', 'H1V1K1A0', 'L1H1A0', 'L1H1K1', 'L1H1K1A0', 'L1H1V1', 'L1H1V1A0', 'L1H1V1K1', 'L1H1V1K1A0', 'L1K1A0', 'L1V1A0', 'L1V1K1', 'L1V1K1A0', 'V1K1A0']\n",
      "\n",
      " <KeysViewHDF5 ['delta_Mc', 'delta_chi_eff', 'delta_dL', 'delta_iota', 'delta_mass_ratio', 'delta_omega', 'delta_pol', 'delta_tc', 'delta_z']>\n"
     ]
    }
   ],
   "source": [
    "with h5py.File('quantities_of_detected_events_O4.hdf', 'r') as f_1:\n",
    "    \n",
    "    print(list(f_1.keys()))\n",
    "    print('\\n',f_1['H1V1K1A0'].keys())\n",
    "    \n",
    "    a1 = np.array(f_1['H1V1K1A0']['delta_omega'])\n",
    "    k1 = np.array(f_1['H1V1K1']['delta_omega'])"
   ]
  },
  {
   "cell_type": "code",
   "execution_count": 11,
   "id": "turkish-organic",
   "metadata": {
    "scrolled": true
   },
   "outputs": [
    {
     "data": {
      "text/plain": [
       "(6877.94585268948, 73.8184988889634, 96)"
      ]
     },
     "execution_count": 11,
     "metadata": {},
     "output_type": "execute_result"
    }
   ],
   "source": [
    "\n",
    "k1.max(), a1.max(), np.argmax(a1)"
   ]
  },
  {
   "cell_type": "code",
   "execution_count": 12,
   "id": "structural-bulgaria",
   "metadata": {},
   "outputs": [
    {
     "data": {
      "text/plain": [
       "(array([1.29172538e+00, 1.36713066e+00, 1.42942199e+00, 1.43270048e+00,\n",
       "        1.44909293e+00, 1.45564992e+00, 1.53761219e+00, 1.54744766e+00,\n",
       "        1.58023257e+00, 1.62285295e+00, 1.67858729e+00, 1.68186578e+00,\n",
       "        1.72120767e+00, 1.74415711e+00, 1.77366352e+00, 1.77694201e+00,\n",
       "        1.78349900e+00, 1.94086655e+00, 1.95070203e+00, 1.98020844e+00,\n",
       "        1.98676543e+00, 1.99004392e+00, 2.06872770e+00, 2.07856317e+00,\n",
       "        2.08184166e+00, 2.09167713e+00, 2.19331035e+00, 2.20970280e+00,\n",
       "        2.24904469e+00, 2.25560167e+00, 2.28510809e+00, 2.29494356e+00,\n",
       "        2.30477903e+00, 2.31133602e+00, 2.31789300e+00, 2.32117149e+00,\n",
       "        2.32772847e+00, 2.33756394e+00, 2.35723489e+00, 2.43919716e+00,\n",
       "        2.53099490e+00, 2.53099490e+00, 2.54738735e+00, 2.56377981e+00,\n",
       "        2.57689377e+00, 2.58345075e+00, 2.66213453e+00, 2.66213453e+00,\n",
       "        2.66213453e+00, 2.70475491e+00, 2.75065378e+00, 2.87195794e+00,\n",
       "        2.88179341e+00, 2.91129983e+00, 2.97686965e+00, 2.98342663e+00,\n",
       "        3.02932550e+00, 3.05555343e+00, 3.09489532e+00, 3.11456626e+00,\n",
       "        3.17030061e+00, 3.21947797e+00, 3.24570589e+00, 3.24898438e+00,\n",
       "        3.26209835e+00, 3.32438967e+00, 3.33094665e+00, 3.34733911e+00,\n",
       "        3.40963043e+00, 3.42930138e+00, 3.43585836e+00, 3.53093459e+00,\n",
       "        3.56699799e+00, 3.56699799e+00, 3.62273234e+00, 3.63912479e+00,\n",
       "        3.63912479e+00, 3.64896026e+00, 3.78009989e+00, 3.78665688e+00,\n",
       "        3.80960631e+00, 3.82927726e+00, 3.85222669e+00, 3.88173311e+00,\n",
       "        3.92435349e+00, 3.94402443e+00, 3.96697387e+00, 4.05877161e+00,\n",
       "        4.06860708e+00, 4.11450596e+00, 4.14729086e+00, 4.17024030e+00,\n",
       "        4.36694975e+00, 4.38334220e+00, 4.43907655e+00, 4.45219051e+00,\n",
       "        4.48169693e+00, 4.63578599e+00, 4.71119128e+00, 4.71119128e+00,\n",
       "        4.74397619e+00, 4.80298902e+00, 4.82593846e+00, 4.87511582e+00,\n",
       "        4.89478677e+00, 4.94724262e+00, 4.97347055e+00, 4.98002753e+00,\n",
       "        5.13083810e+00, 5.36361095e+00, 5.38000341e+00, 5.44557322e+00,\n",
       "        5.54720644e+00, 5.57671285e+00, 5.62589022e+00, 5.64556116e+00,\n",
       "        5.69473852e+00, 5.69801701e+00, 5.75047287e+00, 5.87505552e+00,\n",
       "        5.96029628e+00, 6.05537251e+00, 6.18323365e+00, 6.20946158e+00,\n",
       "        6.21274007e+00, 6.41600650e+00, 6.53403217e+00, 6.60615897e+00,\n",
       "        6.64877935e+00, 6.68484274e+00, 6.75369105e+00, 7.70445338e+00,\n",
       "        7.93394774e+00, 7.94050472e+00, 8.02246699e+00, 8.15360662e+00,\n",
       "        8.21917644e+00, 8.28802475e+00, 8.33392362e+00, 8.39949343e+00,\n",
       "        8.91421649e+00, 8.96339385e+00, 9.03224216e+00, 9.12403990e+00,\n",
       "        9.27812897e+00, 9.33058482e+00, 9.51418031e+00, 9.70433277e+00,\n",
       "        9.71088975e+00, 9.76006712e+00, 9.86170033e+00, 1.03501955e+01,\n",
       "        1.04419932e+01, 1.07436144e+01, 1.07698423e+01, 1.08190196e+01,\n",
       "        1.09108174e+01, 1.10419570e+01, 1.12517804e+01, 1.14779963e+01,\n",
       "        1.20418967e+01, 1.21632009e+01, 1.21861503e+01, 1.23402394e+01,\n",
       "        1.24910500e+01, 1.26418605e+01, 1.26516960e+01, 1.27795571e+01,\n",
       "        1.29139753e+01, 1.30385579e+01, 1.30811783e+01, 1.32877232e+01,\n",
       "        1.34680402e+01, 1.34844327e+01, 1.35336100e+01, 1.36221293e+01,\n",
       "        1.38712946e+01, 1.39171935e+01, 1.40221052e+01, 1.41565233e+01,\n",
       "        1.41991437e+01, 1.47728796e+01, 1.47892720e+01, 1.48679558e+01,\n",
       "        1.50581083e+01, 1.51958049e+01, 1.52482607e+01, 1.52777671e+01,\n",
       "        1.54908690e+01, 1.54941475e+01, 1.57465913e+01, 1.62645929e+01,\n",
       "        1.64055680e+01, 1.64875302e+01, 1.65563785e+01, 1.69202910e+01,\n",
       "        1.69497974e+01, 1.69497974e+01, 1.76153311e+01, 1.79890790e+01,\n",
       "        1.80480919e+01, 1.80480919e+01, 1.80579273e+01, 1.80677628e+01,\n",
       "        1.83824979e+01, 1.88447651e+01, 1.89922972e+01, 1.90939304e+01,\n",
       "        1.94086655e+01, 1.95037418e+01, 1.95627546e+01, 1.97332361e+01,\n",
       "        1.97463501e+01, 1.99299456e+01, 2.03954913e+01, 2.06413781e+01,\n",
       "        2.08151381e+01, 2.22380031e+01, 2.29199292e+01, 2.31264741e+01,\n",
       "        2.32248288e+01, 2.37067670e+01, 2.47493271e+01, 2.52279867e+01,\n",
       "        2.55066584e+01, 2.55984562e+01, 2.61197362e+01, 2.63328381e+01,\n",
       "        2.63721800e+01, 2.65361045e+01, 2.89359598e+01, 2.90933274e+01,\n",
       "        2.91129983e+01, 2.96703418e+01, 2.96998482e+01, 2.99752414e+01,\n",
       "        3.00801531e+01, 3.05227494e+01, 3.07391298e+01, 3.16636642e+01,\n",
       "        3.28865412e+01, 3.31750484e+01, 3.36078092e+01, 3.36405941e+01,\n",
       "        3.38077971e+01, 3.39454938e+01, 3.40077851e+01, 3.57027648e+01,\n",
       "        3.67256540e+01, 3.76534669e+01, 3.77092012e+01, 3.87025839e+01,\n",
       "        3.94009025e+01, 4.28006974e+01, 4.31613314e+01, 4.36563835e+01,\n",
       "        4.57054403e+01, 4.57972380e+01, 4.64431007e+01, 4.66201392e+01,\n",
       "        4.76856487e+01, 5.19345728e+01, 5.60621927e+01, 5.78030713e+01,\n",
       "        5.81669838e+01, 5.95406714e+01, 5.96455832e+01, 6.01701417e+01,\n",
       "        6.06160164e+01, 6.09897644e+01, 6.18880709e+01, 6.25240981e+01,\n",
       "        6.37371397e+01, 6.59501210e+01, 6.75762524e+01, 6.78483671e+01,\n",
       "        7.00121711e+01, 7.06219704e+01, 7.31332943e+01, 7.37791570e+01,\n",
       "        7.84608419e+01, 7.84706773e+01, 7.94902880e+01, 8.37326551e+01,\n",
       "        8.43424544e+01, 9.44172566e+01, 9.50467268e+01, 1.02302027e+02,\n",
       "        1.06180482e+02, 1.11104775e+02, 1.20340283e+02, 1.25405552e+02,\n",
       "        1.53197318e+02, 1.57685572e+02, 1.64517947e+02, 2.06121995e+02,\n",
       "        2.11387251e+02, 2.48217817e+02, 2.93821624e+02, 6.87794585e+03]),\n",
       " 300)"
      ]
     },
     "execution_count": 12,
     "metadata": {},
     "output_type": "execute_result"
    }
   ],
   "source": [
    "np.sort(k1), len(k1)"
   ]
  },
  {
   "cell_type": "code",
   "execution_count": 13,
   "id": "plastic-tennis",
   "metadata": {},
   "outputs": [
    {
     "data": {
      "text/plain": [
       "<matplotlib.legend.Legend at 0x7f56c99ee9a0>"
      ]
     },
     "execution_count": 13,
     "metadata": {},
     "output_type": "execute_result"
    },
    {
     "data": {
      "image/png": "[encoded data removed]",
      "text/plain": [
       "<Figure size 640x480 with 1 Axes>"
      ]
     },
     "metadata": {},
     "output_type": "display_data"
    }
   ],
   "source": [
    "plt.hist(a1, histtype='step', label='HVKA', density=False);\n",
    "plt.hist(np.sort(k1)[:-2], histtype='step', label='HVK', density=False);\n",
    "plt.legend()"
   ]
  },
  {
   "cell_type": "code",
   "execution_count": null,
   "id": "based-burke",
   "metadata": {},
   "outputs": [],
   "source": []
  }
 ],
 "metadata": {
  "kernelspec": {
   "display_name": "pycbc_env",
   "language": "python",
   "name": "pycbc_env"
  },
  "language_info": {
   "codemirror_mode": {
    "name": "ipython",
    "version": 3
   },
   "file_extension": ".py",
   "mimetype": "text/x-python",
   "name": "python",
   "nbconvert_exporter": "python",
   "pygments_lexer": "ipython3",
   "version": "3.8.5"
  }
 },
 "nbformat": 4,
 "nbformat_minor": 5
}
