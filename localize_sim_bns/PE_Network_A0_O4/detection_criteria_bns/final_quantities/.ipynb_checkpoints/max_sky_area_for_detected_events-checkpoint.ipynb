{
 "cells": [
  {
   "cell_type": "code",
   "execution_count": 1,
   "id": "falling-funeral",
   "metadata": {},
   "outputs": [],
   "source": [
    "#-- import modules --\n",
    "\n",
    "import numpy as np\n",
    "import matplotlib.pyplot as plt\n",
    "import h5py \n",
    "import os\n"
   ]
  },
  {
   "cell_type": "markdown",
   "id": "checked-support",
   "metadata": {},
   "source": [
    "### $\\Rightarrow$ For events detected with A0 at O4 PSD"
   ]
  },
  {
   "cell_type": "code",
   "execution_count": 2,
   "id": "blessed-telling",
   "metadata": {},
   "outputs": [
    {
     "name": "stdout",
     "output_type": "stream",
     "text": [
      "['H1K1A0', 'H1V1A0', 'H1V1K1', 'H1V1K1A0', 'L1H1A0', 'L1H1K1', 'L1H1K1A0', 'L1H1V1', 'L1H1V1A0', 'L1H1V1K1', 'L1H1V1K1A0', 'L1K1A0', 'L1V1A0', 'L1V1K1', 'L1V1K1A0', 'V1K1A0']\n",
      "\n",
      " ['delta_Mc', 'delta_chi_eff', 'delta_dL', 'delta_iota', 'delta_mass_ratio', 'delta_omega', 'delta_pol', 'delta_tc', 'delta_z']\n"
     ]
    }
   ],
   "source": [
    "with h5py.File('quantities_of_detected_events_O4.hdf', 'r') as f_O4:\n",
    "    \n",
    "    networks = list(f_O4.keys())\n",
    "    print(networks)\n",
    "    \n",
    "    \n",
    "    param_list = list(f_O4['H1V1K1'].keys())\n",
    "    print('\\n', param_list)"
   ]
  },
  {
   "cell_type": "code",
   "execution_count": 3,
   "id": "trying-aberdeen",
   "metadata": {},
   "outputs": [],
   "source": [
    "delta_omega_O4_dict = {}\n",
    "\n",
    "with h5py.File('quantities_of_detected_events_O4.hdf', 'r') as f_O4:\n",
    "    \n",
    "    for network in networks:\n",
    "        \n",
    "        delta_omega_O4_dict[network] = np.array(f_O4[network]['delta_omega'])\n",
    "            "
   ]
  },
  {
   "cell_type": "code",
   "execution_count": 4,
   "id": "entitled-tracker",
   "metadata": {
    "scrolled": true
   },
   "outputs": [
    {
     "name": "stdout",
     "output_type": "stream",
     "text": [
      "H1K1A0 : 312 , max sky area : 2991.819565913681\n",
      "H1V1A0 : 386 , max sky area : 110.0786071547271\n",
      "H1V1K1 : 300 , max sky area : 6877.94585268948\n",
      "H1V1K1A0 : 386 , max sky area : 73.8184988889634\n",
      "L1H1A0 : 500 , max sky area : 244.4836160573716\n",
      "L1H1K1 : 498 , max sky area : 618.392213489748\n",
      "L1H1K1A0 : 500 , max sky area : 127.4939502928588\n",
      "L1H1V1 : 500 , max sky area : 168.55376909217387\n",
      "L1H1V1A0 : 500 , max sky area : 51.15101348665869\n",
      "L1H1V1K1 : 500 , max sky area : 112.18011975855661\n",
      "L1H1V1K1A0 : 500 , max sky area : 32.00462720527894\n",
      "L1K1A0 : 310 , max sky area : 1516.4888697185222\n",
      "L1V1A0 : 386 , max sky area : 123.12044356351625\n",
      "L1V1K1 : 298 , max sky area : 243.21811860795162\n",
      "L1V1K1A0 : 386 , max sky area : 72.40219086266956\n",
      "V1K1A0 : 226 , max sky area : 338.9205435976359\n"
     ]
    }
   ],
   "source": [
    "for network in networks:\n",
    "    \n",
    "    print('{} : {} , max sky area : {}'.format(network, len(delta_omega_O4_dict[network]), delta_omega_O4_dict[network].max()))\n",
    "    \n",
    "    "
   ]
  },
  {
   "cell_type": "markdown",
   "id": "authentic-biotechnology",
   "metadata": {},
   "source": [
    "<br>"
   ]
  },
  {
   "cell_type": "code",
   "execution_count": null,
   "id": "different-walker",
   "metadata": {},
   "outputs": [],
   "source": []
  }
 ],
 "metadata": {
  "kernelspec": {
   "display_name": "pycbc_env",
   "language": "python",
   "name": "pycbc_env"
  },
  "language_info": {
   "codemirror_mode": {
    "name": "ipython",
    "version": 3
   },
   "file_extension": ".py",
   "mimetype": "text/x-python",
   "name": "python",
   "nbconvert_exporter": "python",
   "pygments_lexer": "ipython3",
   "version": "3.8.5"
  }
 },
 "nbformat": 4,
 "nbformat_minor": 5
}
