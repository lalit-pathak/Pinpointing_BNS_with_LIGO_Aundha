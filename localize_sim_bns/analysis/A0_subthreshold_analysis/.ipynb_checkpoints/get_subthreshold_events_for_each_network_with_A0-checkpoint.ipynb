{
 "cells": [
  {
   "cell_type": "code",
   "execution_count": 1,
   "id": "broadband-contemporary",
   "metadata": {},
   "outputs": [],
   "source": [
    "#-- import modules --\n",
    "\n",
    "import os\n",
    "import sys\n",
    "import json\n",
    "import numpy as np\n",
    "import matplotlib.pyplot as plt\n",
    "import h5py\n",
    "import pandas as pd\n",
    "from itertools import combinations\n",
    "import seaborn as sns\n",
    "from scipy.stats import gaussian_kde"
   ]
  },
  {
   "cell_type": "markdown",
   "id": "amber-footwear",
   "metadata": {},
   "source": [
    "## $\\Rightarrow$ For A0 at O4"
   ]
  },
  {
   "cell_type": "markdown",
   "id": "scientific-stretch",
   "metadata": {},
   "source": [
    "### $\\Rightarrow$ 3 detector networks"
   ]
  },
  {
   "cell_type": "code",
   "execution_count": 2,
   "id": "earlier-evanescence",
   "metadata": {},
   "outputs": [
    {
     "data": {
      "text/plain": [
       "[['L1', 'H1', 'V1'],\n",
       " ['L1', 'H1', 'K1'],\n",
       " ['L1', 'H1', 'A0'],\n",
       " ['L1', 'V1', 'K1'],\n",
       " ['L1', 'V1', 'A0'],\n",
       " ['L1', 'K1', 'A0'],\n",
       " ['H1', 'V1', 'K1'],\n",
       " ['H1', 'V1', 'A0'],\n",
       " ['H1', 'K1', 'A0'],\n",
       " ['V1', 'K1', 'A0']]"
      ]
     },
     "execution_count": 2,
     "metadata": {},
     "output_type": "execute_result"
    }
   ],
   "source": [
    "#-- get three detector combinations --\n",
    "\n",
    "ifos = ['L1', 'H1', 'V1', 'K1', 'A0']\n",
    "\n",
    "three_combs = []\n",
    "\n",
    "for comb in combinations(ifos, 3):\n",
    "    \n",
    "    three_combs.append(list(comb))\n",
    "\n",
    "three_combs"
   ]
  },
  {
   "cell_type": "code",
   "execution_count": 3,
   "id": "applied-creator",
   "metadata": {},
   "outputs": [
    {
     "data": {
      "text/plain": [
       "[['L1', 'H1', 'A0'],\n",
       " ['L1', 'V1', 'A0'],\n",
       " ['L1', 'K1', 'A0'],\n",
       " ['H1', 'V1', 'A0'],\n",
       " ['H1', 'K1', 'A0'],\n",
       " ['V1', 'K1', 'A0']]"
      ]
     },
     "execution_count": 3,
     "metadata": {},
     "output_type": "execute_result"
    }
   ],
   "source": [
    "#-- get three detector combinations with A0 --\n",
    "\n",
    "three_comb_with_A0 = []\n",
    "\n",
    "for comb in three_combs:\n",
    "    \n",
    "    #-- check if 'A0' is in the list of detectors in a network combination --\n",
    "    for i in comb:\n",
    "        \n",
    "        if (i=='A0'):\n",
    "            \n",
    "            three_comb_with_A0.append(comb)\n",
    "\n",
    "three_comb_with_A0"
   ]
  },
  {
   "cell_type": "code",
   "execution_count": 4,
   "id": "oriented-ecuador",
   "metadata": {},
   "outputs": [
    {
     "name": "stdout",
     "output_type": "stream",
     "text": [
      "191\n",
      "77\n",
      "3\n",
      "77\n",
      "3\n",
      "3\n"
     ]
    }
   ],
   "source": [
    "base_path = os.getcwd() + '/../../PE_Network_A0_O4/detection_criteria_bns/O4_A0/LHVKA_3det_detection/'\n",
    "\n",
    "for comb in three_comb_with_A0:\n",
    "    \n",
    "    event_file = np.loadtxt(base_path+'injections_{}_detected.txt'.format(\"\".join(comb)))\n",
    "    \n",
    "    snr_a0 = event_file[:, 9]\n",
    "    #print(len(snr_a0))\n",
    "    \n",
    "    #-- indices of the subthreshold SNR events --\n",
    "\n",
    "    sub_a0_idx = np.where(snr_a0 < 6)[0]\n",
    "    \n",
    "    print(len(sub_a0_idx))\n",
    "    \n",
    "    \n",
    "    \n",
    "    \n",
    "    \n",
    "    \n",
    "    \n",
    "    \n",
    "    "
   ]
  },
  {
   "cell_type": "markdown",
   "id": "sunrise-sleep",
   "metadata": {},
   "source": [
    "### $\\Rightarrow$ 4 detector networks"
   ]
  },
  {
   "cell_type": "code",
   "execution_count": 5,
   "id": "quick-disability",
   "metadata": {},
   "outputs": [
    {
     "data": {
      "text/plain": [
       "[['L1', 'H1', 'V1', 'K1'],\n",
       " ['L1', 'H1', 'V1', 'A0'],\n",
       " ['L1', 'H1', 'K1', 'A0'],\n",
       " ['L1', 'V1', 'K1', 'A0'],\n",
       " ['H1', 'V1', 'K1', 'A0']]"
      ]
     },
     "execution_count": 5,
     "metadata": {},
     "output_type": "execute_result"
    }
   ],
   "source": [
    "four_combs = []\n",
    "\n",
    "for comb in combinations(ifos, 4):\n",
    "    \n",
    "    four_combs.append(list(comb))\n",
    "\n",
    "four_combs"
   ]
  },
  {
   "cell_type": "code",
   "execution_count": 6,
   "id": "heard-exchange",
   "metadata": {},
   "outputs": [
    {
     "data": {
      "text/plain": [
       "[['L1', 'H1', 'V1', 'A0'],\n",
       " ['L1', 'H1', 'K1', 'A0'],\n",
       " ['L1', 'V1', 'K1', 'A0'],\n",
       " ['H1', 'V1', 'K1', 'A0']]"
      ]
     },
     "execution_count": 6,
     "metadata": {},
     "output_type": "execute_result"
    }
   ],
   "source": [
    "#-- get four detector combinations with A0 --\n",
    "\n",
    "four_comb_with_A0 = []\n",
    "\n",
    "for comb in four_combs:\n",
    "    \n",
    "    #-- check if 'A0' is in the list of detectors in a network combination --\n",
    "    for i in comb:\n",
    "        \n",
    "        if (i=='A0'):\n",
    "            \n",
    "            four_comb_with_A0.append(comb)\n",
    "\n",
    "four_comb_with_A0"
   ]
  },
  {
   "cell_type": "code",
   "execution_count": 7,
   "id": "afraid-ceremony",
   "metadata": {},
   "outputs": [
    {
     "name": "stdout",
     "output_type": "stream",
     "text": [
      "191\n",
      "191\n",
      "77\n",
      "77\n"
     ]
    }
   ],
   "source": [
    "base_path = os.getcwd() + '/../../PE_Network_A0_O4/detection_criteria_bns/O4_A0/LHVKA_4det_detection/'\n",
    "\n",
    "for comb in four_comb_with_A0:\n",
    "    \n",
    "    event_file = np.loadtxt(base_path+'injections_{}_detected.txt'.format(\"\".join(comb)))\n",
    "    \n",
    "    snr_a0 = event_file[:, 9]\n",
    "    \n",
    "    #print(len(snr_a0))\n",
    "    #-- indices of the subthreshold SNR events --\n",
    "\n",
    "    sub_a0_idx = np.where(snr_a0 < 6)[0]\n",
    "    \n",
    "    print(len(sub_a0_idx))"
   ]
  },
  {
   "cell_type": "markdown",
   "id": "published-decimal",
   "metadata": {},
   "source": [
    "### $\\Rightarrow$ 5 detector network"
   ]
  },
  {
   "cell_type": "code",
   "execution_count": 8,
   "id": "figured-zimbabwe",
   "metadata": {},
   "outputs": [
    {
     "name": "stdout",
     "output_type": "stream",
     "text": [
      "191\n"
     ]
    }
   ],
   "source": [
    "base_path = os.getcwd() + '/../../PE_Network_A0_O4/detection_criteria_bns/'\n",
    "\n",
    "event_file = np.loadtxt(base_path+'injections_{}_O4_SNR_20_to_25.txt'.format(\"\".join(ifos)))\n",
    "    \n",
    "snr_a0 = event_file[:, 9]\n",
    "\n",
    "sub_a0_idx = np.where(snr_a0 < 6)[0]\n",
    "\n",
    "print(len(sub_a0_idx))"
   ]
  }
 ],
 "metadata": {
  "kernelspec": {
   "display_name": "pycbc_env",
   "language": "python",
   "name": "pycbc_env"
  },
  "language_info": {
   "codemirror_mode": {
    "name": "ipython",
    "version": 3
   },
   "file_extension": ".py",
   "mimetype": "text/x-python",
   "name": "python",
   "nbconvert_exporter": "python",
   "pygments_lexer": "ipython3",
   "version": "3.8.5"
  }
 },
 "nbformat": 4,
 "nbformat_minor": 5
}
