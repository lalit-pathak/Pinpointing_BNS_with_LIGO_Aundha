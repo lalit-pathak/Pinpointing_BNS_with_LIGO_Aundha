{
 "cells": [
  {
   "cell_type": "markdown",
   "id": "loved-mailman",
   "metadata": {},
   "source": [
    "## $\\Rightarrow$ Notebook to test the code used to generate the covariance matrix using GWFish and including KAGRA (K1) and LIGO-Aundha (A1) into the network."
   ]
  },
  {
   "cell_type": "code",
   "execution_count": 1,
   "id": "southeast-triangle",
   "metadata": {},
   "outputs": [
    {
     "name": "stderr",
     "output_type": "stream",
     "text": [
      "WARNING:jax._src.lib.xla_bridge:No GPU/TPU found, falling back to CPU. (Set TF_CPP_MIN_LOG_LEVEL=0 and rerun for more info.)\n"
     ]
    }
   ],
   "source": [
    "#-- import modules -\n",
    "\n",
    "import numpy as np\n",
    "import matplotlib.pyplot as plt\n",
    "import h5py\n",
    "import pandas as pd\n",
    "from itertools import combinations\n",
    "import os\n",
    "import sys\n",
    "\n",
    "from pycbc.detector import add_detector_on_earth\n",
    "from pycbc.waveform import get_waveform_filter_length_in_time as duration\n",
    "from pycbc.psd.analytical import aLIGOAPlusDesignSensitivityT1800042, AdVDesignSensitivityP1200087, KAGRADesignSensitivityT1600593, KAGRA, AdvVirgo\n",
    "from pycbc.psd.analytical import aLIGODesignSensitivityP1200087, aLIGOZeroDetHighPower\n",
    "from pycbc.cosmology import cosmological_quantity_from_redshift\n",
    "from pycbc.cosmology import redshift\n",
    "from pycbc.cosmology import distance_from_comoving_volume, redshift_from_comoving_volume\n",
    "from pycbc.waveform.generator import FDomainCBCGenerator, FDomainDetFrameGenerator\n",
    "from pycbc.types.frequencyseries import load_frequencyseries\n",
    "from pycbc.filter import sigma\n",
    "from pycbc.psd.estimate import interpolate\n",
    "from pycbc.types import FrequencySeries\n",
    "from pycbc.noise.gaussian import frequency_noise_from_psd\n",
    "from pycbc.conversions import mchirp_from_mass1_mass2, eta_from_mass1_mass2\n",
    "\n",
    "import gwfast.gwfastGlobals as glob\n",
    "import copy\n",
    "from gwfast.waveforms import IMRPhenomD_NRTidalv2, TaylorF2_RestrictedPN\n",
    "from gwfast.signal import GWSignal\n",
    "from gwfast.network import DetNet\n",
    "from fisherTools import CovMatr, compute_localization_region, check_covariance, fixParams"
   ]
  },
  {
   "cell_type": "code",
   "execution_count": 2,
   "id": "partial-disney",
   "metadata": {},
   "outputs": [],
   "source": [
    "ifos = ['L1', 'H1', 'V1', 'K1', 'A1']"
   ]
  },
  {
   "cell_type": "code",
   "execution_count": 4,
   "id": "parallel-checklist",
   "metadata": {},
   "outputs": [],
   "source": [
    "#-- TO STORE THE LOCATION COORDINATES OF GW DETECTORS --\n",
    "\n",
    "alldetectors = copy.deepcopy(glob.detectors)\n",
    "\n",
    "# select LIGO, Virgo and KAGRA detectors\n",
    "\n",
    "LVKA_detectors = {}\n",
    "\n",
    "for ifo in ifos:\n",
    "    \n",
    "    if(ifo=='V1'):\n",
    "        \n",
    "        ifo = 'Virgo'\n",
    "        \n",
    "        LVKA_detectors[ifo] = alldetectors[ifo]\n",
    "    \n",
    "    if(ifo=='K1'):\n",
    "        \n",
    "        ifo = 'KAGRA'\n",
    "        \n",
    "        LVKA_detectors[ifo] = alldetectors[ifo]\n",
    "        \n",
    "    elif(ifo=='A1'):\n",
    "        \n",
    "        ifo = 'LIGOI'\n",
    "        \n",
    "        LVKA_detectors[ifo] = alldetectors[ifo]\n",
    "        \n",
    "    else:\n",
    "        \n",
    "        LVKA_detectors[ifo] = alldetectors[ifo]\n",
    "        "
   ]
  },
  {
   "cell_type": "code",
   "execution_count": 6,
   "id": "powered-insured",
   "metadata": {},
   "outputs": [
    {
     "data": {
      "text/plain": [
       "{'lat': 19.613, 'long': 77.031, 'xax': 287.384, 'shape': 'L'}"
      ]
     },
     "execution_count": 6,
     "metadata": {},
     "output_type": "execute_result"
    }
   ],
   "source": [
    "LVKA_detectors['LIGOI']"
   ]
  },
  {
   "cell_type": "code",
   "execution_count": 10,
   "id": "existing-geology",
   "metadata": {},
   "outputs": [],
   "source": [
    "A1_PSD = 'O4'\n",
    "\n",
    "for ifo in ifos:\n",
    "    \n",
    "    if(ifo=='V1'):\n",
    "        \n",
    "        ifo_mod = 'Virgo'\n",
    "        LVKA_detectors[ifo_mod]['psd_path'] = os.getcwd() + '/../../../../psds/PSD_{}_10Hz_to_2048Hz_nonzero.txt'.format(ifo_mod)\n",
    "    \n",
    "    elif(ifo=='A1'):\n",
    "        \n",
    "        ifo_mod = 'LIGOI'\n",
    "        LVKA_detectors[ifo_mod]['psd_path'] = os.getcwd() + '/../../../../psds/PSD_{}_10Hz_to_2048Hz_nonzero.txt'.format(A1_PSD)\n",
    "        \n",
    "    elif(ifo=='K1'):\n",
    "        \n",
    "        ifo_mod = 'KAGRA'\n",
    "        LVKA_detectors[ifo_mod]['psd_path'] = os.getcwd() + '/../../../../psds/PSD_{}_10Hz_to_2048Hz_nonzero.txt'.format(ifo_mod)\n",
    "        \n",
    "    else:\n",
    "        \n",
    "        LVKA_detectors[ifo]['psd_path'] = os.getcwd() + '/../../../../psds/PSD_O5_10Hz_to_2048Hz_nonzero.txt'\n",
    "        "
   ]
  },
  {
   "cell_type": "code",
   "execution_count": 11,
   "id": "patent-operation",
   "metadata": {},
   "outputs": [
    {
     "data": {
      "text/plain": [
       "{'lat': 36.412,\n",
       " 'long': 137.306,\n",
       " 'xax': 15.396,\n",
       " 'shape': 'L',\n",
       " 'psd_path': '/home/sachins/work/LIGO_India/GW170817_non_eccentric_example/psd/PSD_KAGRA_10Hz_to_2048Hz_nonzero.txt'}"
      ]
     },
     "execution_count": 11,
     "metadata": {},
     "output_type": "execute_result"
    }
   ],
   "source": [
    "LVKA_detectors['KAGRA']"
   ]
  },
  {
   "cell_type": "code",
   "execution_count": 12,
   "id": "synthetic-syndication",
   "metadata": {},
   "outputs": [],
   "source": [
    "#-- GENERATE CBC SIGNALS AS SEEN IN EACH DETECTOR AND NETWORK OF DETECTOR (using DetNet object) --\n",
    "\n",
    "myLVKA_Signals = {}\n",
    "\n",
    "for d in LVKA_detectors.keys():\n",
    "\n",
    "    myLVKA_Signals[d] = GWSignal(TaylorF2_RestrictedPN(), \n",
    "                                psd_path=LVKA_detectors[d]['psd_path'],\n",
    "                                detector_shape = LVKA_detectors[d]['shape'],\n",
    "                                det_lat= LVKA_detectors[d]['lat'],\n",
    "                                det_long=LVKA_detectors[d]['long'],\n",
    "                                det_xax=LVKA_detectors[d]['xax'], \n",
    "                                verbose=False,\n",
    "                                useEarthMotion = False,\n",
    "                                fmin=10.,\n",
    "                                IntTablePath=None, is_ASD=False) \n",
    "\n",
    "myLVKA_Net = DetNet(myLVKA_Signals)\n"
   ]
  },
  {
   "cell_type": "code",
   "execution_count": 24,
   "id": "normal-amazon",
   "metadata": {},
   "outputs": [],
   "source": [
    "#-- Injection Parameters --\n",
    "\n",
    "m1_src = 1.387\n",
    "m2_src = 1.326\n",
    "s1z = 0.0001294116725339975\n",
    "s2z = 3.5461352589076355e-05\n",
    "\n",
    "iota, pol = 0, 0\n",
    "tc = 1597236082 \n",
    "\n",
    "ra = 3.448296944257913 \n",
    "dec = 0.44491231446252155 \n",
    "dL = 168.65546273003267 \n",
    "z = 0.03706738893253226"
   ]
  },
  {
   "cell_type": "code",
   "execution_count": 25,
   "id": "hourly-bundle",
   "metadata": {},
   "outputs": [],
   "source": [
    "#-- Detector Frame masses --\n",
    "\n",
    "m1 = m1_src * (1+z)\n",
    "m2 = m2_src * (1+z)\n",
    "\n",
    "#-- Derived Params --\n",
    "\n",
    "mchirp = mchirp_from_mass1_mass2(m1, m2)\n",
    "eta = eta_from_mass1_mass2(m1, m2)"
   ]
  },
  {
   "cell_type": "code",
   "execution_count": 26,
   "id": "instrumental-trailer",
   "metadata": {},
   "outputs": [],
   "source": [
    "#-- DEFINING FIDUCIAL PARAMS --\n",
    "\n",
    "fiducial_params = {}\n",
    "\n",
    "fiducial_params['Mc'] = mchirp\n",
    "fiducial_params['eta'] = eta\n",
    "fiducial_params['chi1z'] = s1z\n",
    "fiducial_params['chi2z'] = s2z\n",
    "fiducial_params['iota'] = iota\n",
    "fiducial_params['phi'] = ra\n",
    "fiducial_params['theta'] = dec\n",
    "fiducial_params['dL'] = dL\n",
    "fiducial_params.update(dict(psi=pol, tGPS=tc)) "
   ]
  },
  {
   "cell_type": "code",
   "execution_count": 35,
   "id": "ultimate-portable",
   "metadata": {},
   "outputs": [],
   "source": [
    "myEvent_dict = {}\n",
    "    \n",
    "for key, val in fiducial_params.items():\n",
    "    \n",
    "    if(key=='tGPS'):\n",
    "        myEvent_dict[key] = np.array([val])\n",
    "    elif(key=='dL'):\n",
    "        myEvent_dict[key] = np.array([val*1e-3])\n",
    "    elif(key=='theta'):\n",
    "        myEvent_dict[key] = np.array([np.pi/2 - val])\n",
    "    else:\n",
    "        myEvent_dict[key] = np.array([val])\n",
    "\n",
    "myEvent_dict.update(dict(Phicoal=np.array([0.])))\n",
    "myEvent_dict.update(dict(Lambda1=np.array([0.])))\n",
    "myEvent_dict.update(dict(Lambda2=np.array([0.])))\n"
   ]
  },
  {
   "cell_type": "code",
   "execution_count": 36,
   "id": "integrated-rochester",
   "metadata": {},
   "outputs": [
    {
     "name": "stdout",
     "output_type": "stream",
     "text": [
      "Adding tcoal from tGPS\n",
      "SNR for myEvent is 28.49\n",
      "Computing Fisher for L1...\n",
      "Computing Fisher for H1...\n",
      "Computing Fisher for Virgo...\n",
      "Computing Fisher for KAGRA...\n",
      "Computing Fisher for LIGOI...\n",
      "Done.\n"
     ]
    }
   ],
   "source": [
    "SNR = myLVKA_Net.SNR(myEvent_dict)\n",
    "print('SNR for myEvent is %.2f'%SNR)\n",
    "\n",
    "totF = myLVKA_Net.FisherMatr(myEvent_dict, df= 1/1500, use_m1m2=True) # replace df=1/360 by an appropriate variable name\n",
    "\n",
    "ParNums = TaylorF2_RestrictedPN().ParNums\n",
    "\n",
    "newFish, newPars = fixParams(totF, ParNums, ['iota', 'phi', 'theta', 'dL', \\\n",
    "                                                                 'tcoal', 'Phicoal', 'psi'])\n",
    "\n",
    "newCov = CovMatr(newFish)[0]\n",
    "\n",
    "cov_mat = np.empty((4,4))\n",
    "\n",
    "for i in range(4):\n",
    "\n",
    "    for j in range(4):\n",
    "\n",
    "        cov_mat[i,j] = newCov.reshape(4,4)[i,j]\n",
    "\n"
   ]
  },
  {
   "cell_type": "code",
   "execution_count": null,
   "id": "atomic-charger",
   "metadata": {},
   "outputs": [],
   "source": []
  },
  {
   "cell_type": "code",
   "execution_count": null,
   "id": "descending-object",
   "metadata": {},
   "outputs": [],
   "source": []
  }
 ],
 "metadata": {
  "kernelspec": {
   "display_name": "eccentric_env",
   "language": "python",
   "name": "eccentric_env"
  },
  "language_info": {
   "codemirror_mode": {
    "name": "ipython",
    "version": 3
   },
   "file_extension": ".py",
   "mimetype": "text/x-python",
   "name": "python",
   "nbconvert_exporter": "python",
   "pygments_lexer": "ipython3",
   "version": "3.8.10"
  }
 },
 "nbformat": 4,
 "nbformat_minor": 5
}
