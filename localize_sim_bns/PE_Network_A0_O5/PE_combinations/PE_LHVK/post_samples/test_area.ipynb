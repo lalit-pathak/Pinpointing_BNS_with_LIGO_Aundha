{
 "cells": [
  {
   "cell_type": "code",
   "execution_count": 4,
   "id": "stunning-pipeline",
   "metadata": {},
   "outputs": [],
   "source": [
    "# import libraries and modules\n",
    "\n",
    "import time\n",
    "import numpy as np\n",
    "import h5py\n",
    "import math\n",
    "import astropy_healpix as ah\n",
    "from astropy import units as u\n",
    "import healpy as hp\n",
    "import ligo.skymap.plot           \n",
    "from ligo.skymap.tool import ArgumentParser, FileType\n",
    "from ligo.skymap.io import fits\n",
    "from ligo.skymap.tool import ligo_skymap_contour\n",
    "from ligo.skymap.postprocess import contour\n",
    "from ligo.skymap import postprocess\n",
    "\n",
    "import matplotlib.pyplot as plt\n",
    "from astropy.coordinates import SkyCoord\n",
    "from astropy.time import Time\n",
    "\n",
    "import scipy.stats as st\n",
    "from scipy.optimize import bisect\n",
    "\n",
    "from ligo.skymap import io\n",
    "from ligo.skymap.bayestar import rasterize\n",
    "from ligo.skymap import version\n",
    "from astropy.table import Table\n",
    "from astropy.time import Time\n",
    "import numpy as np\n",
    "import os\n",
    "import sys\n",
    "import pickle\n",
    "from ligo.skymap.kde import Clustered2Plus1DSkyKDE, Clustered2DSkyKDE\n",
    "import logging\n",
    "from textwrap import wrap\n"
   ]
  },
  {
   "cell_type": "code",
   "execution_count": 14,
   "id": "practical-going",
   "metadata": {},
   "outputs": [],
   "source": [
    "ifos = ['L1','H1', 'V1', 'K1']\n",
    "\n",
    "name = \"\".join(ifos)\n",
    "\n",
    "total_injections = 400\n",
    "\n",
    "count = 0\n",
    "# for count in range(1):\n",
    "    \n",
    "with h5py.File(os.getcwd() + '/post_samples_interp_SNR_20to25_{}.hdf'.format(name), 'a') as file :\n",
    "    \n",
    "    group = file['injection_{}'.format(count)]\n",
    "    #print(group.keys())\n",
    "    ra_samps = np.array(group['ra'])\n",
    "    dec_samps = np.array(group['dec'])"
   ]
  },
  {
   "cell_type": "code",
   "execution_count": 12,
   "id": "acquired-intellectual",
   "metadata": {},
   "outputs": [
    {
     "data": {
      "text/plain": [
       "array([1.68975563, 1.6903174 , 1.71794693, ..., 1.70428846, 1.70436459,\n",
       "       1.65694205])"
      ]
     },
     "execution_count": 12,
     "metadata": {},
     "output_type": "execute_result"
    }
   ],
   "source": [
    "ra_samps"
   ]
  },
  {
   "cell_type": "code",
   "execution_count": 18,
   "id": "unlimited-doctrine",
   "metadata": {},
   "outputs": [
    {
     "data": {
      "text/plain": [
       "(3102, 2)"
      ]
     },
     "execution_count": 18,
     "metadata": {},
     "output_type": "execute_result"
    }
   ],
   "source": [
    "pts = np.column_stack((ra_samps, dec_samps))\n",
    "pts.shape"
   ]
  },
  {
   "cell_type": "code",
   "execution_count": 22,
   "id": "activated-peeing",
   "metadata": {},
   "outputs": [
    {
     "data": {
      "text/plain": [
       "(400,)"
      ]
     },
     "execution_count": 22,
     "metadata": {},
     "output_type": "execute_result"
    }
   ],
   "source": [
    "del_omega = np.zeros(total_injections)\n",
    "del_omega.shape"
   ]
  },
  {
   "cell_type": "code",
   "execution_count": 20,
   "id": "selected-syntax",
   "metadata": {},
   "outputs": [
    {
     "name": "stderr",
     "output_type": "stream",
     "text": [
      "100%|█████████████████████████████████████████████████████████████████████████████████████████████████████████████████████████████████████████████████████████████████████████| 40/40 [00:57<00:00,  1.44s/it]\n"
     ]
    },
    {
     "name": "stdout",
     "output_type": "stream",
     "text": [
      "adaptive refinement round 1 of 7 ...\n",
      "adaptive refinement round 2 of 7 ...\n",
      "adaptive refinement round 3 of 7 ...\n",
      "adaptive refinement round 4 of 7 ...\n",
      "adaptive refinement round 5 of 7 ...\n",
      "adaptive refinement round 6 of 7 ...\n",
      "adaptive refinement round 7 of 7 ...\n",
      "injection 0, area: 1.9998793889797333\n"
     ]
    }
   ],
   "source": [
    "trials = 1\n",
    "jobs = 1\n",
    "\n",
    "skypost = Clustered2DSkyKDE(pts, trials=trials, jobs=trials)\n",
    "\n",
    "hpmap = skypost.as_healpix(top_nside=16)\n",
    "\n",
    "io.write_sky_map(os.getcwd() + '/fits_files/injection_{}_skymap.fits.gz'.format(count), hpmap, nest=True)\n",
    "\n",
    "#-- main code --\n",
    "\n",
    "skymap, metadata = fits.read_sky_map(os.getcwd() + '/fits_files/injection_{}_skymap.fits.gz'.format(count), nest=None)\n",
    "nside = ah.npix_to_nside(len(skymap))\n",
    "\n",
    "# Convert sky map from probability to probability per square degree.\n",
    "\n",
    "deg2perpix = ah.nside_to_pixel_area(nside).to_value(u.deg**2)\n",
    "probperdeg = skymap / deg2perpix\n",
    "\n",
    "levels = [90]   # this should be provided as a list\n",
    "                #(see: https://github.com/lpsinger/ligo.skymap/blob/main/ligo/skymap/tool/ligo_skymap_plot.py)\n",
    "    \n",
    "# for contours \n",
    "\n",
    "vals = 100 * postprocess.find_greedy_credible_levels(skymap)\n",
    "\n",
    "# for area of 90% credible region \n",
    "\n",
    "pp = np.round([90]).astype(int)               \n",
    "area = (np.searchsorted(np.sort(vals), [90]) * deg2perpix)[0]\n",
    "      \n",
    "print('injection {}, area: {}'.format(count, area))\n"
   ]
  },
  {
   "cell_type": "code",
   "execution_count": 25,
   "id": "decreased-burke",
   "metadata": {},
   "outputs": [],
   "source": [
    "with h5py.File(os.getcwd() + '/quantities_of_interest.hdf', 'r') as f:\n",
    "    \n",
    "    group = f['L1H1V1K1']\n",
    "    \n",
    "    delta_omega = np.array(group['delta_omega'])"
   ]
  },
  {
   "cell_type": "code",
   "execution_count": 26,
   "id": "dangerous-architect",
   "metadata": {},
   "outputs": [
    {
     "data": {
      "text/plain": [
       "array([1.99987939, 2.98998361])"
      ]
     },
     "execution_count": 26,
     "metadata": {},
     "output_type": "execute_result"
    }
   ],
   "source": [
    "delta_omega"
   ]
  },
  {
   "cell_type": "code",
   "execution_count": null,
   "id": "provincial-chair",
   "metadata": {},
   "outputs": [],
   "source": []
  }
 ],
 "metadata": {
  "kernelspec": {
   "display_name": "pycbc_env",
   "language": "python",
   "name": "pycbc_env"
  },
  "language_info": {
   "codemirror_mode": {
    "name": "ipython",
    "version": 3
   },
   "file_extension": ".py",
   "mimetype": "text/x-python",
   "name": "python",
   "nbconvert_exporter": "python",
   "pygments_lexer": "ipython3",
   "version": "3.8.5"
  }
 },
 "nbformat": 4,
 "nbformat_minor": 5
}
