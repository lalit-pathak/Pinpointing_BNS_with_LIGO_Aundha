{
 "cells": [
  {
   "cell_type": "markdown",
   "id": "logical-montgomery",
   "metadata": {},
   "source": [
    "## $\\Rightarrow$ Notebook to test the code used to generate the covariance matrix using GWFish and including KAGRA (K1) into the network."
   ]
  },
  {
   "cell_type": "code",
   "execution_count": 1,
   "id": "senior-willow",
   "metadata": {},
   "outputs": [
    {
     "name": "stderr",
     "output_type": "stream",
     "text": [
      "WARNING:jax._src.lib.xla_bridge:No GPU/TPU found, falling back to CPU. (Set TF_CPP_MIN_LOG_LEVEL=0 and rerun for more info.)\n"
     ]
    }
   ],
   "source": [
    "#-- import modules -\n",
    "\n",
    "import numpy as np\n",
    "import matplotlib.pyplot as plt\n",
    "import h5py\n",
    "import pandas as pd\n",
    "from itertools import combinations\n",
    "import os\n",
    "import sys\n",
    "\n",
    "from pycbc.detector import add_detector_on_earth\n",
    "from pycbc.waveform import get_waveform_filter_length_in_time as duration\n",
    "from pycbc.psd.analytical import aLIGOAPlusDesignSensitivityT1800042, AdVDesignSensitivityP1200087, KAGRADesignSensitivityT1600593, KAGRA, AdvVirgo\n",
    "from pycbc.psd.analytical import aLIGODesignSensitivityP1200087, aLIGOZeroDetHighPower\n",
    "from pycbc.cosmology import cosmological_quantity_from_redshift\n",
    "from pycbc.cosmology import redshift\n",
    "from pycbc.cosmology import distance_from_comoving_volume, redshift_from_comoving_volume\n",
    "from pycbc.waveform.generator import FDomainCBCGenerator, FDomainDetFrameGenerator\n",
    "from pycbc.types.frequencyseries import load_frequencyseries\n",
    "from pycbc.filter import sigma\n",
    "from pycbc.psd.estimate import interpolate\n",
    "from pycbc.types import FrequencySeries\n",
    "from pycbc.noise.gaussian import frequency_noise_from_psd\n",
    "from pycbc.conversions import mchirp_from_mass1_mass2, eta_from_mass1_mass2\n",
    "\n",
    "import gwfast.gwfastGlobals as glob\n",
    "import copy\n",
    "from gwfast.waveforms import IMRPhenomD_NRTidalv2, TaylorF2_RestrictedPN\n",
    "from gwfast.signal import GWSignal\n",
    "from gwfast.network import DetNet\n",
    "from fisherTools import CovMatr, compute_localization_region, check_covariance, fixParams"
   ]
  },
  {
   "cell_type": "markdown",
   "id": "diagnostic-retailer",
   "metadata": {},
   "source": [
    "### $\\rightarrow$ Original Function"
   ]
  },
  {
   "cell_type": "code",
   "execution_count": 2,
   "id": "appointed-lingerie",
   "metadata": {},
   "outputs": [],
   "source": [
    "#-- subroutine to calculate covariance matrix ---\n",
    "def generate_covmat(event, fiducial_params, ifos):\n",
    "    \n",
    "    \"\"\"Function to generate covariance matrix using gwfast package developed by Iacovelli et al.\n",
    "    For more info about gwfast, please visit https://github.com/CosmoStatGW/gwfast\n",
    "    \n",
    "    Parameters\n",
    "    ----------\n",
    "    fiducial_params: dictionary of parameters at which to calculate the metric (to be given in the following order)\n",
    "    ['Mc', 'eta', 'chi1z', 'chi2z', 'iota', 'phi', 'theta', 'dL', 'psi', 'tGPS']\n",
    "    ifos: list of interferometers\n",
    "    \n",
    "    Returns\n",
    "    -------\n",
    "    cov_mat: a covarince matrix in intrinsic parameters (['Mc', 'eta', 'chi1z', 'chi2z'])\"\"\"\n",
    "\n",
    "    alldetectors = copy.deepcopy(glob.detectors)\n",
    "    \n",
    "    # select only LIGO and Virgo\n",
    "    \n",
    "    LVdetectors = {}\n",
    "    \n",
    "    for ifo in ifos:\n",
    "        if(ifo=='V1'):\n",
    "            ifo = 'Virgo'\n",
    "        LVdetectors[ifo] = alldetectors[ifo]\n",
    "    \n",
    "    for ifo in ifos:\n",
    "        if(ifo=='V1'):\n",
    "            ifo_mod = 'Virgo'\n",
    "            LVdetectors[ifo_mod]['psd_path'] = os.getcwd() + '/psd/{}_PSD_{}.txt'.format(event, ifo)\n",
    "        else:\n",
    "            LVdetectors[ifo]['psd_path'] = os.getcwd() + '/psd/{}_PSD_{}.txt'.format(event, ifo)\n",
    "\n",
    "    myLVSignals = {}\n",
    "\n",
    "    for d in LVdetectors.keys():\n",
    "\n",
    "        myLVSignals[d] = GWSignal(TaylorF2_RestrictedPN(), \n",
    "                    psd_path=LVdetectors[d]['psd_path'],\n",
    "                    detector_shape = LVdetectors[d]['shape'],\n",
    "                    det_lat= LVdetectors[d]['lat'],\n",
    "                    det_long=LVdetectors[d]['long'],\n",
    "                    det_xax=LVdetectors[d]['xax'], \n",
    "                    verbose=False,\n",
    "                    useEarthMotion = False,\n",
    "                    fmin=10.,\n",
    "                    IntTablePath=None, is_ASD=False) \n",
    "\n",
    "    myLVNet = DetNet(myLVSignals)\n",
    "    \n",
    "    GW170817_dict = {}\n",
    "    \n",
    "    for key, val in fiducial_params.items():\n",
    "        if(key=='tGPS'):\n",
    "            GW170817_dict[key] = np.array([val])\n",
    "        elif(key=='dL'):\n",
    "            GW170817_dict[key] = np.array([val*1e-3])\n",
    "        elif(key=='theta'):\n",
    "            GW170817_dict[key] = np.array([np.pi/2 - val])\n",
    "        else:\n",
    "            GW170817_dict[key] = np.array([val])\n",
    "        \n",
    "    GW170817_dict.update(dict(Phicoal=np.array([0.])))\n",
    "    GW170817_dict.update(dict(Lambda1=np.array([0.])))\n",
    "    GW170817_dict.update(dict(Lambda2=np.array([0.])))\n",
    "    \n",
    "    SNR = myLVNet.SNR(GW170817_dict)\n",
    "    print('SNR for GW170817 is %.2f'%SNR)\n",
    "    \n",
    "    totF = myLVNet.FisherMatr(GW170817_dict, df= 1/360, use_m1m2=True) # replace df=1/360 by an appropriate variable name\n",
    "    ParNums = TaylorF2_RestrictedPN().ParNums\n",
    "    newFish, newPars = fixParams(totF, ParNums, ['iota', 'phi', 'theta', 'dL', \\\n",
    "                                                                     'tcoal', 'Phicoal', 'psi'])\n",
    "    newCov = CovMatr(newFish)[0]\n",
    "    cov_mat = np.empty((4,4))\n",
    "    \n",
    "    for i in range(4):\n",
    "        \n",
    "        for j in range(4):\n",
    "            \n",
    "            cov_mat[i,j] = newCov.reshape(4,4)[i,j]\n",
    "                                        \n",
    "    return cov_mat"
   ]
  },
  {
   "cell_type": "markdown",
   "id": "tutorial-costume",
   "metadata": {},
   "source": [
    "### $\\rightarrow$ Writing a new function"
   ]
  },
  {
   "cell_type": "code",
   "execution_count": 3,
   "id": "civic-tactics",
   "metadata": {},
   "outputs": [],
   "source": [
    "ifos = ['L1', 'H1', 'V1', 'K1']"
   ]
  },
  {
   "cell_type": "code",
   "execution_count": 4,
   "id": "rural-bacon",
   "metadata": {},
   "outputs": [],
   "source": [
    "#-- TO STORE THE LOCATION COORDINATES OF GW DETECTORS --\n",
    "\n",
    "alldetectors = copy.deepcopy(glob.detectors)\n",
    "\n",
    "# select LIGO, Virgo and KAGRA detectors\n",
    "\n",
    "LVK_detectors = {}\n",
    "\n",
    "for ifo in ifos:\n",
    "    \n",
    "    if(ifo=='V1'):\n",
    "        \n",
    "        ifo = 'Virgo'\n",
    "        \n",
    "        LVK_detectors[ifo] = alldetectors[ifo]\n",
    "    \n",
    "    elif(ifo=='K1'):\n",
    "        \n",
    "        ifo = 'KAGRA'\n",
    "        \n",
    "        LVK_detectors[ifo] = alldetectors[ifo]\n",
    "        \n",
    "    else:\n",
    "        \n",
    "        LVK_detectors[ifo] = alldetectors[ifo]\n",
    "        "
   ]
  },
  {
   "cell_type": "code",
   "execution_count": 5,
   "id": "equivalent-makeup",
   "metadata": {},
   "outputs": [
    {
     "data": {
      "text/plain": [
       "{'lat': 43.631, 'long': 10.504, 'xax': 115.56756342034298, 'shape': 'L'}"
      ]
     },
     "execution_count": 5,
     "metadata": {},
     "output_type": "execute_result"
    }
   ],
   "source": [
    "LVK_detectors['Virgo']"
   ]
  },
  {
   "cell_type": "code",
   "execution_count": 6,
   "id": "applied-houston",
   "metadata": {},
   "outputs": [],
   "source": [
    "for ifo in ifos:\n",
    "    \n",
    "    if(ifo=='V1'):\n",
    "        \n",
    "        ifo_mod = 'Virgo'\n",
    "        LVK_detectors[ifo_mod]['psd_path'] = os.getcwd() + '/../../../../psds/PSD_{}_10Hz_to_2048Hz_nonzero.txt'.format(ifo_mod)\n",
    "        \n",
    "    elif(ifo=='K1'):\n",
    "        \n",
    "        ifo_mod = 'KAGRA'\n",
    "        LVK_detectors[ifo_mod]['psd_path'] = os.getcwd() + '/../../../../psds/PSD_{}_10Hz_to_2048Hz_nonzero.txt'.format(ifo_mod)\n",
    "        \n",
    "    else:\n",
    "        \n",
    "        LVK_detectors[ifo]['psd_path'] = os.getcwd() + '/../../../../psds/PSD_O5_10Hz_to_2048Hz_nonzero.txt'\n",
    "        "
   ]
  },
  {
   "cell_type": "code",
   "execution_count": 7,
   "id": "coordinated-cattle",
   "metadata": {},
   "outputs": [
    {
     "data": {
      "text/plain": [
       "{'lat': 36.412,\n",
       " 'long': 137.306,\n",
       " 'xax': 15.396,\n",
       " 'shape': 'L',\n",
       " 'psd_path': '/home/sachins/work/PROJECTS/GW/bns_localization_with_LIGO_Aundha/localize_sim_bns/PE_Network_A0_O4/PE_combinations/PE_LHVK/../../../../psds/PSD_KAGRA_10Hz_to_2048Hz_nonzero.txt'}"
      ]
     },
     "execution_count": 7,
     "metadata": {},
     "output_type": "execute_result"
    }
   ],
   "source": [
    "LVK_detectors['KAGRA']"
   ]
  },
  {
   "cell_type": "code",
   "execution_count": 7,
   "id": "backed-playing",
   "metadata": {},
   "outputs": [],
   "source": [
    "#-- GENERATE CBC SIGNALS AS SEEN IN EACH DETECTOR AND NETWORK OF DETECTOR (using DetNet object) --\n",
    "\n",
    "myLVK_Signals = {}\n",
    "\n",
    "for d in LVK_detectors.keys():\n",
    "\n",
    "    myLVK_Signals[d] = GWSignal(TaylorF2_RestrictedPN(), \n",
    "                                psd_path=LVK_detectors[d]['psd_path'],\n",
    "                                detector_shape = LVK_detectors[d]['shape'],\n",
    "                                det_lat= LVK_detectors[d]['lat'],\n",
    "                                det_long=LVK_detectors[d]['long'],\n",
    "                                det_xax=LVK_detectors[d]['xax'], \n",
    "                                verbose=False,\n",
    "                                useEarthMotion = False,\n",
    "                                fmin=10.,\n",
    "                                IntTablePath=None, is_ASD=False) \n",
    "\n",
    "myLVK_Net = DetNet(myLVK_Signals)\n"
   ]
  },
  {
   "cell_type": "code",
   "execution_count": 8,
   "id": "apart-niagara",
   "metadata": {},
   "outputs": [],
   "source": [
    "#-- Injection Parameters --\n",
    "\n",
    "m1_src = 1.387\n",
    "m2_src = 1.326\n",
    "s1z = 0.0001294116725339975\n",
    "s2z = 3.5461352589076355e-05\n",
    "\n",
    "iota, pol = 0, 0\n",
    "tc = 1597236082 \n",
    "\n",
    "ra = 3.448296944257913 \n",
    "dec = 0.44491231446252155 \n",
    "dL = 168.65546273003267 \n",
    "z = 0.03706738893253226"
   ]
  },
  {
   "cell_type": "code",
   "execution_count": 9,
   "id": "executive-toddler",
   "metadata": {},
   "outputs": [],
   "source": [
    "#-- Detector Frame masses --\n",
    "\n",
    "m1 = m1_src * (1+z)\n",
    "m2 = m2_src * (1+z)\n",
    "\n",
    "#-- Derived Params --\n",
    "\n",
    "mchirp = mchirp_from_mass1_mass2(m1, m2)\n",
    "eta = eta_from_mass1_mass2(m1, m2)"
   ]
  },
  {
   "cell_type": "code",
   "execution_count": 10,
   "id": "present-attempt",
   "metadata": {},
   "outputs": [],
   "source": [
    "#-- DEFINING FIDUCIAL PARAMS --\n",
    "\n",
    "fiducial_params = {}\n",
    "\n",
    "fiducial_params['Mc'] = mchirp\n",
    "fiducial_params['eta'] = eta\n",
    "fiducial_params['chi1z'] = s1z\n",
    "fiducial_params['chi2z'] = s2z\n",
    "fiducial_params['iota'] = iota\n",
    "fiducial_params['phi'] = ra\n",
    "fiducial_params['theta'] = dec\n",
    "fiducial_params['dL'] = dL\n",
    "fiducial_params.update(dict(psi=pol, tGPS=tc)) "
   ]
  },
  {
   "cell_type": "code",
   "execution_count": 11,
   "id": "domestic-benjamin",
   "metadata": {},
   "outputs": [],
   "source": [
    "myEvent_dict = {}\n",
    "    \n",
    "for key, val in fiducial_params.items():\n",
    "    \n",
    "    if(key=='tGPS'):\n",
    "        myEvent_dict[key] = np.array([val])\n",
    "    elif(key=='dL'):\n",
    "        myEvent_dict[key] = np.array([val*1e-3])\n",
    "    elif(key=='theta'):\n",
    "        myEvent_dict[key] = np.array([np.pi/2 - val])\n",
    "    else:\n",
    "        myEvent_dict[key] = np.array([val])\n",
    "\n",
    "myEvent_dict.update(dict(Phicoal=np.array([0.])))\n",
    "myEvent_dict.update(dict(Lambda1=np.array([0.])))\n",
    "myEvent_dict.update(dict(Lambda2=np.array([0.])))\n"
   ]
  },
  {
   "cell_type": "code",
   "execution_count": 13,
   "id": "superb-guide",
   "metadata": {},
   "outputs": [
    {
     "name": "stdout",
     "output_type": "stream",
     "text": [
      "Adding tcoal from tGPS\n"
     ]
    },
    {
     "ename": "ValueError",
     "evalue": "interpolating from IERS_Auto using predictive values that are more\nthan 30.0 days old.\n\nNormally you should not see this error because this class\nautomatically downloads the latest IERS-A table.  Perhaps you are\noffline?  If you understand what you are doing then this error can be\nsuppressed by setting the auto_max_age configuration variable to\n``None``:\n\n  from astropy.utils.iers import conf\n  conf.auto_max_age = None\n",
     "output_type": "error",
     "traceback": [
      "\u001b[0;31m---------------------------------------------------------------------------\u001b[0m",
      "\u001b[0;31mKeyError\u001b[0m                                  Traceback (most recent call last)",
      "File \u001b[0;32m~/envs/eccentric_env/lib/python3.8/site-packages/gwfast/gwfastUtils.py:959\u001b[0m, in \u001b[0;36mcheck_evparams\u001b[0;34m(evParams)\u001b[0m\n\u001b[1;32m    958\u001b[0m \u001b[38;5;28;01mtry\u001b[39;00m:\n\u001b[0;32m--> 959\u001b[0m     _ \u001b[38;5;241m=\u001b[39m \u001b[43mevParams\u001b[49m\u001b[43m[\u001b[49m\u001b[38;5;124;43m'\u001b[39;49m\u001b[38;5;124;43mtcoal\u001b[39;49m\u001b[38;5;124;43m'\u001b[39;49m\u001b[43m]\u001b[49m\n\u001b[1;32m    960\u001b[0m \u001b[38;5;28;01mexcept\u001b[39;00m \u001b[38;5;167;01mKeyError\u001b[39;00m:\n",
      "\u001b[0;31mKeyError\u001b[0m: 'tcoal'",
      "\nDuring handling of the above exception, another exception occurred:\n",
      "\u001b[0;31mValueError\u001b[0m                                Traceback (most recent call last)",
      "Cell \u001b[0;32mIn[13], line 1\u001b[0m\n\u001b[0;32m----> 1\u001b[0m SNR \u001b[38;5;241m=\u001b[39m \u001b[43mmyLVK_Net\u001b[49m\u001b[38;5;241;43m.\u001b[39;49m\u001b[43mSNR\u001b[49m\u001b[43m(\u001b[49m\u001b[43mmyEvent_dict\u001b[49m\u001b[43m)\u001b[49m\n\u001b[1;32m      2\u001b[0m \u001b[38;5;28mprint\u001b[39m(\u001b[38;5;124m'\u001b[39m\u001b[38;5;124mSNR for myEvent is \u001b[39m\u001b[38;5;132;01m%.2f\u001b[39;00m\u001b[38;5;124m'\u001b[39m\u001b[38;5;241m%\u001b[39mSNR)\n\u001b[1;32m      4\u001b[0m totF \u001b[38;5;241m=\u001b[39m myLVK_Net\u001b[38;5;241m.\u001b[39mFisherMatr(myEvent_dict, df\u001b[38;5;241m=\u001b[39m \u001b[38;5;241m1\u001b[39m\u001b[38;5;241m/\u001b[39m\u001b[38;5;241m1500\u001b[39m, use_m1m2\u001b[38;5;241m=\u001b[39m\u001b[38;5;28;01mTrue\u001b[39;00m) \u001b[38;5;66;03m# replace df=1/360 by an appropriate variable name\u001b[39;00m\n",
      "File \u001b[0;32m~/envs/eccentric_env/lib/python3.8/site-packages/gwfast/network.py:66\u001b[0m, in \u001b[0;36mDetNet.SNR\u001b[0;34m(self, evParams, res, return_all)\u001b[0m\n\u001b[1;32m     54\u001b[0m \u001b[38;5;250m\u001b[39m\u001b[38;5;124;03m\"\"\"\u001b[39;00m\n\u001b[1;32m     55\u001b[0m \u001b[38;5;124;03mCompute the *network signal-to-noise-ratio*, SNR, as a function of the parameters of the event(s).\u001b[39;00m\n\u001b[1;32m     56\u001b[0m \u001b[38;5;124;03m\u001b[39;00m\n\u001b[0;32m   (...)\u001b[0m\n\u001b[1;32m     63\u001b[0m \u001b[38;5;124;03m\u001b[39;00m\n\u001b[1;32m     64\u001b[0m \u001b[38;5;124;03m\"\"\"\u001b[39;00m\n\u001b[1;32m     65\u001b[0m snrs \u001b[38;5;241m=\u001b[39m {}\n\u001b[0;32m---> 66\u001b[0m \u001b[43mutils\u001b[49m\u001b[38;5;241;43m.\u001b[39;49m\u001b[43mcheck_evparams\u001b[49m\u001b[43m(\u001b[49m\u001b[43mevParams\u001b[49m\u001b[43m)\u001b[49m\n\u001b[1;32m     67\u001b[0m \u001b[38;5;28;01mfor\u001b[39;00m d \u001b[38;5;129;01min\u001b[39;00m \u001b[38;5;28mself\u001b[39m\u001b[38;5;241m.\u001b[39msignals\u001b[38;5;241m.\u001b[39mkeys():\n\u001b[1;32m     68\u001b[0m     snr_ \u001b[38;5;241m=\u001b[39m \u001b[38;5;28mself\u001b[39m\u001b[38;5;241m.\u001b[39msignals[d]\u001b[38;5;241m.\u001b[39mSNRInteg(evParams, res\u001b[38;5;241m=\u001b[39mres, return_all\u001b[38;5;241m=\u001b[39mreturn_all)\n",
      "File \u001b[0;32m~/envs/eccentric_env/lib/python3.8/site-packages/gwfast/gwfastUtils.py:964\u001b[0m, in \u001b[0;36mcheck_evparams\u001b[0;34m(evParams)\u001b[0m\n\u001b[1;32m    962\u001b[0m     \u001b[38;5;28mprint\u001b[39m(\u001b[38;5;124m'\u001b[39m\u001b[38;5;124mAdding tcoal from tGPS\u001b[39m\u001b[38;5;124m'\u001b[39m)\n\u001b[1;32m    963\u001b[0m     \u001b[38;5;66;03m# In the code we use Greenwich Mean Sidereal Time (LMST computed at long = 0. deg) as convention, so convert t_GPS\u001b[39;00m\n\u001b[0;32m--> 964\u001b[0m     evParams[\u001b[38;5;124m'\u001b[39m\u001b[38;5;124mtcoal\u001b[39m\u001b[38;5;124m'\u001b[39m] \u001b[38;5;241m=\u001b[39m \u001b[43mGPSt_to_LMST\u001b[49m\u001b[43m(\u001b[49m\u001b[43mevParams\u001b[49m\u001b[43m[\u001b[49m\u001b[38;5;124;43m'\u001b[39;49m\u001b[38;5;124;43mtGPS\u001b[39;49m\u001b[38;5;124;43m'\u001b[39;49m\u001b[43m]\u001b[49m\u001b[43m,\u001b[49m\u001b[43m \u001b[49m\u001b[43mlat\u001b[49m\u001b[38;5;241;43m=\u001b[39;49m\u001b[38;5;241;43m0.\u001b[39;49m\u001b[43m,\u001b[49m\u001b[43m \u001b[49m\u001b[43mlong\u001b[49m\u001b[38;5;241;43m=\u001b[39;49m\u001b[38;5;241;43m0.\u001b[39;49m\u001b[43m)\u001b[49m\n\u001b[1;32m    965\u001b[0m \u001b[38;5;28;01mexcept\u001b[39;00m \u001b[38;5;167;01mKeyError\u001b[39;00m:\n\u001b[1;32m    966\u001b[0m     \u001b[38;5;28;01mraise\u001b[39;00m \u001b[38;5;167;01mValueError\u001b[39;00m(\u001b[38;5;124m'\u001b[39m\u001b[38;5;124mOne among tGPS and tcoal has to be provided.\u001b[39m\u001b[38;5;124m'\u001b[39m)\n",
      "File \u001b[0;32m~/envs/eccentric_env/lib/python3.8/site-packages/gwfast/gwfastUtils.py:754\u001b[0m, in \u001b[0;36mGPSt_to_LMST\u001b[0;34m(t_GPS, lat, long)\u001b[0m\n\u001b[1;32m    752\u001b[0m loc \u001b[38;5;241m=\u001b[39m EarthLocation(lat\u001b[38;5;241m=\u001b[39mlat\u001b[38;5;241m*\u001b[39mu\u001b[38;5;241m.\u001b[39mdeg, lon\u001b[38;5;241m=\u001b[39mlong\u001b[38;5;241m*\u001b[39mu\u001b[38;5;241m.\u001b[39mdeg)\n\u001b[1;32m    753\u001b[0m t \u001b[38;5;241m=\u001b[39m aspyt\u001b[38;5;241m.\u001b[39mTime(t_GPS, \u001b[38;5;28mformat\u001b[39m\u001b[38;5;241m=\u001b[39m\u001b[38;5;124m'\u001b[39m\u001b[38;5;124mgps\u001b[39m\u001b[38;5;124m'\u001b[39m, location\u001b[38;5;241m=\u001b[39m(loc))\n\u001b[0;32m--> 754\u001b[0m LMST \u001b[38;5;241m=\u001b[39m \u001b[43mt\u001b[49m\u001b[38;5;241;43m.\u001b[39;49m\u001b[43msidereal_time\u001b[49m\u001b[43m(\u001b[49m\u001b[38;5;124;43m'\u001b[39;49m\u001b[38;5;124;43mmean\u001b[39;49m\u001b[38;5;124;43m'\u001b[39;49m\u001b[43m)\u001b[49m\u001b[38;5;241m.\u001b[39mvalue\n\u001b[1;32m    755\u001b[0m \u001b[38;5;28;01mreturn\u001b[39;00m jnp\u001b[38;5;241m.\u001b[39marray(LMST\u001b[38;5;241m/\u001b[39m\u001b[38;5;241m24.\u001b[39m)\n",
      "File \u001b[0;32m~/envs/eccentric_env/lib/python3.8/site-packages/astropy/time/core.py:2268\u001b[0m, in \u001b[0;36mTime.sidereal_time\u001b[0;34m(self, kind, longitude, model)\u001b[0m\n\u001b[1;32m   2265\u001b[0m     model_kwargs \u001b[38;5;241m=\u001b[39m model_kwargs\u001b[38;5;241m.\u001b[39mcopy()\n\u001b[1;32m   2266\u001b[0m     model_kwargs[\u001b[38;5;124m\"\u001b[39m\u001b[38;5;124minclude_tio\u001b[39m\u001b[38;5;124m\"\u001b[39m] \u001b[38;5;241m=\u001b[39m \u001b[38;5;28;01mFalse\u001b[39;00m\n\u001b[0;32m-> 2268\u001b[0m \u001b[38;5;28;01mreturn\u001b[39;00m \u001b[38;5;28;43mself\u001b[39;49m\u001b[38;5;241;43m.\u001b[39;49m\u001b[43m_sid_time_or_earth_rot_ang\u001b[49m\u001b[43m(\u001b[49m\u001b[43mlongitude\u001b[49m\u001b[38;5;241;43m=\u001b[39;49m\u001b[43mlongitude\u001b[49m\u001b[43m,\u001b[49m\u001b[43m \u001b[49m\u001b[38;5;241;43m*\u001b[39;49m\u001b[38;5;241;43m*\u001b[39;49m\u001b[43mmodel_kwargs\u001b[49m\u001b[43m)\u001b[49m\n",
      "File \u001b[0;32m~/envs/eccentric_env/lib/python3.8/site-packages/astropy/time/core.py:2318\u001b[0m, in \u001b[0;36mTime._sid_time_or_earth_rot_ang\u001b[0;34m(self, longitude, function, scales, include_tio)\u001b[0m\n\u001b[1;32m   2314\u001b[0m \u001b[38;5;28;01melse\u001b[39;00m:\n\u001b[1;32m   2315\u001b[0m     \u001b[38;5;66;03m# Sanity check on input; default unit is degree.\u001b[39;00m\n\u001b[1;32m   2316\u001b[0m     longitude \u001b[38;5;241m=\u001b[39m Longitude(longitude, u\u001b[38;5;241m.\u001b[39mdegree, copy\u001b[38;5;241m=\u001b[39m\u001b[38;5;28;01mFalse\u001b[39;00m)\n\u001b[0;32m-> 2318\u001b[0m theta \u001b[38;5;241m=\u001b[39m \u001b[38;5;28;43mself\u001b[39;49m\u001b[38;5;241;43m.\u001b[39;49m\u001b[43m_call_erfa\u001b[49m\u001b[43m(\u001b[49m\u001b[43mfunction\u001b[49m\u001b[43m,\u001b[49m\u001b[43m \u001b[49m\u001b[43mscales\u001b[49m\u001b[43m)\u001b[49m\n\u001b[1;32m   2320\u001b[0m \u001b[38;5;28;01mif\u001b[39;00m include_tio:\n\u001b[1;32m   2321\u001b[0m     \u001b[38;5;66;03m# TODO: this duplicates part of coordinates.erfa_astrom.ErfaAstrom.apio;\u001b[39;00m\n\u001b[1;32m   2322\u001b[0m     \u001b[38;5;66;03m# maybe posisble to factor out to one or the other.\u001b[39;00m\n\u001b[1;32m   2323\u001b[0m     sp \u001b[38;5;241m=\u001b[39m \u001b[38;5;28mself\u001b[39m\u001b[38;5;241m.\u001b[39m_call_erfa(erfa\u001b[38;5;241m.\u001b[39msp00, (\u001b[38;5;124m\"\u001b[39m\u001b[38;5;124mtt\u001b[39m\u001b[38;5;124m\"\u001b[39m,))\n",
      "File \u001b[0;32m~/envs/eccentric_env/lib/python3.8/site-packages/astropy/time/core.py:2342\u001b[0m, in \u001b[0;36mTime._call_erfa\u001b[0;34m(self, function, scales)\u001b[0m\n\u001b[1;32m   2340\u001b[0m \u001b[38;5;28;01mdef\u001b[39;00m \u001b[38;5;21m_call_erfa\u001b[39m(\u001b[38;5;28mself\u001b[39m, function, scales):\n\u001b[1;32m   2341\u001b[0m     \u001b[38;5;66;03m# TODO: allow erfa functions to be used on Time with __array_ufunc__.\u001b[39;00m\n\u001b[0;32m-> 2342\u001b[0m     erfa_parameters \u001b[38;5;241m=\u001b[39m [\n\u001b[1;32m   2343\u001b[0m         \u001b[38;5;28mgetattr\u001b[39m(\u001b[38;5;28mgetattr\u001b[39m(\u001b[38;5;28mself\u001b[39m, scale)\u001b[38;5;241m.\u001b[39m_time, jd_part)\n\u001b[1;32m   2344\u001b[0m         \u001b[38;5;28;01mfor\u001b[39;00m scale \u001b[38;5;129;01min\u001b[39;00m scales\n\u001b[1;32m   2345\u001b[0m         \u001b[38;5;28;01mfor\u001b[39;00m jd_part \u001b[38;5;129;01min\u001b[39;00m (\u001b[38;5;124m\"\u001b[39m\u001b[38;5;124mjd1\u001b[39m\u001b[38;5;124m\"\u001b[39m, \u001b[38;5;124m\"\u001b[39m\u001b[38;5;124mjd2_filled\u001b[39m\u001b[38;5;124m\"\u001b[39m)\n\u001b[1;32m   2346\u001b[0m     ]\n\u001b[1;32m   2348\u001b[0m     result \u001b[38;5;241m=\u001b[39m function(\u001b[38;5;241m*\u001b[39merfa_parameters)\n\u001b[1;32m   2350\u001b[0m     \u001b[38;5;28;01mif\u001b[39;00m \u001b[38;5;28mself\u001b[39m\u001b[38;5;241m.\u001b[39mmasked:\n",
      "File \u001b[0;32m~/envs/eccentric_env/lib/python3.8/site-packages/astropy/time/core.py:2343\u001b[0m, in \u001b[0;36m<listcomp>\u001b[0;34m(.0)\u001b[0m\n\u001b[1;32m   2340\u001b[0m \u001b[38;5;28;01mdef\u001b[39;00m \u001b[38;5;21m_call_erfa\u001b[39m(\u001b[38;5;28mself\u001b[39m, function, scales):\n\u001b[1;32m   2341\u001b[0m     \u001b[38;5;66;03m# TODO: allow erfa functions to be used on Time with __array_ufunc__.\u001b[39;00m\n\u001b[1;32m   2342\u001b[0m     erfa_parameters \u001b[38;5;241m=\u001b[39m [\n\u001b[0;32m-> 2343\u001b[0m         \u001b[38;5;28mgetattr\u001b[39m(\u001b[38;5;28;43mgetattr\u001b[39;49m\u001b[43m(\u001b[49m\u001b[38;5;28;43mself\u001b[39;49m\u001b[43m,\u001b[49m\u001b[43m \u001b[49m\u001b[43mscale\u001b[49m\u001b[43m)\u001b[49m\u001b[38;5;241m.\u001b[39m_time, jd_part)\n\u001b[1;32m   2344\u001b[0m         \u001b[38;5;28;01mfor\u001b[39;00m scale \u001b[38;5;129;01min\u001b[39;00m scales\n\u001b[1;32m   2345\u001b[0m         \u001b[38;5;28;01mfor\u001b[39;00m jd_part \u001b[38;5;129;01min\u001b[39;00m (\u001b[38;5;124m\"\u001b[39m\u001b[38;5;124mjd1\u001b[39m\u001b[38;5;124m\"\u001b[39m, \u001b[38;5;124m\"\u001b[39m\u001b[38;5;124mjd2_filled\u001b[39m\u001b[38;5;124m\"\u001b[39m)\n\u001b[1;32m   2346\u001b[0m     ]\n\u001b[1;32m   2348\u001b[0m     result \u001b[38;5;241m=\u001b[39m function(\u001b[38;5;241m*\u001b[39merfa_parameters)\n\u001b[1;32m   2350\u001b[0m     \u001b[38;5;28;01mif\u001b[39;00m \u001b[38;5;28mself\u001b[39m\u001b[38;5;241m.\u001b[39mmasked:\n",
      "File \u001b[0;32m~/envs/eccentric_env/lib/python3.8/site-packages/astropy/time/core.py:1635\u001b[0m, in \u001b[0;36mTimeBase.__getattr__\u001b[0;34m(self, attr)\u001b[0m\n\u001b[1;32m   1633\u001b[0m \u001b[38;5;28;01melse\u001b[39;00m:\n\u001b[1;32m   1634\u001b[0m     tm \u001b[38;5;241m=\u001b[39m \u001b[38;5;28mself\u001b[39m\u001b[38;5;241m.\u001b[39mreplicate()\n\u001b[0;32m-> 1635\u001b[0m     \u001b[43mtm\u001b[49m\u001b[38;5;241;43m.\u001b[39;49m\u001b[43m_set_scale\u001b[49m\u001b[43m(\u001b[49m\u001b[43mattr\u001b[49m\u001b[43m)\u001b[49m\n\u001b[1;32m   1636\u001b[0m     \u001b[38;5;28;01mif\u001b[39;00m tm\u001b[38;5;241m.\u001b[39mshape:\n\u001b[1;32m   1637\u001b[0m         \u001b[38;5;66;03m# Prevent future modification of cached array-like object\u001b[39;00m\n\u001b[1;32m   1638\u001b[0m         tm\u001b[38;5;241m.\u001b[39mwriteable \u001b[38;5;241m=\u001b[39m \u001b[38;5;28;01mFalse\u001b[39;00m\n",
      "File \u001b[0;32m~/envs/eccentric_env/lib/python3.8/site-packages/astropy/time/core.py:772\u001b[0m, in \u001b[0;36mTimeBase._set_scale\u001b[0;34m(self, scale)\u001b[0m\n\u001b[1;32m    770\u001b[0m         \u001b[38;5;28;01mpass\u001b[39;00m\n\u001b[1;32m    771\u001b[0m     \u001b[38;5;28;01melse\u001b[39;00m:\n\u001b[0;32m--> 772\u001b[0m         args\u001b[38;5;241m.\u001b[39mappend(\u001b[43mget_dt\u001b[49m\u001b[43m(\u001b[49m\u001b[43mjd1\u001b[49m\u001b[43m,\u001b[49m\u001b[43m \u001b[49m\u001b[43mjd2\u001b[49m\u001b[43m)\u001b[49m)\n\u001b[1;32m    773\u001b[0m         \u001b[38;5;28;01mbreak\u001b[39;00m\n\u001b[1;32m    775\u001b[0m conv_func \u001b[38;5;241m=\u001b[39m \u001b[38;5;28mgetattr\u001b[39m(erfa, sys1 \u001b[38;5;241m+\u001b[39m sys2)\n",
      "File \u001b[0;32m~/envs/eccentric_env/lib/python3.8/site-packages/astropy/time/core.py:2427\u001b[0m, in \u001b[0;36mTime._get_delta_ut1_utc\u001b[0;34m(self, jd1, jd2)\u001b[0m\n\u001b[1;32m   2425\u001b[0m     scale \u001b[38;5;241m=\u001b[39m \u001b[38;5;28mself\u001b[39m\u001b[38;5;241m.\u001b[39mscale\n\u001b[1;32m   2426\u001b[0m \u001b[38;5;66;03m# interpolate UT1-UTC in IERS table\u001b[39;00m\n\u001b[0;32m-> 2427\u001b[0m delta \u001b[38;5;241m=\u001b[39m \u001b[43miers_table\u001b[49m\u001b[38;5;241;43m.\u001b[39;49m\u001b[43mut1_utc\u001b[49m\u001b[43m(\u001b[49m\u001b[43mjd1\u001b[49m\u001b[43m,\u001b[49m\u001b[43m \u001b[49m\u001b[43mjd2\u001b[49m\u001b[43m)\u001b[49m\n\u001b[1;32m   2428\u001b[0m \u001b[38;5;66;03m# if we interpolated using UT1 jds, we may be off by one\u001b[39;00m\n\u001b[1;32m   2429\u001b[0m \u001b[38;5;66;03m# second near leap seconds (and very slightly off elsewhere)\u001b[39;00m\n\u001b[1;32m   2430\u001b[0m \u001b[38;5;28;01mif\u001b[39;00m scale \u001b[38;5;241m==\u001b[39m \u001b[38;5;124m\"\u001b[39m\u001b[38;5;124mut1\u001b[39m\u001b[38;5;124m\"\u001b[39m:\n\u001b[1;32m   2431\u001b[0m     \u001b[38;5;66;03m# calculate UTC using the offset we got; the ERFA routine\u001b[39;00m\n\u001b[1;32m   2432\u001b[0m     \u001b[38;5;66;03m# is tolerant of leap seconds, so will do this right\u001b[39;00m\n",
      "File \u001b[0;32m~/envs/eccentric_env/lib/python3.8/site-packages/astropy/utils/iers/iers.py:344\u001b[0m, in \u001b[0;36mIERS.ut1_utc\u001b[0;34m(self, jd1, jd2, return_status)\u001b[0m\n\u001b[1;32m    317\u001b[0m \u001b[38;5;28;01mdef\u001b[39;00m \u001b[38;5;21mut1_utc\u001b[39m(\u001b[38;5;28mself\u001b[39m, jd1, jd2\u001b[38;5;241m=\u001b[39m\u001b[38;5;241m0.0\u001b[39m, return_status\u001b[38;5;241m=\u001b[39m\u001b[38;5;28;01mFalse\u001b[39;00m):\n\u001b[1;32m    318\u001b[0m \u001b[38;5;250m    \u001b[39m\u001b[38;5;124;03m\"\"\"Interpolate UT1-UTC corrections in IERS Table for given dates.\u001b[39;00m\n\u001b[1;32m    319\u001b[0m \n\u001b[1;32m    320\u001b[0m \u001b[38;5;124;03m    Parameters\u001b[39;00m\n\u001b[0;32m   (...)\u001b[0m\n\u001b[1;32m    342\u001b[0m \u001b[38;5;124;03m        ``iers.TIME_BEYOND_IERS_RANGE``\u001b[39;00m\n\u001b[1;32m    343\u001b[0m \u001b[38;5;124;03m    \"\"\"\u001b[39;00m\n\u001b[0;32m--> 344\u001b[0m     \u001b[38;5;28;01mreturn\u001b[39;00m \u001b[38;5;28;43mself\u001b[39;49m\u001b[38;5;241;43m.\u001b[39;49m\u001b[43m_interpolate\u001b[49m\u001b[43m(\u001b[49m\n\u001b[1;32m    345\u001b[0m \u001b[43m        \u001b[49m\u001b[43mjd1\u001b[49m\u001b[43m,\u001b[49m\u001b[43m \u001b[49m\u001b[43mjd2\u001b[49m\u001b[43m,\u001b[49m\u001b[43m \u001b[49m\u001b[43m[\u001b[49m\u001b[38;5;124;43m\"\u001b[39;49m\u001b[38;5;124;43mUT1_UTC\u001b[39;49m\u001b[38;5;124;43m\"\u001b[39;49m\u001b[43m]\u001b[49m\u001b[43m,\u001b[49m\u001b[43m \u001b[49m\u001b[38;5;28;43mself\u001b[39;49m\u001b[38;5;241;43m.\u001b[39;49m\u001b[43mut1_utc_source\u001b[49m\u001b[43m \u001b[49m\u001b[38;5;28;43;01mif\u001b[39;49;00m\u001b[43m \u001b[49m\u001b[43mreturn_status\u001b[49m\u001b[43m \u001b[49m\u001b[38;5;28;43;01melse\u001b[39;49;00m\u001b[43m \u001b[49m\u001b[38;5;28;43;01mNone\u001b[39;49;00m\n\u001b[1;32m    346\u001b[0m \u001b[43m    \u001b[49m\u001b[43m)\u001b[49m\n",
      "File \u001b[0;32m~/envs/eccentric_env/lib/python3.8/site-packages/astropy/utils/iers/iers.py:500\u001b[0m, in \u001b[0;36mIERS._interpolate\u001b[0;34m(self, jd1, jd2, columns, source)\u001b[0m\n\u001b[1;32m    498\u001b[0m     \u001b[38;5;28;01mreturn\u001b[39;00m results\n\u001b[1;32m    499\u001b[0m \u001b[38;5;28;01melse\u001b[39;00m:\n\u001b[0;32m--> 500\u001b[0m     \u001b[38;5;28;43mself\u001b[39;49m\u001b[38;5;241;43m.\u001b[39;49m\u001b[43m_check_interpolate_indices\u001b[49m\u001b[43m(\u001b[49m\u001b[43mi1\u001b[49m\u001b[43m,\u001b[49m\u001b[43m \u001b[49m\u001b[43mi\u001b[49m\u001b[43m,\u001b[49m\u001b[43m \u001b[49m\u001b[43mnp\u001b[49m\u001b[38;5;241;43m.\u001b[39;49m\u001b[43mmax\u001b[49m\u001b[43m(\u001b[49m\u001b[43mmjd\u001b[49m\u001b[43m)\u001b[49m\u001b[43m)\u001b[49m\n\u001b[1;32m    501\u001b[0m     \u001b[38;5;28;01mreturn\u001b[39;00m results[\u001b[38;5;241m0\u001b[39m] \u001b[38;5;28;01mif\u001b[39;00m \u001b[38;5;28mlen\u001b[39m(results) \u001b[38;5;241m==\u001b[39m \u001b[38;5;241m1\u001b[39m \u001b[38;5;28;01melse\u001b[39;00m results\n",
      "File \u001b[0;32m~/envs/eccentric_env/lib/python3.8/site-packages/astropy/utils/iers/iers.py:806\u001b[0m, in \u001b[0;36mIERS_Auto._check_interpolate_indices\u001b[0;34m(self, indices_orig, indices_clipped, max_input_mjd)\u001b[0m\n\u001b[1;32m    801\u001b[0m auto_max_age \u001b[38;5;241m=\u001b[39m _none_to_float(conf\u001b[38;5;241m.\u001b[39mauto_max_age)\n\u001b[1;32m    802\u001b[0m \u001b[38;5;28;01mif\u001b[39;00m (\n\u001b[1;32m    803\u001b[0m     max_input_mjd \u001b[38;5;241m>\u001b[39m predictive_mjd\n\u001b[1;32m    804\u001b[0m     \u001b[38;5;129;01mand\u001b[39;00m \u001b[38;5;28mself\u001b[39m\u001b[38;5;241m.\u001b[39mtime_now\u001b[38;5;241m.\u001b[39mmjd \u001b[38;5;241m-\u001b[39m predictive_mjd \u001b[38;5;241m>\u001b[39m auto_max_age\n\u001b[1;32m    805\u001b[0m ):\n\u001b[0;32m--> 806\u001b[0m     \u001b[38;5;28;01mraise\u001b[39;00m \u001b[38;5;167;01mValueError\u001b[39;00m(INTERPOLATE_ERROR\u001b[38;5;241m.\u001b[39mformat(auto_max_age))\n",
      "\u001b[0;31mValueError\u001b[0m: interpolating from IERS_Auto using predictive values that are more\nthan 30.0 days old.\n\nNormally you should not see this error because this class\nautomatically downloads the latest IERS-A table.  Perhaps you are\noffline?  If you understand what you are doing then this error can be\nsuppressed by setting the auto_max_age configuration variable to\n``None``:\n\n  from astropy.utils.iers import conf\n  conf.auto_max_age = None\n"
     ]
    }
   ],
   "source": [
    "SNR = myLVK_Net.SNR(myEvent_dict)\n",
    "print('SNR for myEvent is %.2f'%SNR)\n",
    "\n",
    "totF = myLVK_Net.FisherMatr(myEvent_dict, df= 1/1500, use_m1m2=True) # replace df=1/360 by an appropriate variable name\n",
    "\n",
    "ParNums = TaylorF2_RestrictedPN().ParNums\n",
    "\n",
    "newFish, newPars = fixParams(totF, ParNums, ['iota', 'phi', 'theta', 'dL', \\\n",
    "                                                                 'tcoal', 'Phicoal', 'psi'])\n",
    "\n",
    "newCov = CovMatr(newFish)[0]\n",
    "\n",
    "cov_mat = np.empty((4,4))\n",
    "\n",
    "for i in range(4):\n",
    "\n",
    "    for j in range(4):\n",
    "\n",
    "        cov_mat[i,j] = newCov.reshape(4,4)[i,j]\n",
    "\n"
   ]
  },
  {
   "cell_type": "code",
   "execution_count": null,
   "id": "blind-creativity",
   "metadata": {},
   "outputs": [],
   "source": [
    "cov_mat"
   ]
  },
  {
   "cell_type": "code",
   "execution_count": 59,
   "id": "assured-cooking",
   "metadata": {},
   "outputs": [
    {
     "data": {
      "text/plain": [
       "array([[ 0.18771961, -0.17786184,  0.60966047, -0.63817667],\n",
       "       [-0.17786184,  0.16852173, -0.57764847,  0.60466739],\n",
       "       [ 0.60966047, -0.57764847,  2.73407388, -2.8700274 ],\n",
       "       [-0.63817667,  0.60466739, -2.8700274 ,  3.0128041 ]],\n",
       "      dtype=float128)"
      ]
     },
     "execution_count": 59,
     "metadata": {},
     "output_type": "execute_result"
    }
   ],
   "source": [
    "newCov.reshape(4,4)"
   ]
  },
  {
   "cell_type": "code",
   "execution_count": null,
   "id": "guided-friendly",
   "metadata": {},
   "outputs": [],
   "source": []
  }
 ],
 "metadata": {
  "kernelspec": {
   "display_name": "eccentric_env",
   "language": "python",
   "name": "eccentric_env"
  },
  "language_info": {
   "codemirror_mode": {
    "name": "ipython",
    "version": 3
   },
   "file_extension": ".py",
   "mimetype": "text/x-python",
   "name": "python",
   "nbconvert_exporter": "python",
   "pygments_lexer": "ipython3",
   "version": "3.8.10"
  }
 },
 "nbformat": 4,
 "nbformat_minor": 5
}
