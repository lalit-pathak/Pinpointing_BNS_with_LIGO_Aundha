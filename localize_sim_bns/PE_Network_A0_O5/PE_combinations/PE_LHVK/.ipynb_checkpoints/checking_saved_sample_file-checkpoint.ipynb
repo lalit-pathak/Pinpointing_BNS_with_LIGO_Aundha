{
 "cells": [
  {
   "cell_type": "code",
   "execution_count": 1,
   "id": "maritime-barcelona",
   "metadata": {},
   "outputs": [],
   "source": [
    "import h5py"
   ]
  },
  {
   "cell_type": "code",
   "execution_count": 3,
   "id": "following-large",
   "metadata": {},
   "outputs": [
    {
     "name": "stdout",
     "output_type": "stream",
     "text": [
      "<KeysViewHDF5 ['Mc', 'Vcom', 'chi1z', 'chi2z', 'chi_eff', 'dL', 'dec', 'iota', 'mass_ratio', 'pol', 'ra', 'tc', 'z']>\n",
      "607\n"
     ]
    }
   ],
   "source": [
    "with h5py.File('post_samples/post_samples_interp_SNR_20to25_L1H1V1K1.hdf', 'r') as f:\n",
    "    \n",
    "    print(f['injection_0'].keys())\n",
    "    print(len(f))"
   ]
  },
  {
   "cell_type": "code",
   "execution_count": null,
   "id": "bigger-journey",
   "metadata": {},
   "outputs": [],
   "source": []
  }
 ],
 "metadata": {
  "kernelspec": {
   "display_name": "pycbc_env",
   "language": "python",
   "name": "pycbc_env"
  },
  "language_info": {
   "codemirror_mode": {
    "name": "ipython",
    "version": 3
   },
   "file_extension": ".py",
   "mimetype": "text/x-python",
   "name": "python",
   "nbconvert_exporter": "python",
   "pygments_lexer": "ipython3",
   "version": "3.8.5"
  }
 },
 "nbformat": 4,
 "nbformat_minor": 5
}
