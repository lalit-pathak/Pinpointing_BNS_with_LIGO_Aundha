{
 "cells": [
  {
   "cell_type": "markdown",
   "id": "logical-montgomery",
   "metadata": {},
   "source": [
    "## $\\Rightarrow$ Notebook to test the code used to generate the covariance matrix using GWFish and including KAGRA (K1) into the network."
   ]
  },
  {
   "cell_type": "code",
   "execution_count": 2,
   "id": "senior-willow",
   "metadata": {},
   "outputs": [],
   "source": [
    "#-- import modules -\n",
    "\n",
    "import numpy as np\n",
    "import matplotlib.pyplot as plt\n",
    "import h5py\n",
    "import pandas as pd\n",
    "from itertools import combinations\n",
    "import os\n",
    "import sys\n",
    "\n",
    "from pycbc.detector import add_detector_on_earth\n",
    "from pycbc.waveform import get_waveform_filter_length_in_time as duration\n",
    "from pycbc.psd.analytical import aLIGOAPlusDesignSensitivityT1800042, AdVDesignSensitivityP1200087, KAGRADesignSensitivityT1600593, KAGRA, AdvVirgo\n",
    "from pycbc.psd.analytical import aLIGODesignSensitivityP1200087, aLIGOZeroDetHighPower\n",
    "from pycbc.cosmology import cosmological_quantity_from_redshift\n",
    "from pycbc.cosmology import redshift\n",
    "from pycbc.cosmology import distance_from_comoving_volume, redshift_from_comoving_volume\n",
    "from pycbc.waveform.generator import FDomainCBCGenerator, FDomainDetFrameGenerator\n",
    "from pycbc.types.frequencyseries import load_frequencyseries\n",
    "from pycbc.filter import sigma\n",
    "from pycbc.psd.estimate import interpolate\n",
    "from pycbc.types import FrequencySeries\n",
    "from pycbc.noise.gaussian import frequency_noise_from_psd\n",
    "from pycbc.conversions import mchirp_from_mass1_mass2, eta_from_mass1_mass2\n",
    "\n",
    "import gwfast.gwfastGlobals as glob\n",
    "import copy\n",
    "from gwfast.waveforms import IMRPhenomD_NRTidalv2, TaylorF2_RestrictedPN\n",
    "from gwfast.signal import GWSignal\n",
    "from gwfast.network import DetNet\n",
    "from fisherTools import CovMatr, compute_localization_region, check_covariance, fixParams"
   ]
  },
  {
   "cell_type": "markdown",
   "id": "diagnostic-retailer",
   "metadata": {},
   "source": [
    "### $\\rightarrow$ Original Function"
   ]
  },
  {
   "cell_type": "code",
   "execution_count": 17,
   "id": "appointed-lingerie",
   "metadata": {},
   "outputs": [],
   "source": [
    "#-- subroutine to calculate covariance matrix ---\n",
    "def generate_covmat(event, fiducial_params, ifos):\n",
    "    \n",
    "    \"\"\"Function to generate covariance matrix using gwfast package developed by Iacovelli et al.\n",
    "    For more info about gwfast, please visit https://github.com/CosmoStatGW/gwfast\n",
    "    \n",
    "    Parameters\n",
    "    ----------\n",
    "    fiducial_params: dictionary of parameters at which to calculate the metric (to be given in the following order)\n",
    "    ['Mc', 'eta', 'chi1z', 'chi2z', 'iota', 'phi', 'theta', 'dL', 'psi', 'tGPS']\n",
    "    ifos: list of interferometers\n",
    "    \n",
    "    Returns\n",
    "    -------\n",
    "    cov_mat: a covarince matrix in intrinsic parameters (['Mc', 'eta', 'chi1z', 'chi2z'])\"\"\"\n",
    "\n",
    "    alldetectors = copy.deepcopy(glob.detectors)\n",
    "    \n",
    "    # select only LIGO and Virgo\n",
    "    \n",
    "    LVdetectors = {}\n",
    "    \n",
    "    for ifo in ifos:\n",
    "        if(ifo=='V1'):\n",
    "            ifo = 'Virgo'\n",
    "        LVdetectors[ifo] = alldetectors[ifo]\n",
    "    \n",
    "    for ifo in ifos:\n",
    "        if(ifo=='V1'):\n",
    "            ifo_mod = 'Virgo'\n",
    "            LVdetectors[ifo_mod]['psd_path'] = os.getcwd() + '/psd/{}_PSD_{}.txt'.format(event, ifo)\n",
    "        else:\n",
    "            LVdetectors[ifo]['psd_path'] = os.getcwd() + '/psd/{}_PSD_{}.txt'.format(event, ifo)\n",
    "\n",
    "    myLVSignals = {}\n",
    "\n",
    "    for d in LVdetectors.keys():\n",
    "\n",
    "        myLVSignals[d] = GWSignal(TaylorF2_RestrictedPN(), \n",
    "                    psd_path=LVdetectors[d]['psd_path'],\n",
    "                    detector_shape = LVdetectors[d]['shape'],\n",
    "                    det_lat= LVdetectors[d]['lat'],\n",
    "                    det_long=LVdetectors[d]['long'],\n",
    "                    det_xax=LVdetectors[d]['xax'], \n",
    "                    verbose=False,\n",
    "                    useEarthMotion = False,\n",
    "                    fmin=10.,\n",
    "                    IntTablePath=None, is_ASD=False) \n",
    "\n",
    "    myLVNet = DetNet(myLVSignals)\n",
    "    \n",
    "    GW170817_dict = {}\n",
    "    \n",
    "    for key, val in fiducial_params.items():\n",
    "        if(key=='tGPS'):\n",
    "            GW170817_dict[key] = np.array([val])\n",
    "        elif(key=='dL'):\n",
    "            GW170817_dict[key] = np.array([val*1e-3])\n",
    "        elif(key=='theta'):\n",
    "            GW170817_dict[key] = np.array([np.pi/2 - val])\n",
    "        else:\n",
    "            GW170817_dict[key] = np.array([val])\n",
    "        \n",
    "    GW170817_dict.update(dict(Phicoal=np.array([0.])))\n",
    "    GW170817_dict.update(dict(Lambda1=np.array([0.])))\n",
    "    GW170817_dict.update(dict(Lambda2=np.array([0.])))\n",
    "    \n",
    "    SNR = myLVNet.SNR(GW170817_dict)\n",
    "    print('SNR for GW170817 is %.2f'%SNR)\n",
    "    \n",
    "    totF = myLVNet.FisherMatr(GW170817_dict, df= 1/360, use_m1m2=True) # replace df=1/360 by an appropriate variable name\n",
    "    ParNums = TaylorF2_RestrictedPN().ParNums\n",
    "    newFish, newPars = fixParams(totF, ParNums, ['iota', 'phi', 'theta', 'dL', \\\n",
    "                                                                     'tcoal', 'Phicoal', 'psi'])\n",
    "    newCov = CovMatr(newFish)[0]\n",
    "    cov_mat = np.empty((4,4))\n",
    "    \n",
    "    for i in range(4):\n",
    "        \n",
    "        for j in range(4):\n",
    "            \n",
    "            cov_mat[i,j] = newCov.reshape(4,4)[i,j]\n",
    "                                        \n",
    "    return cov_mat"
   ]
  },
  {
   "cell_type": "markdown",
   "id": "tutorial-costume",
   "metadata": {},
   "source": [
    "### $\\rightarrow$ Writing a new function"
   ]
  },
  {
   "cell_type": "code",
   "execution_count": 3,
   "id": "civic-tactics",
   "metadata": {},
   "outputs": [],
   "source": [
    "ifos = ['L1', 'H1', 'V1', 'K1']"
   ]
  },
  {
   "cell_type": "code",
   "execution_count": 4,
   "id": "rural-bacon",
   "metadata": {},
   "outputs": [],
   "source": [
    "#-- TO STORE THE LOCATION COORDINATES OF GW DETECTORS --\n",
    "\n",
    "alldetectors = copy.deepcopy(glob.detectors)\n",
    "\n",
    "# select LIGO, Virgo and KAGRA detectors\n",
    "\n",
    "LVK_detectors = {}\n",
    "\n",
    "for ifo in ifos:\n",
    "    \n",
    "    if(ifo=='V1'):\n",
    "        \n",
    "        ifo = 'Virgo'\n",
    "        \n",
    "        LVK_detectors[ifo] = alldetectors[ifo]\n",
    "    \n",
    "    elif(ifo=='K1'):\n",
    "        \n",
    "        ifo = 'KAGRA'\n",
    "        \n",
    "        LVK_detectors[ifo] = alldetectors[ifo]\n",
    "        \n",
    "    else:\n",
    "        \n",
    "        LVK_detectors[ifo] = alldetectors[ifo]\n",
    "        "
   ]
  },
  {
   "cell_type": "code",
   "execution_count": 5,
   "id": "equivalent-makeup",
   "metadata": {},
   "outputs": [
    {
     "data": {
      "text/plain": [
       "{'lat': 43.631, 'long': 10.504, 'xax': 115.56756342034298, 'shape': 'L'}"
      ]
     },
     "execution_count": 5,
     "metadata": {},
     "output_type": "execute_result"
    }
   ],
   "source": [
    "LVK_detectors['Virgo']"
   ]
  },
  {
   "cell_type": "code",
   "execution_count": 6,
   "id": "applied-houston",
   "metadata": {},
   "outputs": [],
   "source": [
    "for ifo in ifos:\n",
    "    \n",
    "    if(ifo=='V1'):\n",
    "        \n",
    "        ifo_mod = 'Virgo'\n",
    "        LVK_detectors[ifo_mod]['psd_path'] = os.getcwd() + '/../../../../psds/PSD_{}_10Hz_to_2048Hz_nonzero.txt'.format(ifo_mod)\n",
    "        \n",
    "    elif(ifo=='K1'):\n",
    "        \n",
    "        ifo_mod = 'KAGRA'\n",
    "        LVK_detectors[ifo_mod]['psd_path'] = os.getcwd() + '/../../../../psds/PSD_{}_10Hz_to_2048Hz_nonzero.txt'.format(ifo_mod)\n",
    "        \n",
    "    else:\n",
    "        \n",
    "        LVK_detectors[ifo]['psd_path'] = os.getcwd() + '/../../../../psds/PSD_O5_10Hz_to_2048Hz_nonzero.txt'\n",
    "        "
   ]
  },
  {
   "cell_type": "code",
   "execution_count": 7,
   "id": "coordinated-cattle",
   "metadata": {},
   "outputs": [
    {
     "data": {
      "text/plain": [
       "{'lat': 36.412,\n",
       " 'long': 137.306,\n",
       " 'xax': 15.396,\n",
       " 'shape': 'L',\n",
       " 'psd_path': '/home/sachins/work/PROJECTS/GW/bns_localization_with_LIGO_Aundha/localize_sim_bns/PE_Network_A0_O4/PE_combinations/PE_LHVK/../../../../psds/PSD_KAGRA_10Hz_to_2048Hz_nonzero.txt'}"
      ]
     },
     "execution_count": 7,
     "metadata": {},
     "output_type": "execute_result"
    }
   ],
   "source": [
    "LVK_detectors['KAGRA']"
   ]
  },
  {
   "cell_type": "code",
   "execution_count": 8,
   "id": "backed-playing",
   "metadata": {},
   "outputs": [],
   "source": [
    "#-- GENERATE CBC SIGNALS AS SEEN IN EACH DETECTOR AND NETWORK OF DETECTOR (using DetNet object) --\n",
    "\n",
    "myLVK_Signals = {}\n",
    "\n",
    "for d in LVK_detectors.keys():\n",
    "\n",
    "    myLVK_Signals[d] = GWSignal(TaylorF2_RestrictedPN(), \n",
    "                                psd_path=LVK_detectors[d]['psd_path'],\n",
    "                                detector_shape = LVK_detectors[d]['shape'],\n",
    "                                det_lat= LVK_detectors[d]['lat'],\n",
    "                                det_long=LVK_detectors[d]['long'],\n",
    "                                det_xax=LVK_detectors[d]['xax'], \n",
    "                                verbose=False,\n",
    "                                useEarthMotion = False,\n",
    "                                fmin=10.,\n",
    "                                IntTablePath=None, is_ASD=False) \n",
    "\n",
    "myLVK_Net = DetNet(myLVK_Signals)\n"
   ]
  },
  {
   "cell_type": "code",
   "execution_count": 9,
   "id": "apart-niagara",
   "metadata": {},
   "outputs": [],
   "source": [
    "#-- Injection Parameters --\n",
    "\n",
    "m1_src = 1.387\n",
    "m2_src = 1.326\n",
    "s1z = 0.0001294116725339975\n",
    "s2z = 3.5461352589076355e-05\n",
    "\n",
    "iota, pol = 0, 0\n",
    "tc = 1597236082 \n",
    "\n",
    "ra = 3.448296944257913 \n",
    "dec = 0.44491231446252155 \n",
    "dL = 168.65546273003267 \n",
    "z = 0.03706738893253226"
   ]
  },
  {
   "cell_type": "code",
   "execution_count": 10,
   "id": "executive-toddler",
   "metadata": {},
   "outputs": [],
   "source": [
    "#-- Detector Frame masses --\n",
    "\n",
    "m1 = m1_src * (1+z)\n",
    "m2 = m2_src * (1+z)\n",
    "\n",
    "#-- Derived Params --\n",
    "\n",
    "mchirp = mchirp_from_mass1_mass2(m1, m2)\n",
    "eta = eta_from_mass1_mass2(m1, m2)"
   ]
  },
  {
   "cell_type": "code",
   "execution_count": 11,
   "id": "present-attempt",
   "metadata": {},
   "outputs": [],
   "source": [
    "#-- DEFINING FIDUCIAL PARAMS --\n",
    "\n",
    "fiducial_params = {}\n",
    "\n",
    "fiducial_params['Mc'] = mchirp\n",
    "fiducial_params['eta'] = eta\n",
    "fiducial_params['chi1z'] = s1z\n",
    "fiducial_params['chi2z'] = s2z\n",
    "fiducial_params['iota'] = iota\n",
    "fiducial_params['phi'] = ra\n",
    "fiducial_params['theta'] = dec\n",
    "fiducial_params['dL'] = dL\n",
    "fiducial_params.update(dict(psi=pol, tGPS=tc)) "
   ]
  },
  {
   "cell_type": "code",
   "execution_count": 12,
   "id": "domestic-benjamin",
   "metadata": {},
   "outputs": [],
   "source": [
    "myEvent_dict = {}\n",
    "    \n",
    "for key, val in fiducial_params.items():\n",
    "    \n",
    "    if(key=='tGPS'):\n",
    "        myEvent_dict[key] = np.array([val])\n",
    "    elif(key=='dL'):\n",
    "        myEvent_dict[key] = np.array([val*1e-3])\n",
    "    elif(key=='theta'):\n",
    "        myEvent_dict[key] = np.array([np.pi/2 - val])\n",
    "    else:\n",
    "        myEvent_dict[key] = np.array([val])\n",
    "\n",
    "myEvent_dict.update(dict(Phicoal=np.array([0.])))\n",
    "myEvent_dict.update(dict(Lambda1=np.array([0.])))\n",
    "myEvent_dict.update(dict(Lambda2=np.array([0.])))\n"
   ]
  },
  {
   "cell_type": "code",
   "execution_count": null,
   "id": "superb-guide",
   "metadata": {},
   "outputs": [],
   "source": [
    "SNR = myLVK_Net.SNR(myEvent_dict)\n",
    "print('SNR for myEvent is %.2f'%SNR)\n",
    "\n",
    "totF = myLVK_Net.FisherMatr(myEvent_dict, df= 1/1500, use_m1m2=True) # replace df=1/360 by an appropriate variable name\n",
    "\n",
    "ParNums = TaylorF2_RestrictedPN().ParNums\n",
    "\n",
    "newFish, newPars = fixParams(totF, ParNums, ['iota', 'phi', 'theta', 'dL', \\\n",
    "                                                                 'tcoal', 'Phicoal', 'psi'])\n",
    "\n",
    "newCov = CovMatr(newFish)[0]\n",
    "\n",
    "cov_mat = np.empty((4,4))\n",
    "\n",
    "for i in range(4):\n",
    "\n",
    "    for j in range(4):\n",
    "\n",
    "        cov_mat[i,j] = newCov.reshape(4,4)[i,j]\n",
    "\n"
   ]
  },
  {
   "cell_type": "code",
   "execution_count": null,
   "id": "blind-creativity",
   "metadata": {},
   "outputs": [],
   "source": [
    "cov_mat"
   ]
  },
  {
   "cell_type": "code",
   "execution_count": 59,
   "id": "assured-cooking",
   "metadata": {},
   "outputs": [
    {
     "data": {
      "text/plain": [
       "array([[ 0.18771961, -0.17786184,  0.60966047, -0.63817667],\n",
       "       [-0.17786184,  0.16852173, -0.57764847,  0.60466739],\n",
       "       [ 0.60966047, -0.57764847,  2.73407388, -2.8700274 ],\n",
       "       [-0.63817667,  0.60466739, -2.8700274 ,  3.0128041 ]],\n",
       "      dtype=float128)"
      ]
     },
     "execution_count": 59,
     "metadata": {},
     "output_type": "execute_result"
    }
   ],
   "source": [
    "newCov.reshape(4,4)"
   ]
  },
  {
   "cell_type": "code",
   "execution_count": null,
   "id": "guided-friendly",
   "metadata": {},
   "outputs": [],
   "source": []
  }
 ],
 "metadata": {
  "kernelspec": {
   "display_name": "eccentric_env",
   "language": "python",
   "name": "eccentric_env"
  },
  "language_info": {
   "codemirror_mode": {
    "name": "ipython",
    "version": 3
   },
   "file_extension": ".py",
   "mimetype": "text/x-python",
   "name": "python",
   "nbconvert_exporter": "python",
   "pygments_lexer": "ipython3",
   "version": "3.8.10"
  }
 },
 "nbformat": 4,
 "nbformat_minor": 5
}
