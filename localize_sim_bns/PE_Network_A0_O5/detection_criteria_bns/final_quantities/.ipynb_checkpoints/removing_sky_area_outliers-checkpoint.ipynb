{
 "cells": [
  {
   "cell_type": "code",
   "execution_count": 2,
   "id": "geological-intent",
   "metadata": {},
   "outputs": [],
   "source": [
    "#-- import modules --\n",
    "\n",
    "import numpy as np\n",
    "import matplotlib.pyplot as plt\n",
    "import h5py \n",
    "import os\n"
   ]
  },
  {
   "cell_type": "markdown",
   "id": "inside-overhead",
   "metadata": {},
   "source": [
    "### $\\Rightarrow$ Removing outlier for events detected with A0 at O4 PSD"
   ]
  },
  {
   "cell_type": "markdown",
   "id": "loaded-appreciation",
   "metadata": {},
   "source": [
    "#### $\\Rightarrow$ Outliers are observed in HKA, HVK and LKA "
   ]
  },
  {
   "cell_type": "code",
   "execution_count": 7,
   "id": "executed-aging",
   "metadata": {},
   "outputs": [
    {
     "name": "stdout",
     "output_type": "stream",
     "text": [
      "['H1K1A0', 'H1V1A0', 'H1V1K1', 'H1V1K1A0', 'L1H1A0', 'L1H1K1', 'L1H1K1A0', 'L1H1V1', 'L1H1V1A0', 'L1H1V1K1', 'L1H1V1K1A0', 'L1K1A0', 'L1V1A0', 'L1V1K1', 'L1V1K1A0', 'V1K1A0']\n",
      "\n",
      " ['delta_Mc', 'delta_chi_eff', 'delta_dL', 'delta_iota', 'delta_mass_ratio', 'delta_omega', 'delta_pol', 'delta_tc', 'delta_z']\n"
     ]
    }
   ],
   "source": [
    "with h5py.File(os.getcwd()+'/../../../PE_Network_A0_O4/detection_criteria_bns/final_quantities/quantities_of_detected_events_O4.hdf', 'r') as f0:\n",
    "    \n",
    "    networks = list(f0.keys())\n",
    "    print(networks)\n",
    "    \n",
    "    parameter_list = list(f0['L1H1K1'].keys())\n",
    "    print('\\n', parameter_list)"
   ]
  },
  {
   "cell_type": "code",
   "execution_count": 8,
   "id": "sunset-brake",
   "metadata": {},
   "outputs": [],
   "source": [
    "area_samps = {}\n",
    "\n",
    "with h5py.File(os.getcwd()+'/../../../PE_Network_A0_O4/detection_criteria_bns/final_quantities/quantities_of_detected_events_O4.hdf', 'r') as f1:\n",
    "    \n",
    "    area_samps['H1K1A0'] = np.array(f1['H1K1A0']['delta_omega'])\n",
    "    area_samps['H1V1K1'] = np.array(f1['H1V1K1']['delta_omega'])\n",
    "    area_samps['L1K1A0'] = np.array(f1['L1K1A0']['delta_omega'])"
   ]
  },
  {
   "cell_type": "code",
   "execution_count": 5,
   "id": "social-prompt",
   "metadata": {},
   "outputs": [],
   "source": [
    "outlier_idx = {}\n",
    "\n",
    "outlier_idx['H1K1A0'] = np.where(area_samps['H1K1A0']> 1000)[0]\n",
    "outlier_idx['H1V1K1'] = np.where(area_samps['H1V1K1']> 1000)[0]\n",
    "outlier_idx['L1K1A0'] = np.where(area_samps['L1K1A0']> 1000)[0]"
   ]
  },
  {
   "cell_type": "code",
   "execution_count": 6,
   "id": "swiss-valley",
   "metadata": {},
   "outputs": [
    {
     "data": {
      "text/plain": [
       "{'H1K1A0': array([311]), 'H1V1K1': array([193]), 'L1K1A0': array([212])}"
      ]
     },
     "execution_count": 6,
     "metadata": {},
     "output_type": "execute_result"
    }
   ],
   "source": [
    "outlier_idx"
   ]
  },
  {
   "cell_type": "markdown",
   "id": "documented-forge",
   "metadata": {},
   "source": [
    "<br>"
   ]
  },
  {
   "cell_type": "markdown",
   "id": "conscious-scheme",
   "metadata": {},
   "source": [
    "### $\\Rightarrow$ Removing outlier for events detected with A0 at O5 PSD"
   ]
  },
  {
   "cell_type": "markdown",
   "id": "built-dance",
   "metadata": {},
   "source": [
    "#### $\\Rightarrow$ Although there is only one outlier and it is observed in HVK, we still need to remove the events corresponding removed events in HKA and LKA in O4, should also be removed here (for consistency)"
   ]
  },
  {
   "cell_type": "code",
   "execution_count": 12,
   "id": "photographic-garbage",
   "metadata": {},
   "outputs": [],
   "source": [
    "f1 = h5py.File('quantities_of_detected_events_O5.hdf', 'r')\n",
    "f2 = h5py.File('quantities_of_detected_events_O5_no_outlier.hdf', 'a')\n",
    "\n",
    "for network in networks:\n",
    "    \n",
    "    if (network=='H1K1A0'):\n",
    "        \n",
    "        param_dict = {}\n",
    "        \n",
    "        group = f2.create_group(network)\n",
    "        \n",
    "        for param in parameter_list:\n",
    "            \n",
    "            param_dict[param] = np.array(f1[network][param])\n",
    "            \n",
    "            param_dict[param] = np.delete(param_dict[param],311) #-- removing the outlier --\n",
    "            \n",
    "            group.create_dataset(param, data=param_dict[param])\n",
    "            \n",
    "    elif (network=='H1V1K1'):\n",
    "        \n",
    "        param_dict = {}\n",
    "        \n",
    "        group = f2.create_group(network)\n",
    "        \n",
    "        for param in parameter_list:\n",
    "            \n",
    "            param_dict[param] = np.array(f1[network][param])\n",
    "            \n",
    "            param_dict[param] = np.delete(param_dict[param],193) #-- removing the outlier event --\n",
    "            \n",
    "            group.create_dataset(param, data=param_dict[param])\n",
    "            \n",
    "    elif (network=='L1K1A0'):\n",
    "        \n",
    "        param_dict = {}\n",
    "        \n",
    "        group = f2.create_group(network)\n",
    "        \n",
    "        for param in parameter_list:\n",
    "            \n",
    "            param_dict[param] = np.array(f1[network][param])\n",
    "            \n",
    "            param_dict[param] = np.delete(param_dict[param], 212) #-- removing the outlier event --\n",
    "            \n",
    "            group.create_dataset(param, data=param_dict[param])\n",
    "            \n",
    "    else:\n",
    "        \n",
    "        f1.copy(network, f2)  #-- copying the other groups directly --\n",
    "        "
   ]
  },
  {
   "cell_type": "code",
   "execution_count": 5,
   "id": "above-spice",
   "metadata": {},
   "outputs": [],
   "source": [
    "#-- verify --\n",
    "\n",
    "with h5py.File('quantities_of_detected_events_O5_no_outlier.hdf', 'r') as f2:\n",
    "    \n",
    "    mchirp_dict = {}\n",
    "    \n",
    "    for network in networks:\n",
    "        \n",
    "        mchirp_dict[network] = np.array(f2[network]['delta_Mc'])\n",
    "            \n",
    "            "
   ]
  },
  {
   "cell_type": "code",
   "execution_count": null,
   "id": "rational-bacteria",
   "metadata": {},
   "outputs": [],
   "source": []
  }
 ],
 "metadata": {
  "kernelspec": {
   "display_name": "pycbc_env",
   "language": "python",
   "name": "pycbc_env"
  },
  "language_info": {
   "codemirror_mode": {
    "name": "ipython",
    "version": 3
   },
   "file_extension": ".py",
   "mimetype": "text/x-python",
   "name": "python",
   "nbconvert_exporter": "python",
   "pygments_lexer": "ipython3",
   "version": "3.8.5"
  }
 },
 "nbformat": 4,
 "nbformat_minor": 5
}
