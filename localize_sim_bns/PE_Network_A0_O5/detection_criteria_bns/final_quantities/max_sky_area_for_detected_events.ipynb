{
 "cells": [
  {
   "cell_type": "code",
   "execution_count": 2,
   "id": "falling-funeral",
   "metadata": {},
   "outputs": [],
   "source": [
    "#-- import modules --\n",
    "\n",
    "import numpy as np\n",
    "import matplotlib.pyplot as plt\n",
    "import h5py \n",
    "import os\n"
   ]
  },
  {
   "cell_type": "markdown",
   "id": "olympic-contract",
   "metadata": {},
   "source": [
    "### $\\Rightarrow$ For events detected with A0 at O5 PSD"
   ]
  },
  {
   "cell_type": "code",
   "execution_count": 3,
   "id": "conscious-earthquake",
   "metadata": {},
   "outputs": [
    {
     "name": "stdout",
     "output_type": "stream",
     "text": [
      "['H1K1A0', 'H1V1A0', 'H1V1K1', 'H1V1K1A0', 'L1H1A0', 'L1H1K1', 'L1H1K1A0', 'L1H1V1', 'L1H1V1A0', 'L1H1V1K1', 'L1H1V1K1A0', 'L1K1A0', 'L1V1A0', 'L1V1K1', 'L1V1K1A0', 'V1K1A0']\n",
      "\n",
      " ['delta_Mc', 'delta_chi_eff', 'delta_dL', 'delta_iota', 'delta_mass_ratio', 'delta_omega', 'delta_pol', 'delta_tc', 'delta_z']\n"
     ]
    }
   ],
   "source": [
    "with h5py.File('quantities_of_detected_events_O5.hdf', 'r') as f_O5:\n",
    "    \n",
    "    networks = list(f_O5.keys())\n",
    "    print(networks)\n",
    "    \n",
    "    \n",
    "    param_list = list(f_O5['H1V1K1'].keys())\n",
    "    print('\\n', param_list)"
   ]
  },
  {
   "cell_type": "code",
   "execution_count": 4,
   "id": "intellectual-scott",
   "metadata": {},
   "outputs": [],
   "source": [
    "delta_omega_O5_dict = {}\n",
    "\n",
    "with h5py.File('quantities_of_detected_events_O5.hdf', 'r') as f_O5:\n",
    "    \n",
    "    for network in networks:\n",
    "        \n",
    "        delta_omega_O5_dict[network] = np.array(f_O5[network]['delta_omega'])\n",
    "            "
   ]
  },
  {
   "cell_type": "code",
   "execution_count": 5,
   "id": "racial-sheriff",
   "metadata": {},
   "outputs": [
    {
     "name": "stdout",
     "output_type": "stream",
     "text": [
      "H1K1A0 : 456 , max sky area : 148.0566446005324\n",
      "H1V1A0 : 475 , max sky area : 92.43376966048295\n",
      "H1V1K1 : 300 , max sky area : 6877.94585268948\n",
      "H1V1K1A0 : 475 , max sky area : 39.38778849049593\n",
      "L1H1A0 : 500 , max sky area : 77.96906824379676\n",
      "L1H1K1 : 498 , max sky area : 618.392213489748\n",
      "L1H1K1A0 : 500 , max sky area : 76.58554512551896\n",
      "L1H1V1 : 500 , max sky area : 168.55376909217387\n",
      "L1H1V1A0 : 500 , max sky area : 17.084215567169494\n",
      "L1H1V1K1 : 500 , max sky area : 112.18011975855661\n",
      "L1H1V1K1A0 : 500 , max sky area : 16.185909087529417\n",
      "L1K1A0 : 454 , max sky area : 136.9130543658732\n",
      "L1V1A0 : 475 , max sky area : 106.83617975193864\n",
      "L1V1K1 : 298 , max sky area : 243.21811860795162\n",
      "L1V1K1A0 : 475 , max sky area : 53.80003405435643\n",
      "V1K1A0 : 281 , max sky area : 289.06125548681\n"
     ]
    }
   ],
   "source": [
    "for network in networks:\n",
    "    \n",
    "    print('{} : {} , max sky area : {}'.format(network, len(delta_omega_O5_dict[network]), delta_omega_O5_dict[network].max()))\n",
    "    \n",
    "    \n",
    "    "
   ]
  },
  {
   "cell_type": "code",
   "execution_count": null,
   "id": "different-walker",
   "metadata": {},
   "outputs": [],
   "source": []
  }
 ],
 "metadata": {
  "kernelspec": {
   "display_name": "pycbc_env",
   "language": "python",
   "name": "pycbc_env"
  },
  "language_info": {
   "codemirror_mode": {
    "name": "ipython",
    "version": 3
   },
   "file_extension": ".py",
   "mimetype": "text/x-python",
   "name": "python",
   "nbconvert_exporter": "python",
   "pygments_lexer": "ipython3",
   "version": "3.8.5"
  }
 },
 "nbformat": 4,
 "nbformat_minor": 5
}
