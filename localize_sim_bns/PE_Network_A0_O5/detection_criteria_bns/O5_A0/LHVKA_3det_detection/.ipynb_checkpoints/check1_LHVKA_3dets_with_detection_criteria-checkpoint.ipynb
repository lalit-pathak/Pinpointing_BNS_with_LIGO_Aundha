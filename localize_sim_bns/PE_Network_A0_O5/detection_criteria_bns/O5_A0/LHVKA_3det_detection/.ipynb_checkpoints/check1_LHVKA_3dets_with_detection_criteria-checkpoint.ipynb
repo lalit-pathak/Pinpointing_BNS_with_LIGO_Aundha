{
 "cells": [
  {
   "cell_type": "markdown",
   "id": "sorted-hypothesis",
   "metadata": {},
   "source": [
    "### $\\Rightarrow$ In this notebook, out of all the 500 BNS events - we aim to find the indices of the events which follow the detection criteria for a network \n",
    "\n",
    "$\\Rightarrow$ The detection criterion for a BNS system to be detected in a GW detector network is that the optimal SNR in atleast two detectors in the network should be greater than or equal to 6."
   ]
  },
  {
   "cell_type": "code",
   "execution_count": 1,
   "id": "necessary-classroom",
   "metadata": {},
   "outputs": [],
   "source": [
    "# import modules \n",
    "\n",
    "import numpy as np\n",
    "import matplotlib.pyplot as plt\n",
    "import os \n",
    "import h5py\n",
    "from itertools import combinations"
   ]
  },
  {
   "cell_type": "code",
   "execution_count": 2,
   "id": "elder-diploma",
   "metadata": {},
   "outputs": [],
   "source": [
    "ifos = ['L1', 'H1', 'V1', 'K1', 'A0']"
   ]
  },
  {
   "cell_type": "code",
   "execution_count": 3,
   "id": "disabled-convenience",
   "metadata": {},
   "outputs": [],
   "source": [
    "#-- all three detector combinations --\n",
    "\n",
    "a = combinations(ifos, 3)\n",
    "\n",
    "networks = []\n",
    "for comb in a:\n",
    "    \n",
    "    x = list(comb)\n",
    "    networks.append(\"\".join(x))"
   ]
  },
  {
   "cell_type": "code",
   "execution_count": 4,
   "id": "humanitarian-window",
   "metadata": {},
   "outputs": [
    {
     "data": {
      "text/plain": [
       "['L1H1V1',\n",
       " 'L1H1K1',\n",
       " 'L1H1A0',\n",
       " 'L1V1K1',\n",
       " 'L1V1A0',\n",
       " 'L1K1A0',\n",
       " 'H1V1K1',\n",
       " 'H1V1A0',\n",
       " 'H1K1A0',\n",
       " 'V1K1A0']"
      ]
     },
     "execution_count": 4,
     "metadata": {},
     "output_type": "execute_result"
    }
   ],
   "source": [
    "networks"
   ]
  },
  {
   "cell_type": "code",
   "execution_count": 5,
   "id": "saved-senate",
   "metadata": {},
   "outputs": [],
   "source": [
    "file = np.loadtxt(os.getcwd()+'/../../injections_L1H1V1K1A0_O5_SNR_20_to_25.txt')"
   ]
  },
  {
   "cell_type": "code",
   "execution_count": 6,
   "id": "distant-colony",
   "metadata": {},
   "outputs": [
    {
     "data": {
      "text/plain": [
       "500"
      ]
     },
     "execution_count": 6,
     "metadata": {},
     "output_type": "execute_result"
    }
   ],
   "source": [
    "len(file)"
   ]
  },
  {
   "cell_type": "code",
   "execution_count": 7,
   "id": "supported-peninsula",
   "metadata": {},
   "outputs": [
    {
     "data": {
      "text/plain": [
       "'L1'"
      ]
     },
     "execution_count": 7,
     "metadata": {},
     "output_type": "execute_result"
    }
   ],
   "source": [
    "#-- test_1 --\n",
    "\n",
    "networks[0][0:2]"
   ]
  },
  {
   "cell_type": "code",
   "execution_count": 10,
   "id": "short-annex",
   "metadata": {},
   "outputs": [],
   "source": [
    "snr = {}\n",
    "\n",
    "i = 5\n",
    "\n",
    "for ifo in ifos:\n",
    "    \n",
    "    snr[ifo] = file[:, i]\n",
    "    \n",
    "    i += 1"
   ]
  },
  {
   "cell_type": "code",
   "execution_count": 32,
   "id": "pleased-liverpool",
   "metadata": {},
   "outputs": [],
   "source": [
    "#-- NOT NEEDED HERE -- [EXTRA CODE]\n",
    "\n",
    "#-- for network snr of different sub-networks --\n",
    "\n",
    "net_snr_comb = {}\n",
    "\n",
    "for network in networks:\n",
    "    \n",
    "    net_len = len(network)\n",
    "    \n",
    "    dets = []    #-- this will store detector abbreviations in the sub-network, later to be used in extracting SNRs --\n",
    "    \n",
    "    i = 0\n",
    "    \n",
    "    while True:\n",
    "        \n",
    "        dets.append(network[i:i+2])\n",
    "        \n",
    "        i += 2\n",
    "        \n",
    "        if (i==len(network)):\n",
    "            \n",
    "            break\n",
    "    \n",
    "    #-- to store network snr values for a combination --\n",
    "    temp = np.zeros(500)\n",
    "    \n",
    "    for i in range(500):\n",
    "        \n",
    "        net_snr_temp = 0\n",
    "        \n",
    "        for j in range(len(dets)):\n",
    "            \n",
    "            net_snr_temp += (snr[dets[j]][i])**2 #-- (i th snr element) of (j th detector in sub-network)\n",
    "            \n",
    "        net_snr_temp = np.sqrt(net_snr_temp)\n",
    "      #  print(net_snr_temp)\n",
    "        temp[i] = net_snr_temp\n",
    "               \n",
    "    net_snr_comb[network] = temp          \n",
    "        "
   ]
  },
  {
   "cell_type": "code",
   "execution_count": 33,
   "id": "vietnamese-bryan",
   "metadata": {},
   "outputs": [
    {
     "data": {
      "text/plain": [
       "3"
      ]
     },
     "execution_count": 33,
     "metadata": {},
     "output_type": "execute_result"
    }
   ],
   "source": [
    "len(dets)"
   ]
  },
  {
   "cell_type": "code",
   "execution_count": 34,
   "id": "ready-yield",
   "metadata": {},
   "outputs": [
    {
     "data": {
      "text/plain": [
       "dict_keys(['L1H1V1', 'L1H1K1', 'L1H1A0', 'L1V1K1', 'L1V1A0', 'L1K1A0', 'H1V1K1', 'H1V1A0', 'H1K1A0', 'V1K1A0'])"
      ]
     },
     "execution_count": 34,
     "metadata": {},
     "output_type": "execute_result"
    }
   ],
   "source": [
    "net_snr_comb.keys()"
   ]
  },
  {
   "cell_type": "code",
   "execution_count": null,
   "id": "fluid-banana",
   "metadata": {},
   "outputs": [],
   "source": [
    "#-- checking for detection criteria and saving the valid injections:\n",
    "\n",
    "single_det_threshold = 6\n",
    "\n",
    "for network in networks:\n",
    "    \n",
    "    #-- using the same detector abbreviation extraction function as used above --\n",
    "    \n",
    "    net_len = len(network)\n",
    "    \n",
    "    dets = []    #-- this will store detector abbreviations in the sub-network, later to be used in extracting SNRs --\n",
    "    \n",
    "    i = 0\n",
    "    \n",
    "    while True:\n",
    "        \n",
    "        dets.append(network[i:i+2])\n",
    "        \n",
    "        i += 2\n",
    "        \n",
    "        if (i==len(network)):\n",
    "            \n",
    "            break\n",
    "            \n",
    "    #-- detection criterion -\n",
    "    \n",
    "    for j in range(500):\n",
    "        \n",
    "        snr_list_temp = []\n",
    "        \n",
    "        for ifo in dets:\n",
    "            \n",
    "            snr_list_temp.append(snr[ifo][j])\n",
    "        \n",
    "        coincident_count = 0\n",
    "        \n",
    "        for val in snr_list_temp:\n",
    "            \n",
    "            print(val)\n",
    "            if (val >= 6):\n",
    "                print('accepted: ',val)\n",
    "                coincident_count += 1\n",
    "                \n",
    "        if (coincident_count>= 2):\n",
    "            \n",
    "            #if (net_snr_comb[network][j] >= 12):\n",
    "                \n",
    "            print(net_snr_comb[network][j])\n",
    "\n",
    "            with open('injections_{}_detected.txt'.format(network), 'a') as f:\n",
    "\n",
    "                f.write('{} {} {} {} {} {} {} {} {} {} {}'.format(file[j,0], file[j,1], file[j,2], file[j,3], file[j,4],\\\n",
    "                                                           snr['L1'][j], snr['H1'][j], snr['V1'][j], snr['K1'][j],\\\n",
    "                                                           snr['A0'][j], net_snr_comb[network][j]) + \"\\n\")\n",
    "\n",
    "            with open('index_{}_detected.txt'.format(network), 'a') as f1:\n",
    "\n",
    "                f1.write('{}'.format(j) + '\\n')\n",
    "\n",
    "\n",
    "\n",
    "\n",
    "\n",
    "\n",
    "    \n",
    "    "
   ]
  },
  {
   "cell_type": "code",
   "execution_count": 8,
   "id": "average-township",
   "metadata": {},
   "outputs": [],
   "source": [
    "index_3dets = {}\n",
    "\n",
    "for network in networks:\n",
    "    \n",
    "    index_3dets[network] = np.loadtxt('index_{}_detected.txt'.format(network))\n",
    "     "
   ]
  },
  {
   "cell_type": "code",
   "execution_count": 9,
   "id": "pharmaceutical-senior",
   "metadata": {},
   "outputs": [
    {
     "name": "stdout",
     "output_type": "stream",
     "text": [
      "L1H1V1 : 500\n",
      "L1H1K1 : 498\n",
      "L1H1A0 : 500\n",
      "L1V1K1 : 298\n",
      "L1V1A0 : 475\n",
      "L1K1A0 : 454\n",
      "H1V1K1 : 300\n",
      "H1V1A0 : 475\n",
      "H1K1A0 : 456\n",
      "V1K1A0 : 281\n"
     ]
    }
   ],
   "source": [
    "for network in networks:\n",
    "    \n",
    "    print('{} : {}'.format(network, len(index_3dets[network])))"
   ]
  },
  {
   "cell_type": "code",
   "execution_count": null,
   "id": "computational-sacrifice",
   "metadata": {},
   "outputs": [],
   "source": []
  }
 ],
 "metadata": {
  "kernelspec": {
   "display_name": "pycbc_env",
   "language": "python",
   "name": "pycbc_env"
  },
  "language_info": {
   "codemirror_mode": {
    "name": "ipython",
    "version": 3
   },
   "file_extension": ".py",
   "mimetype": "text/x-python",
   "name": "python",
   "nbconvert_exporter": "python",
   "pygments_lexer": "ipython3",
   "version": "3.8.5"
  }
 },
 "nbformat": 4,
 "nbformat_minor": 5
}
