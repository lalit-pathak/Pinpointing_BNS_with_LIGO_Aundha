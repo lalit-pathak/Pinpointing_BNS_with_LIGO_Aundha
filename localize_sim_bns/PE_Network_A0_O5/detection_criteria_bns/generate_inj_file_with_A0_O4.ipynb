{
 "cells": [
  {
   "cell_type": "code",
   "execution_count": 1,
   "id": "sorted-stephen",
   "metadata": {},
   "outputs": [],
   "source": [
    "#-- import modules -\n",
    "\n",
    "import numpy as np\n",
    "import matplotlib.pyplot as plt\n",
    "import h5py\n",
    "import pandas as pd\n",
    "from itertools import combinations\n",
    "import os\n",
    "\n",
    "from pycbc.detector import add_detector_on_earth\n",
    "from pycbc.waveform import get_waveform_filter_length_in_time as duration\n",
    "from pycbc.psd.analytical import aLIGOAPlusDesignSensitivityT1800042, AdVDesignSensitivityP1200087, KAGRADesignSensitivityT1600593, KAGRA, AdvVirgo\n",
    "from pycbc.psd.analytical import aLIGODesignSensitivityP1200087, aLIGOZeroDetHighPower\n",
    "from pycbc.cosmology import cosmological_quantity_from_redshift\n",
    "from pycbc.cosmology import redshift\n",
    "from pycbc.cosmology import distance_from_comoving_volume, redshift_from_comoving_volume\n",
    "from pycbc.waveform.generator import FDomainCBCGenerator, FDomainDetFrameGenerator\n",
    "from pycbc.types.frequencyseries import load_frequencyseries\n",
    "from pycbc.filter import sigma\n",
    "from pycbc.psd.estimate import interpolate\n",
    "from pycbc.types import FrequencySeries\n",
    "from pycbc.noise.gaussian import frequency_noise_from_psd\n"
   ]
  },
  {
   "cell_type": "code",
   "execution_count": 2,
   "id": "italian-thumbnail",
   "metadata": {},
   "outputs": [],
   "source": [
    "#-- adding LIGO India to PyCBC detectors --\n",
    "\n",
    "add_detector_on_earth(name='A0', longitude=1.34444215058, latitude=0.34231676739,\\\n",
    "                      yangle=4.23039066080, xangle=5.80120119264, height=440) \n",
    "\n"
   ]
  },
  {
   "cell_type": "code",
   "execution_count": 3,
   "id": "brazilian-temple",
   "metadata": {},
   "outputs": [
    {
     "name": "stdout",
     "output_type": "stream",
     "text": [
      "/home/sachins/work/PROJECTS/GW/bns_localization_with_LIGO_Aundha/localize_sim_bns/PE_Network_A0_O5/detection_criteria_bns\n"
     ]
    }
   ],
   "source": [
    "#-- Choosing O4 PSD for LIGO India --\n",
    "ifos = ['L1', 'H1', 'V1', 'K1', 'A0']\n",
    "\n",
    "base_path = os.getcwd()\n",
    "\n",
    "print(base_path)\n",
    "\n",
    "#-- to store psds --\n",
    "psds = {}\n",
    "\n",
    "for ifo in ifos:\n",
    "    \n",
    "    if(ifo=='V1'):\n",
    "        \n",
    "        psds[ifo] = load_frequencyseries(base_path + '/../../../psds/PSD_Virgo_10Hz_to_2048Hz_nonzero.txt')\n",
    "        \n",
    "    elif(ifo=='K1'):\n",
    "        \n",
    "        psds[ifo] = load_frequencyseries(base_path + '/../../../psds/PSD_KAGRA_10Hz_to_2048Hz_nonzero.txt')\n",
    "        \n",
    "    elif(ifo=='A0'):\n",
    "        \n",
    "        psds[ifo] = load_frequencyseries(base_path + '/../../../psds/PSD_O5_10Hz_to_2048Hz_nonzero.txt')  #-- A0 at O5 (main change)\n",
    "        \n",
    "    else:\n",
    "        \n",
    "        psds[ifo] = load_frequencyseries(base_path + '/../../../psds/PSD_O5_10Hz_to_2048Hz_nonzero.txt')"
   ]
  },
  {
   "cell_type": "code",
   "execution_count": 4,
   "id": "peripheral-material",
   "metadata": {},
   "outputs": [],
   "source": [
    "#-- Intrinsic Parameters for a GW170817 like event (SOURCE FRAME)\n",
    "\n",
    "m1 = 1.387\n",
    "m2 = 1.326\n",
    "s1z = 0.0001294116725339975\n",
    "s2z = 3.5461352589076355e-05\n",
    "\n",
    "#-- Waveform Approximants used --\n",
    "inj_approx = 'IMRPhenomD'\n",
    "recover_approx = 'TaylorF2'\n",
    "\n",
    "#-- Fixing some extrinsic parameters --\n",
    "\n",
    "iota, pol = np.pi/6, 0  "
   ]
  },
  {
   "cell_type": "code",
   "execution_count": 5,
   "id": "nasty-brazil",
   "metadata": {},
   "outputs": [],
   "source": [
    "#-- setting up the required params for PSD generation --\n",
    "\n",
    "fLow, fHigh = 10, 1600    # Hz\n",
    "segLen = 1500             # secs (duration of signal) (segLen > 1178.3 secs, and hence the template(1178.3 secs long) will be able to cover the DATA(1500 secs long) which is to be generated)\n",
    "fSamp = 4096              # Hz   (Sampling Frequency)\n",
    "\n",
    "delta_f = 1/segLen        # Hz\n",
    "fLen = int(segLen*fSamp/2 + 1)      # No of Frequency Samples"
   ]
  },
  {
   "cell_type": "code",
   "execution_count": null,
   "id": "random-rover",
   "metadata": {},
   "outputs": [],
   "source": [
    "#-- Calculating optimal SNR corresponding to LIGO India and net optimal snr after placing LIGO India \n",
    "\n",
    "five_dets = ['L1', 'H1', 'V1', 'K1', 'A0']\n",
    "\n",
    "for count in range(500):\n",
    "    \n",
    "    ra, dec, dL, z, tc, L1_snr, H1_snr, V1_snr, K1_snr, net_snr = np.loadtxt(base_path+'/../../../injections/injections_Net_SNR_20_to_25_L1H1V1K1.txt')[count, :10]\n",
    "    \n",
    "    #-- generating the Detector Frame signal -- \n",
    "\n",
    "    static_params_gen = {'approximant': inj_approx, 'f_lower': fLow, 'mass1': m1*(1+z), 'mass2': m2*(1+z),\\\n",
    "                         'spin1z': s1z, 'spin2z': s2z , 'polarization': pol, 'inclination': iota, 'tc': tc,\\\n",
    "                         'distance': dL, 'ra': ra, 'dec': dec}\n",
    "    \n",
    "    #-- NOTE: Here signal is created in five_dets (including A0) but SNRs will be calculated for four_dets --\n",
    "    generator = FDomainDetFrameGenerator(FDomainCBCGenerator, epoch=static_params_gen['tc'] - 1300 , detectors=['A0'],\\\n",
    "                                         delta_f = 1/segLen, **static_params_gen)\n",
    "\n",
    "    signal = generator.generate() #-- Here signal is a dictionary object\n",
    "    \n",
    "    x_snr = [L1_snr, H1_snr, V1_snr, K1_snr]\n",
    "    \n",
    "    #-- calculate optimal SNR in A0 and new Network SNR\n",
    "    h = signal['A0']                              #-- Simulated Detector-Frame GW signal\n",
    "    h.resize(len(psds['A0']))\n",
    "\n",
    "    #-- calculating optimal SNR using 'sigma' function in PyCBC  [sigma:sqrt(<htilde|htilde>)] (gives a scalar)\n",
    "\n",
    "    snr_A0 = sigma(h, psd=psds['A0'], low_frequency_cutoff=fLow, high_frequency_cutoff=fHigh)\n",
    "\n",
    "    x_snr.append(snr_A0)\n",
    "    \n",
    "    #-- for network optimal SNR --\n",
    "    net_optimal_snr = 0\n",
    "    \n",
    "    for snr in x_snr: \n",
    "\n",
    "        net_optimal_snr += abs(snr)**2  \n",
    "\n",
    "    net_optimal_snr = np.sqrt(net_optimal_snr)\n",
    "    \n",
    "    name = \"\".join(five_dets)\n",
    "                    \n",
    "    with open('injections_{}_O5_SNR_20_to_25.txt'.format(name), 'a') as f:\n",
    "\n",
    "        f.write('{} {} {} {} {} {} {} {} {} {} {} {}'.format(ra, dec, dL, z, tc, x_snr[0], x_snr[1], x_snr[2], x_snr[3], x_snr[4], net_optimal_snr, net_snr) + \"\\n\")\n",
    "\n",
    "    print(\"Injection: \", count)\n",
    "    \n",
    "\n",
    "    "
   ]
  },
  {
   "cell_type": "markdown",
   "id": "waiting-gibraltar",
   "metadata": {},
   "source": [
    "#### $\\Rightarrow$ The above code calculates the optimal snr in LIGO-Aundha (A0) detector at O5 sensitivity for the events taken from ```injections_Net_SNR_20_to_25_L1H1V1K1.txt``` file. The last three entries in the ```injections_L1H1V1K1A0_O5_SNR_20_to_25.txt``` correspond to optimal snr in A0 detector, the network optimal SNR in L1H1V1K1A0 network, the network optimal SNR in L1H1V1K1 network."
   ]
  },
  {
   "cell_type": "code",
   "execution_count": null,
   "id": "associate-complex",
   "metadata": {},
   "outputs": [],
   "source": []
  }
 ],
 "metadata": {
  "kernelspec": {
   "display_name": "pycbc_env",
   "language": "python",
   "name": "pycbc_env"
  },
  "language_info": {
   "codemirror_mode": {
    "name": "ipython",
    "version": 3
   },
   "file_extension": ".py",
   "mimetype": "text/x-python",
   "name": "python",
   "nbconvert_exporter": "python",
   "pygments_lexer": "ipython3",
   "version": "3.8.5"
  }
 },
 "nbformat": 4,
 "nbformat_minor": 5
}
