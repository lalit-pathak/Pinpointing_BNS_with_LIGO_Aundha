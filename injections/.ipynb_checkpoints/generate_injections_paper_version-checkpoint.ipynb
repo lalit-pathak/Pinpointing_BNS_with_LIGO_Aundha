{
 "cells": [
  {
   "cell_type": "markdown",
   "id": "partial-thanksgiving",
   "metadata": {},
   "source": [
    "### $\\Rightarrow$ This notebook describes the methodology for generating injections used in LIGO-Aundha Project. We focus on generating binary neutron star sources for our analysis. \n",
    "\n",
    "Reference: https://arxiv.org/abs/2311.15695"
   ]
  },
  {
   "cell_type": "code",
   "execution_count": 22,
   "id": "choice-franklin",
   "metadata": {},
   "outputs": [],
   "source": [
    "#-- import modules --\n",
    "\n",
    "import numpy as np\n",
    "import matplotlib.pyplot as plt\n",
    "import h5py\n",
    "import pandas as pd\n",
    "from itertools import combinations\n",
    "import os\n",
    "\n",
    "from pycbc.detector import add_detector_on_earth\n",
    "from pycbc.waveform import get_waveform_filter_length_in_time as duration\n",
    "from pycbc.psd.analytical import aLIGOAPlusDesignSensitivityT1800042, AdVDesignSensitivityP1200087, KAGRADesignSensitivityT1600593, KAGRA, AdvVirgo\n",
    "from pycbc.psd.analytical import aLIGODesignSensitivityP1200087, aLIGOZeroDetHighPower\n",
    "from pycbc.cosmology import cosmological_quantity_from_redshift\n",
    "from pycbc.cosmology import redshift\n",
    "from pycbc.cosmology import distance_from_comoving_volume, redshift_from_comoving_volume\n",
    "from pycbc.waveform.generator import FDomainCBCGenerator, FDomainDetFrameGenerator\n",
    "from pycbc.types.frequencyseries import load_frequencyseries\n",
    "from pycbc.filter import sigma\n",
    "from pycbc.psd.estimate import interpolate\n",
    "from pycbc.types import FrequencySeries\n",
    "from pycbc.noise.gaussian import frequency_noise_from_psd"
   ]
  },
  {
   "cell_type": "markdown",
   "id": "equipped-czech",
   "metadata": {},
   "source": [
    "### $\\Rightarrow$ Adding a LIGO India Detector with the latest coordinates into PyCBC detector object"
   ]
  },
  {
   "cell_type": "code",
   "execution_count": 15,
   "id": "swedish-canberra",
   "metadata": {},
   "outputs": [],
   "source": [
    "#-- adding LIGO India to PyCBC detectors --\n",
    "\n",
    "#-- Reference : https://dcc.ligo.org/LIGO-T2000158/public \n",
    "\n",
    "add_detector_on_earth(name='A0', longitude=1.34444215058, latitude=0.34231676739,\\\n",
    "                      yangle=4.23039066080, xangle=5.80120119264, height=440) \n"
   ]
  },
  {
   "cell_type": "markdown",
   "id": "homeless-belief",
   "metadata": {},
   "source": [
    "## $\\Rightarrow$ Setting up the PSDs for IGWN detectors: \n",
    "\n",
    "### $\\Rightarrow$ Reference: https://dcc.ligo.org/LIGO-T2000012/public\n",
    "\n",
    "* L1 : A+ Design target for O5 (https://dcc.ligo.org/public/0165/T2000012/002/AplusDesign.txt)\n",
    "* H1 : A+ Design target for O5 (https://dcc.ligo.org/public/0165/T2000012/002/AplusDesign.txt)\n",
    "* V1 : Virgo target sensitivity for O5 (low noise, high range limit) (https://dcc.ligo.org/public/0165/T2000012/002/avirgo_O5low_NEW.txt)\n",
    "\n",
    "* K1 : KAGRA Sensitivity (80 Mpc) (used for O5 simulations) (https://dcc.ligo.org/public/0165/T2000012/002/kagra_80Mpc.txt)\n",
    "* A0 : LIGO Sensitivity (160 Mpc) (Used for O4 Simulations) (https://dcc.ligo.org/public/0165/T2000012/002/aligo_O4low.txt)"
   ]
  },
  {
   "cell_type": "code",
   "execution_count": 16,
   "id": "outer-lebanon",
   "metadata": {},
   "outputs": [
    {
     "name": "stdout",
     "output_type": "stream",
     "text": [
      "Help on function get_waveform_filter_length_in_time in module pycbc.waveform.waveform:\n",
      "\n",
      "get_waveform_filter_length_in_time(approximant, template=None, **kwargs)\n",
      "    For filter templates, return the length in time of the template.\n",
      "\n"
     ]
    }
   ],
   "source": [
    "help(duration)"
   ]
  },
  {
   "cell_type": "code",
   "execution_count": 17,
   "id": "protecting-chicken",
   "metadata": {},
   "outputs": [
    {
     "data": {
      "text/plain": [
       "array(1187.70161439)"
      ]
     },
     "execution_count": 17,
     "metadata": {},
     "output_type": "execute_result"
    }
   ],
   "source": [
    "#-- First we estimate what should be the minimum time duration of a GW from a Binary Neutron Star system if the GW is \\\n",
    "#-- generated from a lower cutoff frequency of 10 Hz [ a representative of O5 run ]\n",
    "\n",
    "kwargs = {'mass1':1.38, 'mass2':1.32, 'f_lower':10}\n",
    "gw_bns_duration = duration(approximant='IMRPhenomD', **kwargs)\n",
    "gw_bns_duration"
   ]
  },
  {
   "cell_type": "code",
   "execution_count": 18,
   "id": "juvenile-lemon",
   "metadata": {},
   "outputs": [],
   "source": [
    "#-- setting up the required params for PSD generation --\n",
    "\n",
    "fLow, fHigh = 10, 1600    # Hz\n",
    "segLen = 1500             # secs (duration of signal) (segLen > 1178.3 secs, and hence the template(1178.3 secs long) will be able to cover the DATA(1500 secs long) which is to be generated)\n",
    "fSamp = 4096              # Hz   (Sampling Frequency)\n",
    "\n",
    "delta_f = 1/segLen        # Hz\n",
    "fLen = int(segLen*fSamp/2 + 1)      # No. of Frequency Samples  [ N_f = (N_t/2) + 1 ]\n"
   ]
  },
  {
   "cell_type": "code",
   "execution_count": 19,
   "id": "handed-greek",
   "metadata": {},
   "outputs": [],
   "source": [
    "#-- Choosing O4 PSD for LIGO India --\n",
    "\n",
    "base_file = os.getcwd() + '/../psds/'\n",
    "\n",
    "ifos = ['L1', 'H1', 'V1', 'K1', 'A0']         #-- list of interferometers --\n",
    "\n",
    "psds = {}\n",
    "\n",
    "for ifo in ifos:\n",
    "    \n",
    "    if(ifo=='V1'):\n",
    "        \n",
    "        psds[ifo] = load_frequencyseries(base_file + 'PSD_Virgo_10Hz_to_2048Hz_nonzero.txt')\n",
    "        \n",
    "    elif(ifo=='K1'):\n",
    "        \n",
    "        psds[ifo] = load_frequencyseries(base_file + 'PSD_KAGRA_10Hz_to_2048Hz_nonzero.txt')\n",
    "        \n",
    "    elif(ifo=='A0'):\n",
    "        \n",
    "        psds[ifo] = load_frequencyseries(base_file + 'PSD_O4_10Hz_to_2048Hz_nonzero.txt')\n",
    "        \n",
    "    else:\n",
    "        \n",
    "        psds[ifo] = load_frequencyseries(base_file + 'PSD_O5_10Hz_to_2048Hz_nonzero.txt')"
   ]
  },
  {
   "cell_type": "markdown",
   "id": "fatty-adult",
   "metadata": {},
   "source": [
    "<br>"
   ]
  },
  {
   "cell_type": "markdown",
   "id": "exempt-waterproof",
   "metadata": {},
   "source": [
    "### $\\Rightarrow$ 1. Defining Useful Functions"
   ]
  },
  {
   "cell_type": "markdown",
   "id": "equal-mustang",
   "metadata": {},
   "source": [
    "##### 1.1) An equal area grid in sky coordinates follows the following relation :\n",
    "\n",
    "$$ d\\Omega = \\sin\\hspace{-0.5mm}\\theta d\\theta d\\phi = - d(\\cos\\theta) d\\phi \\tag{1}$$\n",
    "\n",
    "$\\rightarrow$ In the context of our work, \n",
    "\n",
    "$\\hspace{5mm}$ right ascension $\\equiv \\alpha = \\phi$ and declination $\\equiv \\delta = \\theta$\n",
    "\n",
    "$\\rightarrow$ Hence the $(\\alpha, \\delta)$ samples should be uniform in $\\phi$ and $\\cos\\theta$ for getting equal area samples of d$\\Omega$ [i.e. samples spread uniformly over a spherical grid]\n",
    "\n",
    "$\\rightarrow$ Deriving the expression for extracting the declination $\\delta$ values \n",
    "\n",
    "$$ \\cos\\theta \\equiv Uniform \\equiv U^*[-1, 1]$$\n",
    "$$ \\therefore \\theta = \\cos^{-1}(u^*)$$\n",
    "\n",
    "$\\hspace{5mm}$We can sample uniform random numbers from 0 to 1 (i.e $U[0, 1]$). But the for $f(x) = \\cos^{-1}(x)$, Domain : $[-1, 1]$ and Range: $[0, \\pi]$. Hence we use the $\\hspace{5mm}$ transformation:\n",
    "\n",
    "$$ \\bar{\\theta} = \\cos^{-1}(2u - 1) , \\text{where} \\hspace{2mm} u \\in U[0, 1]$$\n",
    "\n",
    "$$\\hspace{2mm} \\text{Note:}  \\hspace{2mm} \\bar{\\theta} \\in [0, \\pi]   \\hspace{2mm} \\text{such that $\\bar{\\theta}$ is uniform in $cos(\\bar{\\theta})$} $$\n",
    "\n",
    "$\\hspace{5mm}$ But we also know that the Declination angle $\\delta \\in [-\\frac{\\pi}{2}, \\frac{\\pi}{2}]$, hence we do the following transformation:\n",
    "\n",
    "$$ \\theta = \\bar{\\theta} - \\frac{\\pi}{2} , \\hspace{2mm} \\text{hence} \\hspace{2mm} \\theta \\in  [-\\frac{\\pi}{2}, \\frac{\\pi}{2}] \\hspace{2mm} \\text{for} \\hspace{2mm} \\bar{\\theta} \\in [0, \\pi]$$\n",
    "\n",
    "$$ \\sin \\theta = \\sin (\\bar{\\theta} - \\frac{\\pi}{2}) $$\n",
    "\n",
    "$$ \\sin \\theta = - \\cos \\bar{\\theta}$$\n",
    "\n",
    "$$ \\sin \\theta = - \\cos (\\cos^{-1}(2u - 1)) $$\n",
    "\n",
    "$$ \\therefore \\boxed{\\delta = \\theta = - \\sin^{-1}(2u-1)} , \\hspace{2mm} \\text{where} \\hspace{2mm}  u \\in U[0, 1] \\tag{2}$$\n",
    "\n"
   ]
  },
  {
   "cell_type": "code",
   "execution_count": 14,
   "id": "original-climb",
   "metadata": {},
   "outputs": [],
   "source": [
    "#-- generating an equal area grid in ra and dec in the sky\n",
    "\n",
    "def all_sky_transform(cube):\n",
    "    \n",
    "    \"\"\"\n",
    "    Function to generate random sky coordinates forming an equal area grid over a sphere\n",
    "    \n",
    "    Parameters\n",
    "    ----------\n",
    "    cube: a unit hypercube [two random numbers]\n",
    "    \n",
    "    Returns\n",
    "    --------\n",
    "    ra_dec: right ascension and declination samples [in radians]\n",
    "    \n",
    "    \"\"\"\n",
    "    \n",
    "    ra_dec = np.zeros(2)\n",
    "    \n",
    "    ra_dec[0] = 2*np.pi*cube[0]              # ra: uniform sky\n",
    "    ra_dec[1] = np.arcsin(2*cube[1] - 1)     # dec: uniform sky   (as declination ranges from (-pi/2, +pi/2))\n",
    "\n",
    "    return ra_dec"
   ]
  },
  {
   "cell_type": "markdown",
   "id": "typical-mounting",
   "metadata": {},
   "source": [
    "##### 1.2) Getting luminousity distance and redshift values corresponding to a uniform in comoving volume samples [Since our BNS sources shall be distributed uniformly in comoving volume]\n",
    "\n",
    "The limits of the comoving volume distribution are based on our choice of luminousity distances"
   ]
  },
  {
   "cell_type": "code",
   "execution_count": 22,
   "id": "architectural-steps",
   "metadata": {},
   "outputs": [],
   "source": [
    "#-- generating uniform in comoving volume samples (taking into account 'default' cosmology) Flat_Lambda_CDM\n",
    "\n",
    "def comoving_vol_transform(val):\n",
    " \n",
    "    \"\"\"\n",
    "    Function to generate luminosity distance and redshift samples uniform in comoving volume \n",
    "    \n",
    "    Parameters\n",
    "    ----------\n",
    "    val: a uniform random number [required to get a random sample which is uniform in comoving volume]\n",
    "    \n",
    "    Returns\n",
    "    --------\n",
    "    d : luminosity distance from comoving volume\n",
    "    z : redshift from comoving volume\n",
    "    \n",
    "    \"\"\"\n",
    "    \n",
    "    #-- setting the minimum redshift according to a min luminosity distance of 16 Mpc --\n",
    "    \n",
    "    dL_min = 16               # Mpc\n",
    "    dL_max = 680              # Mpc (corresponding to a redshift of z=0.14)\n",
    "    \n",
    "    #-- evaluating the redshift limits with a new 'dL_max'\n",
    "    \n",
    "    z_min = redshift(dL_min)\n",
    "    z_max = redshift(dL_max)\n",
    "    \n",
    "    #-- The new redshift limit (z_max) sets the new limit for comoving volume --\n",
    "    V_com_min = cosmological_quantity_from_redshift(z=z_min, quantity='comoving_volume')\n",
    "    V_com_max = cosmological_quantity_from_redshift(z=z_max, quantity='comoving_volume')\n",
    "    \n",
    "    #-- evaluating the new comoving volume sample\n",
    "    \n",
    "    V_com = V_com_min + (V_com_max - V_com_min) * val\n",
    "    \n",
    "    #-- evaluating the new 'dL' and 'z' \n",
    "    \n",
    "    d = distance_from_comoving_volume(V_com)     #-- luminosity_distance\n",
    "    z = redshift_from_comoving_volume(V_com)     #-- redshift\n",
    "    \n",
    "    return d, z"
   ]
  },
  {
   "cell_type": "code",
   "execution_count": 39,
   "id": "thick-property",
   "metadata": {},
   "outputs": [
    {
     "name": "stdout",
     "output_type": "stream",
     "text": [
      "Limits of comoving volume: (16973, 890267808) Mpc³\n"
     ]
    }
   ],
   "source": [
    "#-- just a check of values --\n",
    "\n",
    "dL_min = 16               # Mpc\n",
    "dL_max = 680              # Mpc\n",
    "\n",
    "#-- evaluating the redshift limits with a new 'dL_max'\n",
    "\n",
    "z_min = redshift(dL_min)\n",
    "z_max = redshift(dL_max)\n",
    "\n",
    "#-- The new redshift limit (z_max) sets the new limit for comoving volume --\n",
    "V_com_min = cosmological_quantity_from_redshift(z=z_min, quantity='comoving_volume')\n",
    "V_com_max = cosmological_quantity_from_redshift(z=z_max, quantity='comoving_volume')\n",
    "    \n",
    "    \n",
    "print('Limits of comoving volume: (%d, %d) Mpc'%(V_com_min, V_com_max) + '\\u00b3')"
   ]
  },
  {
   "cell_type": "markdown",
   "id": "talented-personality",
   "metadata": {},
   "source": [
    "<br>"
   ]
  },
  {
   "cell_type": "markdown",
   "id": "transsexual-nashville",
   "metadata": {},
   "source": [
    "### $\\Rightarrow$ 2. Generating Injections"
   ]
  },
  {
   "cell_type": "markdown",
   "id": "innovative-vector",
   "metadata": {},
   "source": [
    "#### $\\rightarrow$ We are interested in the BNS events with optimal SNR in the range of 20 to 25 in the GW network consisting of L1, H1, V1, K1 detectors (four detectors) , for the purpose of this study.\n",
    "\n",
    "#### $\\rightarrow$ We set the 'Detection Criteria' that a GW event is considered as detected in a 'GW network' if the event is above the detection threshold $(\\rho_{optimal} = 6)$ in atleast two detectors in the GW network."
   ]
  },
  {
   "cell_type": "code",
   "execution_count": 40,
   "id": "worth-comment",
   "metadata": {},
   "outputs": [],
   "source": [
    "#-- minimum network SNR value for BNS system in which we are interested  --\n",
    "\n",
    "net_threshold = 20   \n",
    "\n",
    "#-- Detection Threshold for a single detector --\n",
    "\n",
    "single_det_threshold = 6"
   ]
  },
  {
   "cell_type": "markdown",
   "id": "failing-water",
   "metadata": {},
   "source": [
    "#### $\\rightarrow$ We fix the BNS source frame masses and spins [dimensionless aligned spins] to be the maximum-a-posteriori (MAP) values of the posterior samples obtained from the GW170817 event analysis by LIGO .\n",
    "\n",
    "Reference: https://dcc.ligo.org/LIGO-P2000193/public [Download the Original_bilby_results file]\n",
    "\n",
    "$\\rightarrow$ For more details regarding the choice of the parameters and their effect on the result of our analysis, refer our paper.\n",
    "\n",
    "$\\rightarrow$ We shall distribute the BNS sources uniformly in the sky $(\\alpha, \\delta)$, with their distance distributed uniformly in comoving volume till the redshift of $z \\approx 0.14$\n",
    "\n",
    "$\\rightarrow$ BNS parameters fixed: $(m_{1}, m_{2}, s_{1z}, s_{2z}, \\iota, \\psi)$\n",
    "\n",
    "$\\rightarrow$ We make the BNS injections every hour to make sure they all have different time of coalescence and hence observe a different network antenna pattern w.r.t the GW network."
   ]
  },
  {
   "cell_type": "code",
   "execution_count": 41,
   "id": "injured-substitute",
   "metadata": {},
   "outputs": [],
   "source": [
    "#-- Intrinsic Parameters for a GW170817 like event (SOURCE FRAME)\n",
    "\n",
    "m1 = 1.387          #-- solar mass --\n",
    "m2 = 1.326          #-- solar mass --\n",
    "s1z = 0.0001294116725339975       #-- dimensionless aligned spin_1z parameter --\n",
    "s2z = 3.5461352589076355e-05      #-- dimensionless aligned spin_2z parameter --\n",
    "\n",
    "#-- Waveform Approximants used --\n",
    "\n",
    "inj_approx = 'IMRPhenomD'       #-- waveform model that shall be used for creating the injected GW signal --\n",
    "recover_approx = 'TaylorF2'     #-- waveform model that shall be used for recovering the signal --"
   ]
  },
  {
   "cell_type": "code",
   "execution_count": 43,
   "id": "manual-isaac",
   "metadata": {},
   "outputs": [],
   "source": [
    "#-- Fixing some extrinsic parameters --\n",
    "\n",
    "iota = np.pi/6          #-- inclination angle -- \n",
    "pol = 0                 #-- polarization angle --\n",
    "tc_start = 1597236082   #-- LIGO GPS secs for 17/08/2030\n",
    "\n",
    "#-- Note : Inclination angle is such that it is near the peak of the distribution of orientations for detectable BNS systems in LIGO.\n",
    "#-- Reference: 1) https://iopscience.iop.org/article/10.3847/2041-8213/ab479e [Sylvia Biscoveanu et. al. 2019]\n",
    "#              2) https://iopscience.iop.org/article/10.1088/0264-9381/28/12/125023 [B.Schutz 2011]"
   ]
  },
  {
   "cell_type": "code",
   "execution_count": 44,
   "id": "disciplinary-dialogue",
   "metadata": {},
   "outputs": [],
   "source": [
    "#-- a sample example for list of active networks (3 Dets out of total of 5) --\n",
    "\n",
    "four_dets = ['L1', 'H1', 'V1', 'K1']\n",
    "five_dets = ['L1', 'H1', 'V1', 'K1', 'A0']"
   ]
  },
  {
   "cell_type": "code",
   "execution_count": 46,
   "id": "american-subcommittee",
   "metadata": {},
   "outputs": [],
   "source": [
    "#-- This is a function which shall generate injections ( for a particular (ra, dec) ) satisfying the detection criteria \n",
    "#-- and to speed up apply a 'distance-sample-rejection-strategy', as mentioned in the function description.\n",
    "\n",
    "def generate_injection(ra, dec):\n",
    "    \n",
    "    \"\"\"\n",
    "    Function to generate an injection for a given right_ascension and declination. This function basically keeps\n",
    "    searching for the luminosity distance which satisfies our detection criteria. The point to note is that here \n",
    "    if the proposed distance is rejected, then in order to optimize and get the \"required distance samples\", we\n",
    "    compare the \"new distance (dL)\" to the \"rejected distance proposal (temp)\" and if (dL < temp) only then the \n",
    "    optimal snr calculations are carried out, else the proposal is rejected. This is based on the fact that if \n",
    "    the new proposed distance is more than the previously proposed sample (which got rejected) then it cannot \n",
    "    satisfy the SNR condition.\n",
    " \n",
    "    Parameters\n",
    "    ----------\n",
    "    ra : right ascension (radians)\n",
    "    dec: declination (radians)\n",
    "    \n",
    "    Returns\n",
    "    --------\n",
    "    Creates an Injection at the end of its successful execution\n",
    "    \n",
    "    \"\"\"\n",
    "    \n",
    "    inj_for_ra_dec = 0\n",
    "    \n",
    "    temp = 0\n",
    "    \n",
    "    while True:\n",
    "        \n",
    "        # for distance & redshift proposals \n",
    "        \n",
    "        val = np.random.rand()\n",
    "        \n",
    "        dL, z = comoving_vol_transform(val)\n",
    "        \n",
    "        if (temp != 0):\n",
    "            \n",
    "            if (temp <= dL):\n",
    "                \n",
    "                continue   #-- skip the while loop entirely if the 'new \"dL\" sample' is greater than the previous dL sample [ stored as \"temp\"]\n",
    "                \n",
    "        if (temp == 0 or temp > dL):\n",
    "            \n",
    "        #    print(ra, dec, dL, z)\n",
    "\n",
    "            #-- generating the Detector Frame signal -- \n",
    "\n",
    "            static_params_gen = {'approximant': inj_approx, 'f_lower': fLow, 'mass1': m1*(1+z), 'mass2': m2*(1+z),\\\n",
    "                                 'spin1z': s1z, 'spin2z': s2z , 'polarization': pol, 'inclination': iota, 'tc': tc_start + (count*3600),\\\n",
    "                                 'distance': dL, 'ra': ra, 'dec': dec}\n",
    "            \n",
    "            #-- NOTE: Here signal is created in five_dets (including A0) but SNRs will be calculated for four_dets --\n",
    "            generator = FDomainDetFrameGenerator(FDomainCBCGenerator, epoch=static_params_gen['tc'] - 1300 , detectors=four_dets,\\\n",
    "                                                 delta_f = 1/segLen, **static_params_gen)\n",
    "\n",
    "            signal = generator.generate() \n",
    "\n",
    "            #-- data containers --\n",
    "\n",
    "            htilde = {}\n",
    "            noise_tilde = {}\n",
    "            fake_data = {}\n",
    "            snrs = {}\n",
    "\n",
    "            net_optimal_snr = 0\n",
    "\n",
    "            x_snr = []\n",
    "\n",
    "            for ifo in four_dets:  \n",
    "\n",
    "                htilde[ifo] = signal[ifo]                      #-- Simulated Detector-Frame GW signal\n",
    "                htilde[ifo].resize(len(psds[ifo]))\n",
    "\n",
    "                #-- calculating optimal SNR using 'sigma' function in PyCBC  [sigma:sqrt(<htilde|htilde>)] (gives a scalar)\n",
    "\n",
    "                snrs[ifo] = sigma(htilde[ifo], psd=psds[ifo], low_frequency_cutoff=fLow, high_frequency_cutoff=fHigh)\n",
    "\n",
    "                x_snr.append(snrs[ifo])\n",
    "\n",
    "                net_optimal_snr += abs(snrs[ifo])**2  \n",
    "\n",
    "            net_optimal_snr = np.sqrt(net_optimal_snr)\n",
    "\n",
    "          #  print(x_snr, net_optimal_snr)\n",
    "\n",
    "            #-- checking the Detection Criterion \n",
    "\n",
    "            if(net_optimal_snr >= net_threshold):\n",
    "\n",
    "                #-- check for the coincident_detection condition\n",
    "\n",
    "                coincident_detect = 0\n",
    "\n",
    "                for key, val in snrs.items():\n",
    "\n",
    "                    if(val >= single_det_threshold):         # 'val' gives the value from the key-value pair obtained from dict.items()\n",
    "\n",
    "                        coincident_detect += 1\n",
    "\n",
    "                if (coincident_detect >= 2):\n",
    "\n",
    "                    name = \"\".join(four_dets)\n",
    "                    \n",
    "                    with open('injections_{}_iota_30deg_680Mpc.txt'.format(name), 'a') as f:\n",
    "\n",
    "                        f.write('{} {} {} {} {} {} {} {} {} {}'.format(ra, dec, dL, z, static_params_gen['tc'], x_snr[0], x_snr[1], x_snr[2], x_snr[3], net_optimal_snr) + \"\\n\")\n",
    "\n",
    "                    #-- storing the parameter values in an order into an hdf file --\n",
    "\n",
    "                    injection_parameters = np.array([static_params_gen['mass1'], static_params_gen['mass2'],\\\n",
    "                                                     static_params_gen['spin1z'], static_params_gen['spin2z'],\\\n",
    "                                                     static_params_gen['polarization'], static_params_gen['inclination'],\\\n",
    "                                                     static_params_gen['distance'], static_params_gen['ra'], static_params_gen['dec'],\\\n",
    "                                                     static_params_gen['tc'], z])\n",
    "\n",
    "                    print(\"Injection_created for {}: {}\".format(name, count)+ \"\\n\")\n",
    "\n",
    "                    inj_for_ra_dec +=1\n",
    "\n",
    "                    #-- We need a distance value satisfying our detection criteria for a given (ra,dec). Once we find it, the job is done \n",
    "\n",
    "            if(inj_for_ra_dec==1):\n",
    "\n",
    "                break\n",
    "\n",
    "            else: \n",
    "\n",
    "                temp = dL\n",
    "               # print(temp) \n",
    "            \n",
    "#-- Note: Since the distance follows uniform in comoving volume most of the proposed dL samples lie on the higher end resulting in lower SNR values,\n",
    "#--       Hence we apply this strategy to optimize the injection generation times. "
   ]
  },
  {
   "cell_type": "markdown",
   "id": "narrow-turkish",
   "metadata": {},
   "source": [
    "#### $\\rightarrow$ We generate  total 500 different BNS injections "
   ]
  },
  {
   "cell_type": "code",
   "execution_count": null,
   "id": "boring-holly",
   "metadata": {},
   "outputs": [],
   "source": [
    "#-- Generating Injections for our study --\n",
    "\n",
    "#-- generating injections (storing: ra, dec, dL, tc, net_optimal_snr)\n",
    "\n",
    "#-- initializing a random number generation --\n",
    "\n",
    "seed_main = 0\n",
    "np.random.seed(seed=seed_main)\n",
    "   \n",
    "count = 0                  #-- will count upto 1000 valid injections for the network of detectors\n",
    "\n",
    "while (count<1000):\n",
    "\n",
    "    # for ra-dec proposals\n",
    "\n",
    "    cube = np.random.rand(2)  \n",
    "\n",
    "    sky_samp = all_sky_transform(cube)      #-- uniform in sky area samples\n",
    "\n",
    "    ra, dec = sky_samp[0], sky_samp[1]\n",
    "\n",
    "    #-- generating injection for a proposed ra_dec\n",
    "\n",
    "    generate_injection(ra, dec) \n",
    "\n",
    "    count += 1   # increasing the counter by 1 if the injection is valid (selected)      \n",
    "\n",
    "    print(\"\\n\") \n"
   ]
  },
  {
   "cell_type": "code",
   "execution_count": 47,
   "id": "illegal-nurse",
   "metadata": {},
   "outputs": [],
   "source": [
    "#-- Note_1 : We first Generate 1000 BNS events with Network SNR > 20 and then arrange them in ascending order to select \n",
    "#         BNS events in the range of Network SNR 20 to 25 . These turn out to be 500 such events.\n",
    "\n",
    "\n",
    "#-- Note_2 : One should not get carried away by the ratio of number of BNS events with network SNR from 20 to 25 and the \n",
    "#          total number of events generated [i.e. 500/1000 which seems high]. This is not expected in reality because \n",
    "#          here we have by hand put the condition over network SNR [for a value of 20], detection criteria and some distance condition for generating the events.\n",
    "#          In real scenario or if one has high computational resources, then on putting the network detection criteria to be \n",
    "#          [rho_network = 12] which is generally taken in current realistic scenario, one finds that the number of BNS events with Network SNR 20 to 25 [consider A+ PSD] are very less.\n",
    "\n",
    "\n",
    "#-- Note_3: SNR distribution of events goes as 1/SNR^4 \n",
    "#           Reference: 1) https://arxiv.org/pdf/1409.0522.pdf\n",
    "#                      2) https://iopscience.iop.org/article/10.1088/0264-9381/28/12/125023 [B.Schutz 2011]\n",
    "\n",
    "#-- Note_4: On careful examination and going through the above two reference one finds that in general, the network SNR distribution peaks \n",
    "#           at the network detection criteria [which it should and it also occurs in our case for network SNR of 20] and goes as 1/SNR^4 "
   ]
  },
  {
   "cell_type": "markdown",
   "id": "frank-project",
   "metadata": {},
   "source": [
    "## $\\Rightarrow$ 3. Some statistics and checks"
   ]
  },
  {
   "cell_type": "markdown",
   "id": "worth-workplace",
   "metadata": {},
   "source": [
    "$\\rightarrow$ 3.1) Demonstrating the notes given in the Section-2 of the notebook"
   ]
  },
  {
   "cell_type": "code",
   "execution_count": 3,
   "id": "diverse-victory",
   "metadata": {},
   "outputs": [],
   "source": [
    "#-- loading the generated injections data --\n",
    "\n",
    "data_new = np.loadtxt('injections_L1H1V1K1_iota_30deg_680Mpc.txt')\n",
    "\n",
    "network_snr_array = data_new[:, 9]"
   ]
  },
  {
   "cell_type": "code",
   "execution_count": 25,
   "id": "hungarian-berry",
   "metadata": {},
   "outputs": [
    {
     "data": {
      "image/png": "[encoded data removed]",
      "text/plain": [
       "<Figure size 640x480 with 1 Axes>"
      ]
     },
     "metadata": {},
     "output_type": "display_data"
    }
   ],
   "source": [
    "_ = plt.hist(network_snr_array, bins='auto', density=True, histtype='stepfilled', color='dodgerblue', label='Network SNR')\n",
    "\n",
    "plt.axvline(x=20, ls='--', c='k')\n",
    "plt.ylabel('Fraction')\n",
    "plt.xlabel('Network SNR')\n",
    "plt.legend()\n",
    "plt.show()"
   ]
  },
  {
   "cell_type": "markdown",
   "id": "intense-peeing",
   "metadata": {},
   "source": [
    "$\\rightarrow$ 3.2) Numerically checking for the declination parameter values for equal_area_grid in Section-1.1"
   ]
  },
  {
   "cell_type": "code",
   "execution_count": 47,
   "id": "swiss-drawing",
   "metadata": {},
   "outputs": [],
   "source": [
    "#-- generating an equal area grid in ra and dec\n",
    "\n",
    "def all_sky_transform_new(cube):\n",
    "    \n",
    "    \"\"\"\n",
    "    Function to generate a set of parameters from uniform in right ascension (phi) and uniform in cos(theta)\n",
    "    \n",
    "    Parameters\n",
    "    ----------\n",
    "    cube: a unit hypercube\n",
    "    \n",
    "    Returns\n",
    "    --------\n",
    "    ra_dec: a cuboid in physical parameters (Here: right_ascension & declination) \n",
    "    \n",
    "    \"\"\"\n",
    "    ra_dec = np.zeros(2)\n",
    "    ra_dec[0] = 2*np.pi*cube[0]              # ra: uniform sky\n",
    "    ra_dec[1] = np.arccos(2*cube[1] - 1)     # dec: uniform sky    (declination range: [0, +pi])\n",
    "\n",
    "    return ra_dec"
   ]
  },
  {
   "cell_type": "code",
   "execution_count": 48,
   "id": "underlying-belief",
   "metadata": {},
   "outputs": [],
   "source": [
    "#-- generating the (ra,dec) samples with dec in [-pi/2, pi/2] --\n",
    "np.random.seed(0)\n",
    "\n",
    "N = 10000\n",
    "cube = np.random.rand(N).reshape(int(N/2), 2)  \n",
    "\n",
    "samps = np.zeros((int(N/2), 2))\n",
    "\n",
    "ra_samps1 = np.zeros(int(N/2))\n",
    "dec_samps1 = np.zeros(int(N/2))\n",
    "\n",
    "#-- getting the ra, dec values\n",
    "\n",
    "for i in range(int(N/2)):\n",
    "    \n",
    "    ra_samps1[i], dec_samps1[i] = all_sky_transform(cube[i,:])"
   ]
  },
  {
   "cell_type": "code",
   "execution_count": 49,
   "id": "subtle-bleeding",
   "metadata": {},
   "outputs": [],
   "source": [
    "#-- generating the (ra,dec) samples with dec in [0, pi] --\n",
    "np.random.seed(0)\n",
    "\n",
    "N = 10000\n",
    "cube = np.random.rand(N).reshape(int(N/2), 2)  \n",
    "\n",
    "samps = np.zeros((int(N/2), 2))\n",
    "\n",
    "ra_samps2 = np.zeros(int(N/2))\n",
    "dec_samps2 = np.zeros(int(N/2))\n",
    "\n",
    "#-- getting the ra, dec values\n",
    "\n",
    "for i in range(int(N/2)):\n",
    "    \n",
    "    ra_samps2[i], dec_samps2[i] = all_sky_transform_new(cube[i,:])"
   ]
  },
  {
   "cell_type": "code",
   "execution_count": 60,
   "id": "alpha-brave",
   "metadata": {},
   "outputs": [
    {
     "data": {
      "image/png": "[encoded data removed]",
      "text/plain": [
       "<Figure size 640x480 with 1 Axes>"
      ]
     },
     "metadata": {},
     "output_type": "display_data"
    }
   ],
   "source": [
    "#plt.hist(ndec_samps2)\n",
    "_ = plt.hist(np.sin(dec_samps1))\n"
   ]
  },
  {
   "cell_type": "code",
   "execution_count": 53,
   "id": "bizarre-mumbai",
   "metadata": {},
   "outputs": [
    {
     "data": {
      "image/png": "[encoded data removed]",
      "text/plain": [
       "<Figure size 640x480 with 1 Axes>"
      ]
     },
     "metadata": {},
     "output_type": "display_data"
    }
   ],
   "source": [
    "#-- plotting the molleweide projection\n",
    "\n",
    "fig = plt.figure()\n",
    "ax = fig.add_subplot(111, projection='mollweide')\n",
    "\n",
    "Lon,Lat = np.meshgrid(ra_samps1*180/np.pi, dec_samps1*180/np.pi)\n",
    "\n",
    "ax.scatter(Lon, Lat, marker='.', c='dodgerblue')\n",
    "plt.suptitle('After transforming into sine')\n",
    "plt.show()"
   ]
  },
  {
   "cell_type": "code",
   "execution_count": 36,
   "id": "handmade-hardwood",
   "metadata": {},
   "outputs": [
    {
     "data": {
      "image/png": "[encoded data removed]",
      "text/plain": [
       "<Figure size 640x480 with 1 Axes>"
      ]
     },
     "metadata": {},
     "output_type": "display_data"
    }
   ],
   "source": [
    "#-- plotting the molleweide projection\n",
    "\n",
    "fig = plt.figure()\n",
    "ax = fig.add_subplot(111, projection='mollweide')\n",
    "\n",
    "Lon,Lat = np.meshgrid(ra_samps2*180/np.pi, dec_samps2*180/np.pi)\n",
    "\n",
    "ax.scatter(Lon, Lat, marker='.', c='dodgerblue')\n",
    "plt.suptitle('Without Transforming into sine')\n",
    "plt.show()"
   ]
  }
 ],
 "metadata": {
  "kernelspec": {
   "display_name": "pycbc_env",
   "language": "python",
   "name": "pycbc_env"
  },
  "language_info": {
   "codemirror_mode": {
    "name": "ipython",
    "version": 3
   },
   "file_extension": ".py",
   "mimetype": "text/x-python",
   "name": "python",
   "nbconvert_exporter": "python",
   "pygments_lexer": "ipython3",
   "version": "3.8.5"
  }
 },
 "nbformat": 4,
 "nbformat_minor": 5
}
