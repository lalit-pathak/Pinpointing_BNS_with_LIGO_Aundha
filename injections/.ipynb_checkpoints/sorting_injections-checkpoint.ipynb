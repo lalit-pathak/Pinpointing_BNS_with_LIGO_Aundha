{
 "cells": [
  {
   "cell_type": "markdown",
   "id": "lyric-geology",
   "metadata": {},
   "source": [
    "### $\\Rightarrow$ Here, we sort the GW injections stored in 'injections_L1H1V1K1_iota_30deg_680Mpc.txt' file, in an ascending order to extracting the GW events with Network optimal SNR values 20 to 25 in the GW network [L1, H1, V1, K1 detectors]."
   ]
  },
  {
   "cell_type": "code",
   "execution_count": 1,
   "id": "independent-cameroon",
   "metadata": {},
   "outputs": [],
   "source": [
    "#-- import modules --\n",
    "\n",
    "import numpy as np\n",
    "import matplotlib.pyplot as plt\n",
    "import h5py"
   ]
  },
  {
   "cell_type": "markdown",
   "id": "indie-enemy",
   "metadata": {},
   "source": [
    "### $\\rightarrow$ Part 1:"
   ]
  },
  {
   "cell_type": "code",
   "execution_count": 5,
   "id": "partial-sharp",
   "metadata": {},
   "outputs": [],
   "source": [
    "#-- loading the basic injection file--\n",
    "\n",
    "data = np.loadtxt('injections_L1H1V1K1_iota_30deg_680Mpc.txt')"
   ]
  },
  {
   "cell_type": "code",
   "execution_count": 6,
   "id": "hairy-faith",
   "metadata": {},
   "outputs": [
    {
     "data": {
      "text/plain": [
       "(1000, 10)"
      ]
     },
     "execution_count": 6,
     "metadata": {},
     "output_type": "execute_result"
    }
   ],
   "source": [
    "data.shape"
   ]
  },
  {
   "cell_type": "code",
   "execution_count": 7,
   "id": "worthy-inflation",
   "metadata": {},
   "outputs": [
    {
     "data": {
      "text/plain": [
       "(1000, 10)"
      ]
     },
     "execution_count": 7,
     "metadata": {},
     "output_type": "execute_result"
    }
   ],
   "source": [
    "#-- sorting the 'data' according to the Net_SNR column (data[:, 9]) (arguments) --\n",
    "idx = data[:, 9].argsort()\n",
    "\n",
    "#-- creating a multidim numpy array with injections sorted by Net_SNR --\n",
    "\n",
    "data_sort = data[idx]\n",
    "\n",
    "data_sort.shape"
   ]
  },
  {
   "cell_type": "markdown",
   "id": "downtown-vietnamese",
   "metadata": {},
   "source": [
    "### $\\rightarrow$ Part 2: Note that this part is not necessary, it is just that this part was done initially keeping in mind a broader SNR range, which was later reduced [SNR upto 25] and the entire analysis was done with the file generated using Part 2 but only first 500 injections were taken in the main analysis to abide to our final network optimal SNR range of [20, 25]"
   ]
  },
  {
   "cell_type": "code",
   "execution_count": 8,
   "id": "limiting-spokesman",
   "metadata": {},
   "outputs": [],
   "source": [
    "#-- sorting the new sorted data \"data_sort\" with Net_SNR values less than 41 (i.e 20 <= Net_SNR <= 40)\n",
    "\n",
    "net_snr = data_sort[:, 9].flatten()\n",
    "snr_lim_idx = np.where(net_snr < 41.0)[0]"
   ]
  },
  {
   "cell_type": "code",
   "execution_count": null,
   "id": "chicken-pitch",
   "metadata": {},
   "outputs": [],
   "source": [
    "print(len(snr_lim_idx))\n",
    "\n",
    "print(net_snr)"
   ]
  },
  {
   "cell_type": "code",
   "execution_count": 10,
   "id": "hollow-european",
   "metadata": {},
   "outputs": [],
   "source": [
    "#-- creating & storing new data \"data_new\" file which injections sorted with NET_SNR ranging from 20 to 40 --\n",
    "\n",
    "data_new = data_sort[snr_lim_idx]\n",
    "\n",
    "np.savetxt('injections_Net_SNR_20_to_40_L1H1V1K1.txt', data_new, fmt=['%.15f', '%.17f','%.14f' ,'%.17f' , '%d ', '%.15f' ,'%.15f' ,'%.15f' ,'%.15f',\\\n",
    "                                                                       '%.14f'])"
   ]
  },
  {
   "cell_type": "markdown",
   "id": "interpreted-journalist",
   "metadata": {},
   "source": [
    "### $\\rightarrow$ Part 3: One can directly jump to this part after Part 1"
   ]
  },
  {
   "cell_type": "code",
   "execution_count": 14,
   "id": "suffering-volume",
   "metadata": {},
   "outputs": [],
   "source": [
    "#-- choosing the first 500 injections from \"data_sort\" which will give us 500 BNS events with network SNR as : 20 < Network SNR < 25 --\n",
    "\n",
    "data_main = data_sort[:500]\n",
    "\n",
    "np.savetxt('injections_Net_SNR_20_to_25_L1H1V1K1.txt', data_main, fmt=['%.15f', '%.17f','%.14f' ,'%.17f' , '%d ', '%.15f' ,'%.15f' ,'%.15f' ,'%.15f',\\\n",
    "                                                                       '%.14f'])"
   ]
  }
 ],
 "metadata": {
  "kernelspec": {
   "display_name": "pycbc_env",
   "language": "python",
   "name": "pycbc_env"
  },
  "language_info": {
   "codemirror_mode": {
    "name": "ipython",
    "version": 3
   },
   "file_extension": ".py",
   "mimetype": "text/x-python",
   "name": "python",
   "nbconvert_exporter": "python",
   "pygments_lexer": "ipython3",
   "version": "3.8.5"
  }
 },
 "nbformat": 4,
 "nbformat_minor": 5
}
